{
 "cells": [
  {
   "cell_type": "markdown",
   "id": "c0d90a7a",
   "metadata": {},
   "source": [
    "# \"Smart\" Gesture Recognition\n",
    "\n",
    "\n",
    "**Business Proposal**\n",
    "\n",
    "Nowadays, technology has a pivotal role in creating virtual environments with virtual elements. We work collaboratively with real-world intelligent objects on a day-to-day basis. Innovations like the Internet of things (IoT) products, gesture recognition, and teleportation application have certainly made our life \"smarter\" and more accessible.   \n",
    "\n",
    "\n",
    "Embracing an \"implementing a smarter life\" mindset, Team College aims to develop a cool feature in the smart TV that can recognize five different gestures performed by the user to help users control the TV without using a remote. Based on this dataset, Team College wants to develop a well-rounded deep learning gesture recognition model which has applications in a spectrum of different industries beyond smart-TV. \n",
    "\n",
    "**Dataset Description**\n",
    "The data consists of a few hundred videos categorized into five classes: thumb up, thumb down, swipe left, swipe right, stop. The webcam mounted on the TV continuously monitors the gestures. Each motion corresponds to a specific command:    \n",
    " \n",
    "| Gesture | Corresponding Action |\n",
    "| --- | --- | \n",
    "| Thumbs Up | Increase the volume. |\n",
    "| Thumbs Down | Decrease the volume. |\n",
    "| Left Swipe | 'Jump' backwards 10 seconds. |\n",
    "| Right Swipe | 'Jump' forward 10 seconds. |\n",
    "| Stop | Pause the movie. |\n",
    "\n",
    "The training data consists of 19,890 images (663*30): there are 663 videos categorized into one of the five classes. Each video (typically 2-3 seconds long) is divided into a sequence of 30 frames(images). The testing data consists of a total of 3,000 images.\t  \n",
    "\n",
    "Various people have recorded these videos performing one of the five gestures in front of a webcam - like what the smart TV will use. Specifically, videos have two types of dimensions - either 360x360 or 120x160 (depending on the webcam used to record the videos) \n",
    "\n",
    "### Team College Objectives:\n",
    "1. **Data Preprocessing_Generator Establishment**:  Team College aim to build a function called \"Generator\" so that this fuction should be able to take a batch of videos as input without any error. Steps like cropping, resizing and normalization should be performed successfully.\n",
    "\n",
    "2. **Experimentation _ Model Architecture**: Team College aim to develop the best model that is able to train with high accuracy and without any errors. To achieve the goal, Conv3D with Maxpolling 3D, RNN, CNN LSTM with GRU (for augmentation) models will be used to tackle the problem. \n",
    "\n",
    "3. **Best Performing Model**: Further Development and Tryouts such as Generative Adversarial Networks (GAN) , Different Batch Size, Learning Rate and tansfer learning method will be applied to design the best performing Model."
   ]
  },
  {
   "cell_type": "markdown",
   "id": "e3fbc982",
   "metadata": {},
   "source": [
    "# Housekeeping Setup"
   ]
  },
  {
   "cell_type": "markdown",
   "id": "6dfbdd4b",
   "metadata": {},
   "source": [
    "## Prerequisite: install and import libraries"
   ]
  },
  {
   "cell_type": "code",
   "execution_count": 1,
   "id": "dc6c12f7",
   "metadata": {
    "scrolled": true
   },
   "outputs": [
    {
     "name": "stdout",
     "output_type": "stream",
     "text": [
      "Requirement already satisfied: tensorflow in ./.penv/lib/python3.8/site-packages (2.8.0)\n",
      "Requirement already satisfied: keras<2.9,>=2.8.0rc0 in ./.penv/lib/python3.8/site-packages (from tensorflow) (2.8.0)\n",
      "Requirement already satisfied: tensorflow-io-gcs-filesystem>=0.23.1 in ./.penv/lib/python3.8/site-packages (from tensorflow) (0.24.0)\n",
      "Requirement already satisfied: gast>=0.2.1 in ./.penv/lib/python3.8/site-packages (from tensorflow) (0.5.3)\n",
      "Requirement already satisfied: grpcio<2.0,>=1.24.3 in ./.penv/lib/python3.8/site-packages (from tensorflow) (1.44.0)\n",
      "Requirement already satisfied: numpy>=1.20 in ./.penv/lib/python3.8/site-packages (from tensorflow) (1.22.3)\n",
      "Requirement already satisfied: absl-py>=0.4.0 in ./.penv/lib/python3.8/site-packages (from tensorflow) (1.0.0)\n",
      "Requirement already satisfied: flatbuffers>=1.12 in ./.penv/lib/python3.8/site-packages (from tensorflow) (2.0)\n",
      "Requirement already satisfied: tf-estimator-nightly==2.8.0.dev2021122109 in ./.penv/lib/python3.8/site-packages (from tensorflow) (2.8.0.dev2021122109)\n",
      "Requirement already satisfied: wrapt>=1.11.0 in ./.penv/lib/python3.8/site-packages (from tensorflow) (1.14.0)\n",
      "Requirement already satisfied: libclang>=9.0.1 in ./.penv/lib/python3.8/site-packages (from tensorflow) (13.0.0)\n",
      "Requirement already satisfied: h5py>=2.9.0 in ./.penv/lib/python3.8/site-packages (from tensorflow) (3.6.0)\n",
      "Requirement already satisfied: protobuf>=3.9.2 in ./.penv/lib/python3.8/site-packages (from tensorflow) (3.19.4)\n",
      "Requirement already satisfied: termcolor>=1.1.0 in ./.penv/lib/python3.8/site-packages (from tensorflow) (1.1.0)\n",
      "Requirement already satisfied: typing-extensions>=3.6.6 in ./.penv/lib/python3.8/site-packages (from tensorflow) (4.1.1)\n",
      "Requirement already satisfied: setuptools in ./.penv/lib/python3.8/site-packages (from tensorflow) (60.8.2)\n",
      "Requirement already satisfied: opt-einsum>=2.3.2 in ./.penv/lib/python3.8/site-packages (from tensorflow) (3.3.0)\n",
      "Requirement already satisfied: tensorboard<2.9,>=2.8 in ./.penv/lib/python3.8/site-packages (from tensorflow) (2.8.0)\n",
      "Requirement already satisfied: google-pasta>=0.1.1 in ./.penv/lib/python3.8/site-packages (from tensorflow) (0.2.0)\n",
      "Requirement already satisfied: astunparse>=1.6.0 in ./.penv/lib/python3.8/site-packages (from tensorflow) (1.6.3)\n",
      "Requirement already satisfied: keras-preprocessing>=1.1.1 in ./.penv/lib/python3.8/site-packages (from tensorflow) (1.1.2)\n",
      "Requirement already satisfied: six>=1.12.0 in ./.penv/lib/python3.8/site-packages (from tensorflow) (1.15.0)\n",
      "Requirement already satisfied: wheel<1.0,>=0.23.0 in ./.penv/lib/python3.8/site-packages (from astunparse>=1.6.0->tensorflow) (0.37.1)\n",
      "Requirement already satisfied: google-auth-oauthlib<0.5,>=0.4.1 in ./.penv/lib/python3.8/site-packages (from tensorboard<2.9,>=2.8->tensorflow) (0.4.6)\n",
      "Requirement already satisfied: tensorboard-data-server<0.7.0,>=0.6.0 in ./.penv/lib/python3.8/site-packages (from tensorboard<2.9,>=2.8->tensorflow) (0.6.1)\n",
      "Requirement already satisfied: requests<3,>=2.21.0 in ./.penv/lib/python3.8/site-packages (from tensorboard<2.9,>=2.8->tensorflow) (2.27.1)\n",
      "Requirement already satisfied: markdown>=2.6.8 in ./.penv/lib/python3.8/site-packages (from tensorboard<2.9,>=2.8->tensorflow) (3.3.6)\n",
      "Requirement already satisfied: google-auth<3,>=1.6.3 in ./.penv/lib/python3.8/site-packages (from tensorboard<2.9,>=2.8->tensorflow) (2.6.2)\n",
      "Requirement already satisfied: tensorboard-plugin-wit>=1.6.0 in ./.penv/lib/python3.8/site-packages (from tensorboard<2.9,>=2.8->tensorflow) (1.8.1)\n",
      "Requirement already satisfied: werkzeug>=0.11.15 in ./.penv/lib/python3.8/site-packages (from tensorboard<2.9,>=2.8->tensorflow) (2.0.3)\n",
      "Requirement already satisfied: cachetools<6.0,>=2.0.0 in ./.penv/lib/python3.8/site-packages (from google-auth<3,>=1.6.3->tensorboard<2.9,>=2.8->tensorflow) (5.0.0)\n",
      "Requirement already satisfied: pyasn1-modules>=0.2.1 in ./.penv/lib/python3.8/site-packages (from google-auth<3,>=1.6.3->tensorboard<2.9,>=2.8->tensorflow) (0.2.8)\n",
      "Requirement already satisfied: rsa<5,>=3.1.4 in ./.penv/lib/python3.8/site-packages (from google-auth<3,>=1.6.3->tensorboard<2.9,>=2.8->tensorflow) (4.8)\n",
      "Requirement already satisfied: requests-oauthlib>=0.7.0 in ./.penv/lib/python3.8/site-packages (from google-auth-oauthlib<0.5,>=0.4.1->tensorboard<2.9,>=2.8->tensorflow) (1.3.1)\n",
      "Requirement already satisfied: importlib-metadata>=4.4 in ./.penv/lib/python3.8/site-packages (from markdown>=2.6.8->tensorboard<2.9,>=2.8->tensorflow) (4.11.3)\n",
      "Requirement already satisfied: urllib3<1.27,>=1.21.1 in ./.penv/lib/python3.8/site-packages (from requests<3,>=2.21.0->tensorboard<2.9,>=2.8->tensorflow) (1.26.9)\n",
      "Requirement already satisfied: charset-normalizer~=2.0.0 in ./.penv/lib/python3.8/site-packages (from requests<3,>=2.21.0->tensorboard<2.9,>=2.8->tensorflow) (2.0.12)\n",
      "Requirement already satisfied: certifi>=2017.4.17 in ./.penv/lib/python3.8/site-packages (from requests<3,>=2.21.0->tensorboard<2.9,>=2.8->tensorflow) (2021.10.8)\n",
      "Requirement already satisfied: idna<4,>=2.5 in ./.penv/lib/python3.8/site-packages (from requests<3,>=2.21.0->tensorboard<2.9,>=2.8->tensorflow) (3.3)\n",
      "Requirement already satisfied: zipp>=0.5 in ./.penv/lib/python3.8/site-packages (from importlib-metadata>=4.4->markdown>=2.6.8->tensorboard<2.9,>=2.8->tensorflow) (3.7.0)\n",
      "Requirement already satisfied: pyasn1<0.5.0,>=0.4.6 in ./.penv/lib/python3.8/site-packages (from pyasn1-modules>=0.2.1->google-auth<3,>=1.6.3->tensorboard<2.9,>=2.8->tensorflow) (0.4.8)\n",
      "Requirement already satisfied: oauthlib>=3.0.0 in ./.penv/lib/python3.8/site-packages (from requests-oauthlib>=0.7.0->google-auth-oauthlib<0.5,>=0.4.1->tensorboard<2.9,>=2.8->tensorflow) (3.2.0)\n",
      "\u001b[33mWARNING: You are using pip version 21.3.1; however, version 22.0.4 is available.\n",
      "You should consider upgrading via the '/Users/andrng/Desktop/learning/mmai/MMAI 894 - Deep Learning/assignment/team/trial 3/.penv/bin/python -m pip install --upgrade pip' command.\u001b[0m\n",
      "Note: you may need to restart the kernel to use updated packages.\n"
     ]
    }
   ],
   "source": [
    "pip install tensorflow"
   ]
  },
  {
   "cell_type": "code",
   "execution_count": 2,
   "id": "e7686ff3",
   "metadata": {},
   "outputs": [
    {
     "name": "stdout",
     "output_type": "stream",
     "text": [
      "Requirement already satisfied: scikit-image in ./.penv/lib/python3.8/site-packages (0.19.2)\n",
      "Requirement already satisfied: scipy>=1.4.1 in ./.penv/lib/python3.8/site-packages (from scikit-image) (1.8.0)\n",
      "Requirement already satisfied: packaging>=20.0 in ./.penv/lib/python3.8/site-packages (from scikit-image) (21.3)\n",
      "Requirement already satisfied: tifffile>=2019.7.26 in ./.penv/lib/python3.8/site-packages (from scikit-image) (2022.3.16)\n",
      "Requirement already satisfied: PyWavelets>=1.1.1 in ./.penv/lib/python3.8/site-packages (from scikit-image) (1.3.0)\n",
      "Requirement already satisfied: numpy>=1.17.0 in ./.penv/lib/python3.8/site-packages (from scikit-image) (1.22.3)\n",
      "Requirement already satisfied: imageio>=2.4.1 in ./.penv/lib/python3.8/site-packages (from scikit-image) (2.16.1)\n",
      "Requirement already satisfied: networkx>=2.2 in ./.penv/lib/python3.8/site-packages (from scikit-image) (2.7.1)\n",
      "Requirement already satisfied: pillow!=7.1.0,!=7.1.1,!=8.3.0,>=6.1.0 in ./.penv/lib/python3.8/site-packages (from scikit-image) (9.0.1)\n",
      "Requirement already satisfied: pyparsing!=3.0.5,>=2.0.2 in ./.penv/lib/python3.8/site-packages (from packaging>=20.0->scikit-image) (3.0.7)\n",
      "\u001b[33mWARNING: You are using pip version 21.3.1; however, version 22.0.4 is available.\n",
      "You should consider upgrading via the '/Users/andrng/Desktop/learning/mmai/MMAI 894 - Deep Learning/assignment/team/trial 3/.penv/bin/python -m pip install --upgrade pip' command.\u001b[0m\n",
      "Note: you may need to restart the kernel to use updated packages.\n"
     ]
    }
   ],
   "source": [
    "pip install scikit-image"
   ]
  },
  {
   "cell_type": "code",
   "execution_count": 3,
   "id": "584b6b95",
   "metadata": {},
   "outputs": [
    {
     "name": "stdout",
     "output_type": "stream",
     "text": [
      "Requirement already satisfied: imageio in ./.penv/lib/python3.8/site-packages (2.16.1)\n",
      "Requirement already satisfied: numpy>=1.20.0 in ./.penv/lib/python3.8/site-packages (from imageio) (1.22.3)\n",
      "Requirement already satisfied: pillow>=8.3.2 in ./.penv/lib/python3.8/site-packages (from imageio) (9.0.1)\n",
      "\u001b[33mWARNING: You are using pip version 21.3.1; however, version 22.0.4 is available.\n",
      "You should consider upgrading via the '/Users/andrng/Desktop/learning/mmai/MMAI 894 - Deep Learning/assignment/team/trial 3/.penv/bin/python -m pip install --upgrade pip' command.\u001b[0m\n",
      "Note: you may need to restart the kernel to use updated packages.\n"
     ]
    }
   ],
   "source": [
    "pip install imageio"
   ]
  },
  {
   "cell_type": "code",
   "execution_count": 4,
   "id": "d2ec625a",
   "metadata": {},
   "outputs": [
    {
     "name": "stdout",
     "output_type": "stream",
     "text": [
      "Requirement already satisfied: opencv-python in ./.penv/lib/python3.8/site-packages (4.5.5.64)\n",
      "Requirement already satisfied: numpy>=1.14.5 in ./.penv/lib/python3.8/site-packages (from opencv-python) (1.22.3)\n",
      "\u001b[33mWARNING: You are using pip version 21.3.1; however, version 22.0.4 is available.\n",
      "You should consider upgrading via the '/Users/andrng/Desktop/learning/mmai/MMAI 894 - Deep Learning/assignment/team/trial 3/.penv/bin/python -m pip install --upgrade pip' command.\u001b[0m\n",
      "Note: you may need to restart the kernel to use updated packages.\n"
     ]
    }
   ],
   "source": [
    "pip install opencv-python"
   ]
  },
  {
   "cell_type": "code",
   "execution_count": 5,
   "id": "81e3901a",
   "metadata": {},
   "outputs": [
    {
     "name": "stdout",
     "output_type": "stream",
     "text": [
      "Requirement already satisfied: matplotlib in ./.penv/lib/python3.8/site-packages (3.5.1)\n",
      "Requirement already satisfied: pyparsing>=2.2.1 in ./.penv/lib/python3.8/site-packages (from matplotlib) (3.0.7)\n",
      "Requirement already satisfied: numpy>=1.17 in ./.penv/lib/python3.8/site-packages (from matplotlib) (1.22.3)\n",
      "Requirement already satisfied: packaging>=20.0 in ./.penv/lib/python3.8/site-packages (from matplotlib) (21.3)\n",
      "Requirement already satisfied: cycler>=0.10 in ./.penv/lib/python3.8/site-packages (from matplotlib) (0.11.0)\n",
      "Requirement already satisfied: kiwisolver>=1.0.1 in ./.penv/lib/python3.8/site-packages (from matplotlib) (1.4.0)\n",
      "Requirement already satisfied: python-dateutil>=2.7 in ./.penv/lib/python3.8/site-packages (from matplotlib) (2.8.2)\n",
      "Requirement already satisfied: pillow>=6.2.0 in ./.penv/lib/python3.8/site-packages (from matplotlib) (9.0.1)\n",
      "Requirement already satisfied: fonttools>=4.22.0 in ./.penv/lib/python3.8/site-packages (from matplotlib) (4.30.0)\n",
      "Requirement already satisfied: six>=1.5 in ./.penv/lib/python3.8/site-packages (from python-dateutil>=2.7->matplotlib) (1.15.0)\n",
      "\u001b[33mWARNING: You are using pip version 21.3.1; however, version 22.0.4 is available.\n",
      "You should consider upgrading via the '/Users/andrng/Desktop/learning/mmai/MMAI 894 - Deep Learning/assignment/team/trial 3/.penv/bin/python -m pip install --upgrade pip' command.\u001b[0m\n",
      "Note: you may need to restart the kernel to use updated packages.\n"
     ]
    }
   ],
   "source": [
    "pip install matplotlib"
   ]
  },
  {
   "cell_type": "code",
   "execution_count": 6,
   "id": "fb19f605",
   "metadata": {},
   "outputs": [],
   "source": [
    "from sys import getsizeof\n",
    "from imageio import imread\n",
    "from keras import backend as K\n",
    "from keras.models import Sequential, Model\n",
    "from keras.layers import Dense, GRU, Flatten, TimeDistributed, Flatten, BatchNormalization, Activation\n",
    "from keras.layers.convolutional import Conv3D, MaxPooling3D, Conv2D, MaxPooling2D\n",
    "from keras.layers.recurrent import LSTM\n",
    "from keras.callbacks import ModelCheckpoint, ReduceLROnPlateau, EarlyStopping\n",
    "from keras import optimizers\n",
    "from keras.layers import Dropout\n",
    "from skimage.transform import resize\n",
    "\n",
    "import abc\n",
    "import cv2\n",
    "import datetime\n",
    "import matplotlib.pyplot as plt\n",
    "%matplotlib inline\n",
    "import numpy as np\n",
    "import os\n",
    "import random as rn\n",
    "import tensorflow as tf\n",
    "import warnings\n",
    "warnings.filterwarnings(\"ignore\")"
   ]
  },
  {
   "cell_type": "markdown",
   "id": "a9d01f9d",
   "metadata": {},
   "source": [
    "Setp for GPU check, if you have it, lucky you; ifelse, this might take some time to compute :)"
   ]
  },
  {
   "cell_type": "code",
   "execution_count": 7,
   "id": "29011358",
   "metadata": {},
   "outputs": [
    {
     "name": "stdout",
     "output_type": "stream",
     "text": [
      "Num GPUs Available:  0\n"
     ]
    }
   ],
   "source": [
    "print(\"Num GPUs Available: \", len(tf.config.list_physical_devices('GPU')))"
   ]
  },
  {
   "cell_type": "markdown",
   "id": "dc4879ec",
   "metadata": {},
   "source": [
    "We set the random seed as 28 to ensure the steady outcome"
   ]
  },
  {
   "cell_type": "code",
   "execution_count": 8,
   "id": "0d31860e",
   "metadata": {},
   "outputs": [],
   "source": [
    "np.random.seed(28)\n",
    "rn.seed(28)\n",
    "tf.random.set_seed(28)"
   ]
  },
  {
   "cell_type": "code",
   "execution_count": 9,
   "id": "93a94619",
   "metadata": {},
   "outputs": [],
   "source": [
    "project_folder='./Project_data'"
   ]
  },
  {
   "cell_type": "markdown",
   "id": "eb3f0f8e",
   "metadata": {},
   "source": [
    "Generic plot function"
   ]
  },
  {
   "cell_type": "code",
   "execution_count": 10,
   "id": "dbaa6ec2",
   "metadata": {},
   "outputs": [],
   "source": [
    "def plot(history):\n",
    "    fig, axes = plt.subplots(nrows=1, ncols=2, figsize=(15,4))\n",
    "    axes[0].plot(history.history['loss'])   \n",
    "    axes[0].plot(history.history['val_loss'])\n",
    "    axes[0].grid()\n",
    "    axes[0].legend(['loss','val_loss'])\n",
    "    axes[1].plot(history.history['categorical_accuracy'])   \n",
    "    axes[1].plot(history.history['val_categorical_accuracy'])\n",
    "    axes[1].grid()\n",
    "    axes[1].legend(['categorical_accuracy','val_categorical_accuracy'])\n",
    "    \n",
    "    print(\"Max. Training Accuracy\", max(history.history['categorical_accuracy']))\n",
    "    print(\"Max. Validaiton Accuracy\", max(history.history['val_categorical_accuracy']))"
   ]
  },
  {
   "cell_type": "markdown",
   "id": "265f7594",
   "metadata": {},
   "source": [
    "# 1. Generator"
   ]
  },
  {
   "cell_type": "markdown",
   "id": "eb8e4694",
   "metadata": {},
   "source": [
    "## 1.1 Load Data under `initialize_path()`\n",
    "\n",
    "- No. training sequences = 530\n",
    "- No. validation sequences = 133\n",
    "- No. testing sequences = 100\n",
    "\n",
    "train-val-test = 70% - 17% - 13%"
   ]
  },
  {
   "cell_type": "markdown",
   "id": "cba5acfe",
   "metadata": {},
   "source": [
    "## 1.2 Data EDA\n",
    "Sample train and val dataset display as follow:\n",
    "- train_doc contains 662 datapoints\n",
    "- val-doc contains 100 datapoints"
   ]
  },
  {
   "cell_type": "markdown",
   "id": "e7535ffe",
   "metadata": {},
   "source": [
    "## 1.3 Data Preprocessing \n",
    "Following steps are followed:\n",
    "1. Resized the image and cropped smaller image shape at center for 120*120\n",
    "2. Normalized Images\n",
    "3. Built 3D and 2D filter function <font color=red>(going to add it soon!)</font>\n",
    "4. Established function to get batch data for preprocessing Convo3D"
   ]
  },
  {
   "cell_type": "markdown",
   "id": "309fda7c",
   "metadata": {},
   "source": [
    "## 1.4 Generator Establishment under `generator()`\n",
    "Since the dataset contains 2 types of dimensions, a \"generator\" is build to preprocess the images for `2D` and `3D` dimensions, as well as create `a batch of video frames`. We experiment with `img_idx`, `y`,`z` and normalization such that to achieve a high accuracy outcome."
   ]
  },
  {
   "cell_type": "markdown",
   "id": "02b7fd9b",
   "metadata": {},
   "source": [
    "Note: a video is represented above in the generator as (number of images, height, width, number of channels)"
   ]
  },
  {
   "cell_type": "markdown",
   "id": "953d3fba",
   "metadata": {},
   "source": [
    "## 1.5 Model Callbacks Setup with CheckPoint, Earlystop & Tensorboard Callbacks"
   ]
  },
  {
   "cell_type": "code",
   "execution_count": 11,
   "id": "7f2c29e8",
   "metadata": {},
   "outputs": [],
   "source": [
    "class ModelBuilder(metaclass= abc.ABCMeta):\n",
    "    # initialisng the path where project data resides\n",
    "    def initialize_path(self,project_folder):\n",
    "        self.train_doc = np.random.permutation(open(project_folder + '/' + 'train.csv').readlines())\n",
    "        self.test_doc = np.random.permutation(open(project_folder + '/' + 'test.csv').readlines())\n",
    "        self.val_doc = np.random.permutation(open(project_folder + '/' + 'val.csv').readlines())\n",
    "        self.train_path = project_folder + '/' + 'train'\n",
    "        self.test_path = project_folder + '/' + 'test'\n",
    "        self.val_path =  project_folder + '/' + 'val'\n",
    "        self.num_train_sequences = len(self.train_doc)\n",
    "        self.num_test_sequences = len(self.test_doc)\n",
    "        self.num_val_sequences = len(self.val_doc)\n",
    "    # initialising the image properties    \n",
    "    def initialize_image_properties(self,image_height=100,image_width=100):\n",
    "        self.image_height=image_height\n",
    "        self.image_width=image_width\n",
    "        self.channels=3\n",
    "        self.num_classes=5\n",
    "        self.total_frames=30\n",
    "    # initialising the batch size, frames to sample and the no. of epochs\n",
    "    def initialize_hyperparams(self,frames_to_sample=16,batch_size=8,num_epochs=20):\n",
    "        self.frames_to_sample=frames_to_sample\n",
    "        self.batch_size=batch_size\n",
    "        self.num_epochs=num_epochs\n",
    "       \n",
    "    # MOST IMPORTANT PART HERE - The generator function        \n",
    "    def generator(self,source_path, folder_list, augment=False, more_augment=False):\n",
    "        img_idx = np.round(np.linspace(0,self.total_frames-1,self.frames_to_sample)).astype(int)\n",
    "        batch_size=self.batch_size\n",
    "        while True:\n",
    "            t = np.random.permutation(folder_list)\n",
    "            num_batches = len(t)//batch_size\n",
    "        \n",
    "            for batch in range(num_batches): \n",
    "                batch_data, batch_labels= self.one_batch_data(source_path,t,batch,batch_size,img_idx,augment,more_augment)\n",
    "                yield batch_data, batch_labels \n",
    "\n",
    "            remaining_seq=len(t)%batch_size\n",
    "        \n",
    "            if (remaining_seq != 0):\n",
    "                batch_data, batch_labels= self.one_batch_data(source_path,t,num_batches,batch_size,img_idx,augment,more_augment,remaining_seq)\n",
    "                yield batch_data, batch_labels \n",
    "    \n",
    "    \n",
    "    def one_batch_data(self,source_path,t,batch,batch_size,img_idx,augment,more_augment,remaining_seq=0):\n",
    "    \n",
    "        seq_len = remaining_seq if remaining_seq else batch_size\n",
    "    \n",
    "        batch_data = np.zeros((seq_len,len(img_idx),self.image_height,self.image_width,self.channels)) \n",
    "        batch_labels = np.zeros((seq_len,self.num_classes)) \n",
    "    \n",
    "        if (augment): batch_data_aug = np.zeros((seq_len,len(img_idx),self.image_height,self.image_width,self.channels))\n",
    "\n",
    "        \n",
    "        for folder in range(seq_len): \n",
    "            imgs = os.listdir(source_path+'/'+ t[folder + (batch*batch_size)].split(',')[0]) \n",
    "            for idx,item in enumerate(img_idx):\n",
    "                #performing image reading and resizing\n",
    "                image = imread(source_path+'/'+ t[folder + (batch*batch_size)].strip().split(',')[0]+'/'+imgs[item]).astype(np.float32)\n",
    "                image_resized=resize(image,(self.image_height,self.image_width,3))\n",
    "            \n",
    "                #normalizing the images\n",
    "                batch_data[folder,idx,:,:,0] = (image_resized[:,:,0])/255\n",
    "                batch_data[folder,idx,:,:,1] = (image_resized[:,:,1])/255\n",
    "                batch_data[folder,idx,:,:,2] = (image_resized[:,:,2])/255\n",
    "            \n",
    "                if (augment):\n",
    "                    shifted = cv2.warpAffine(image, \n",
    "                                             np.float32([[1, 0, np.random.randint(-30,30)],[0, 1, np.random.randint(-30,30)]]), \n",
    "                                            (image.shape[1], image.shape[0]))\n",
    "                    \n",
    "                    gray = cv2.cvtColor(shifted,cv2.COLOR_BGR2GRAY)\n",
    "\n",
    "                    x0, y0 = np.argwhere(gray > 0).min(axis=0)\n",
    "                    x1, y1 = np.argwhere(gray > 0).max(axis=0) \n",
    "                    # cropping the images to have the targeted gestures and remove the noise from the images.\n",
    "                    cropped=shifted[x0:x1,y0:y1,:]\n",
    "                    \n",
    "                    image_resized=resize(cropped,(self.image_height,self.image_width,3))                \n",
    "                    \n",
    "                    batch_data_aug[folder,idx,:,:,0] = (image_resized[:,:,0])/255\n",
    "                    batch_data_aug[folder,idx,:,:,1] = (image_resized[:,:,1])/255\n",
    "                    batch_data_aug[folder,idx,:,:,2] = (image_resized[:,:,2])/255\n",
    "                    \n",
    "                    if(more_augment):\n",
    "                        M = cv2.getRotationMatrix2D((self.image_width//2,self.image_height//2),\n",
    "                                                    np.random.randint(-10,10), 1.0)\n",
    "                        rotated = cv2.warpAffine(image_resized, M, (self.image_width, self.image_height))                    \n",
    "\n",
    "                        batch_data_aug[folder,idx,:,:,0] = (rotated[:,:,0])/255\n",
    "                        batch_data_aug[folder,idx,:,:,1] = (rotated[:,:,1])/255\n",
    "                        batch_data_aug[folder,idx,:,:,2] = (rotated[:,:,2])/255\n",
    "                \n",
    "            \n",
    "            batch_labels[folder, int(t[folder + (batch*batch_size)].strip().split(',')[2])] = 1\n",
    "            \n",
    "    \n",
    "        if (augment):\n",
    "            batch_data=np.concatenate([batch_data,batch_data_aug])\n",
    "            batch_labels=np.concatenate([batch_labels,batch_labels])\n",
    "\n",
    "        \n",
    "        return(batch_data,batch_labels)\n",
    "    \n",
    "    \n",
    "    def train_model(self, model, augment_data=False, more_augment=False, early_stop=False):\n",
    "        train_generator = self.generator(self.train_path, self.train_doc,augment=augment_data,more_augment=more_augment)\n",
    "        val_generator = self.generator(self.val_path, self.val_doc)\n",
    "\n",
    "        model_name = 'model_init' + '_' + str(datetime.datetime.now()).replace(' ','').replace(':','_') + '/'\n",
    "    \n",
    "        if not os.path.exists(model_name):\n",
    "            os.mkdir(model_name)\n",
    "        \n",
    "        filepath = model_name + 'model-{epoch:05d}-{loss:.5f}-{categorical_accuracy:.5f}-{val_loss:.5f}-{val_categorical_accuracy:.5f}.h5'\n",
    "\n",
    "        checkpoint = ModelCheckpoint(filepath, monitor='val_loss', verbose=1, save_best_only=False, save_weights_only=False, mode='auto', period=1)\n",
    "        \n",
    "        if(early_stop):\n",
    "            checkpoint = ModelCheckpoint(filepath, monitor='val_loss', verbose=1, save_best_only=True, save_weights_only=False, mode='auto', period=1)\n",
    "        \n",
    "        LR = ReduceLROnPlateau(monitor='val_loss', factor=0.2, verbose=1, patience=4)\n",
    "        \n",
    "        earlystop = EarlyStopping( monitor=\"val_loss\", min_delta=0,patience=10,verbose=1)\n",
    "        callbacks_list = [checkpoint, LR]\n",
    "        \n",
    "        if(early_stop):\n",
    "            callbacks_list = [checkpoint, LR, earlystop]\n",
    "\n",
    "        if (self.num_train_sequences%self.batch_size) == 0:\n",
    "            steps_per_epoch = int(self.num_train_sequences/self.batch_size)\n",
    "        else:\n",
    "            steps_per_epoch = (self.num_train_sequences//self.batch_size) + 1\n",
    "\n",
    "        if (self.num_val_sequences%self.batch_size) == 0:\n",
    "            validation_steps = int(self.num_val_sequences/self.batch_size)\n",
    "        else:\n",
    "            validation_steps = (self.num_val_sequences//self.batch_size) + 1\n",
    "    \n",
    "        history=model.fit_generator(train_generator, steps_per_epoch=steps_per_epoch, epochs=self.num_epochs, verbose=1, \n",
    "                            callbacks=callbacks_list, validation_data=val_generator, \n",
    "                            validation_steps=validation_steps, class_weight=None, workers=1, initial_epoch=0)\n",
    "        return history\n",
    "\n",
    "        \n",
    "    @abc.abstractmethod\n",
    "    def define_model(self):\n",
    "        pass"
   ]
  },
  {
   "cell_type": "markdown",
   "id": "8aedc32f",
   "metadata": {},
   "source": [
    "# 2. Model"
   ]
  },
  {
   "cell_type": "markdown",
   "id": "3b326232",
   "metadata": {},
   "source": [
    "## Model Building\n",
    "Team College aim to develop the best model that is able to train with high accuracy and without any errors. To achieve the goal, following Models have been used for tryouts:\n",
    "\n",
    "1. `Conv3D` with `MaxPooling3D` for a 3D convolution model \n",
    "2. `TimeDistributed` while building a Conv2D + RNN model\n",
    "3. `Transfer Learning`\n",
    "\n",
    "Moreover, for each model, we set the last layer is the softmax so that the least number of parameters can fit in the memory of the webcam. Hence to perform a good accuracy on the least number of parameters."
   ]
  },
  {
   "cell_type": "markdown",
   "id": "d79a8be6",
   "metadata": {},
   "source": [
    "## A. Base model "
   ]
  },
  {
   "cell_type": "code",
   "execution_count": 16,
   "id": "feb53804",
   "metadata": {},
   "outputs": [],
   "source": [
    "class BaseModel(ModelBuilder):\n",
    "    def define_model(self, activation):\n",
    "        model = Sequential()\n",
    "        return model"
   ]
  },
  {
   "cell_type": "markdown",
   "id": "829361d3",
   "metadata": {},
   "source": [
    "<font color=red>Shuyi, please add the scenarios below</font>"
   ]
  },
  {
   "cell_type": "markdown",
   "id": "8328ea94",
   "metadata": {},
   "source": [
    "### A.1 Scenario 1"
   ]
  },
  {
   "cell_type": "markdown",
   "id": "7f2afecc",
   "metadata": {},
   "source": [
    "### A.2 Scenario 2"
   ]
  },
  {
   "cell_type": "markdown",
   "id": "c7693576",
   "metadata": {},
   "source": [
    "### A.3 Scenario 3"
   ]
  },
  {
   "cell_type": "markdown",
   "id": "a5aa2e85",
   "metadata": {},
   "source": [
    "### A.4 Scenario 4"
   ]
  },
  {
   "cell_type": "markdown",
   "id": "5345ea1b",
   "metadata": {},
   "source": [
    "### A.5 Scenario 5"
   ]
  },
  {
   "cell_type": "markdown",
   "id": "a0f33dd6",
   "metadata": {},
   "source": [
    "## B. Conv3D and MaxPooling3D model"
   ]
  },
  {
   "cell_type": "code",
   "execution_count": 22,
   "id": "3e58c812",
   "metadata": {},
   "outputs": [],
   "source": [
    "class ModelConv3D1(ModelBuilder):\n",
    "    \n",
    "    def define_model(self, activation='relu'):\n",
    "\n",
    "        model = Sequential()\n",
    "        model.add(Conv3D(16, (3, 3, 3), padding='same',\n",
    "                 input_shape=(self.frames_to_sample,self.image_height,self.image_width,self.channels)))\n",
    "        model.add(Activation(activation))\n",
    "        model.add(BatchNormalization())\n",
    "        model.add(MaxPooling3D(pool_size=(2, 2, 2)))\n",
    "\n",
    "        model.add(Conv3D(32, (2, 2, 2), padding='same'))\n",
    "        model.add(Activation(activation))\n",
    "        model.add(BatchNormalization())\n",
    "        model.add(MaxPooling3D(pool_size=(2, 2, 2)))\n",
    "\n",
    "        model.add(Conv3D(64, (2, 2, 2), padding='same'))\n",
    "        model.add(Activation(activation))\n",
    "        model.add(BatchNormalization())\n",
    "        model.add(MaxPooling3D(pool_size=(2, 2, 2)))\n",
    "\n",
    "        model.add(Conv3D(128, (2, 2, 2), padding='same'))\n",
    "        model.add(Activation(activation))\n",
    "        model.add(BatchNormalization())\n",
    "        model.add(MaxPooling3D(pool_size=(2, 2, 2)))\n",
    "\n",
    "        model.add(Flatten())\n",
    "        model.add(Dense(128,activation=activation))\n",
    "        model.add(BatchNormalization())\n",
    "        model.add(Dropout(0.5))\n",
    "\n",
    "        model.add(Dense(64,activation=activation))\n",
    "        model.add(BatchNormalization())\n",
    "        model.add(Dropout(0.25))\n",
    "\n",
    "\n",
    "        model.add(Dense(self.num_classes,activation='softmax'))\n",
    "\n",
    "        optimiser = tf.keras.optimizers.Adam()\n",
    "        #optimiser = 'sgd'\n",
    "        model.compile(optimizer=optimiser, loss='categorical_crossentropy', metrics=['categorical_accuracy'])\n",
    "        return model"
   ]
  },
  {
   "cell_type": "code",
   "execution_count": 13,
   "id": "125064b7",
   "metadata": {},
   "outputs": [
    {
     "name": "stderr",
     "output_type": "stream",
     "text": [
      "2022-03-18 10:06:27.123016: I tensorflow/core/platform/cpu_feature_guard.cc:151] This TensorFlow binary is optimized with oneAPI Deep Neural Network Library (oneDNN) to use the following CPU instructions in performance-critical operations:  AVX2 AVX512F FMA\n",
      "To enable them in other operations, rebuild TensorFlow with the appropriate compiler flags.\n"
     ]
    },
    {
     "name": "stdout",
     "output_type": "stream",
     "text": [
      "Model: \"sequential\"\n",
      "_________________________________________________________________\n",
      " Layer (type)                Output Shape              Param #   \n",
      "=================================================================\n",
      " conv3d (Conv3D)             (None, 16, 120, 120, 16)  1312      \n",
      "                                                                 \n",
      " activation (Activation)     (None, 16, 120, 120, 16)  0         \n",
      "                                                                 \n",
      " batch_normalization (BatchN  (None, 16, 120, 120, 16)  64       \n",
      " ormalization)                                                   \n",
      "                                                                 \n",
      " max_pooling3d (MaxPooling3D  (None, 8, 60, 60, 16)    0         \n",
      " )                                                               \n",
      "                                                                 \n",
      " conv3d_1 (Conv3D)           (None, 8, 60, 60, 32)     4128      \n",
      "                                                                 \n",
      " activation_1 (Activation)   (None, 8, 60, 60, 32)     0         \n",
      "                                                                 \n",
      " batch_normalization_1 (Batc  (None, 8, 60, 60, 32)    128       \n",
      " hNormalization)                                                 \n",
      "                                                                 \n",
      " max_pooling3d_1 (MaxPooling  (None, 4, 30, 30, 32)    0         \n",
      " 3D)                                                             \n",
      "                                                                 \n",
      " conv3d_2 (Conv3D)           (None, 4, 30, 30, 64)     16448     \n",
      "                                                                 \n",
      " activation_2 (Activation)   (None, 4, 30, 30, 64)     0         \n",
      "                                                                 \n",
      " batch_normalization_2 (Batc  (None, 4, 30, 30, 64)    256       \n",
      " hNormalization)                                                 \n",
      "                                                                 \n",
      " max_pooling3d_2 (MaxPooling  (None, 2, 15, 15, 64)    0         \n",
      " 3D)                                                             \n",
      "                                                                 \n",
      " conv3d_3 (Conv3D)           (None, 2, 15, 15, 128)    65664     \n",
      "                                                                 \n",
      " activation_3 (Activation)   (None, 2, 15, 15, 128)    0         \n",
      "                                                                 \n",
      " batch_normalization_3 (Batc  (None, 2, 15, 15, 128)   512       \n",
      " hNormalization)                                                 \n",
      "                                                                 \n",
      " max_pooling3d_3 (MaxPooling  (None, 1, 7, 7, 128)     0         \n",
      " 3D)                                                             \n",
      "                                                                 \n",
      " flatten (Flatten)           (None, 6272)              0         \n",
      "                                                                 \n",
      " dense (Dense)               (None, 128)               802944    \n",
      "                                                                 \n",
      " batch_normalization_4 (Batc  (None, 128)              512       \n",
      " hNormalization)                                                 \n",
      "                                                                 \n",
      " dropout (Dropout)           (None, 128)               0         \n",
      "                                                                 \n",
      " dense_1 (Dense)             (None, 64)                8256      \n",
      "                                                                 \n",
      " batch_normalization_5 (Batc  (None, 64)               256       \n",
      " hNormalization)                                                 \n",
      "                                                                 \n",
      " dropout_1 (Dropout)         (None, 64)                0         \n",
      "                                                                 \n",
      " dense_2 (Dense)             (None, 5)                 325       \n",
      "                                                                 \n",
      "=================================================================\n",
      "Total params: 900,805\n",
      "Trainable params: 899,941\n",
      "Non-trainable params: 864\n",
      "_________________________________________________________________\n"
     ]
    }
   ],
   "source": [
    "conv_3d1=ModelConv3D1()\n",
    "conv_3d1.initialize_path(project_folder)\n",
    "conv_3d1.initialize_image_properties(image_height=120,image_width=120)\n",
    "conv_3d1.initialize_hyperparams(frames_to_sample=16,batch_size=64,num_epochs=30)\n",
    "conv_3d1_model=conv_3d1.define_model()\n",
    "conv_3d1_model.summary()"
   ]
  },
  {
   "cell_type": "markdown",
   "id": "4eb5c686",
   "metadata": {},
   "source": [
    "### Generator Validation"
   ]
  },
  {
   "cell_type": "code",
   "execution_count": 22,
   "id": "049da7e3",
   "metadata": {},
   "outputs": [
    {
     "data": {
      "image/png": "[encoded data removed]",
      "text/plain": [
       "<Figure size 432x288 with 2 Axes>"
      ]
     },
     "metadata": {
      "needs_background": "light"
     },
     "output_type": "display_data"
    }
   ],
   "source": [
    "g=conv_3d1.generator(conv_3d1.val_path,conv_3d1.val_doc,augment=True,more_augment=False)\n",
    "batch_data, batch_labels=next(g)\n",
    "fig, axes = plt.subplots(nrows=1, ncols=2)\n",
    "axes[0].imshow(batch_data[0,15,:,:,:])   \n",
    "axes[1].imshow(batch_data[3,15,:,:,:])   \n",
    "plt.show()"
   ]
  },
  {
   "cell_type": "code",
   "execution_count": 23,
   "id": "1fe13618",
   "metadata": {},
   "outputs": [
    {
     "name": "stdout",
     "output_type": "stream",
     "text": [
      "Total Params: 900805\n"
     ]
    }
   ],
   "source": [
    "print(\"Total Params:\", conv_3d1_model.count_params())"
   ]
  },
  {
   "cell_type": "markdown",
   "id": "d7193c16",
   "metadata": {},
   "source": [
    "### B.1 Without Callback and Augmentation"
   ]
  },
  {
   "cell_type": "code",
   "execution_count": 24,
   "id": "506122d0",
   "metadata": {},
   "outputs": [
    {
     "name": "stdout",
     "output_type": "stream",
     "text": [
      "WARNING:tensorflow:`period` argument is deprecated. Please use `save_freq` to specify the frequency in number of batches seen.\n",
      "Epoch 1/30\n",
      "67/67 [==============================] - ETA: 0s - loss: 1.7452 - categorical_accuracy: 0.3830\n",
      "Epoch 1: saving model to model_init_2022-03-1802_15_36.749821/model-00001-1.74520-0.38302-12.24610-0.12782.h5\n",
      "67/67 [==============================] - 351s 5s/step - loss: 1.7452 - categorical_accuracy: 0.3830 - val_loss: 12.2461 - val_categorical_accuracy: 0.1278 - lr: 0.0010\n",
      "Epoch 2/30\n",
      "67/67 [==============================] - ETA: 0s - loss: 1.3595 - categorical_accuracy: 0.4547\n",
      "Epoch 2: saving model to model_init_2022-03-1802_15_36.749821/model-00002-1.35954-0.45472-15.86768-0.15789.h5\n",
      "67/67 [==============================] - 359s 5s/step - loss: 1.3595 - categorical_accuracy: 0.4547 - val_loss: 15.8677 - val_categorical_accuracy: 0.1579 - lr: 0.0010\n",
      "Epoch 3/30\n",
      "67/67 [==============================] - ETA: 0s - loss: 1.2020 - categorical_accuracy: 0.5330\n",
      "Epoch 3: saving model to model_init_2022-03-1802_15_36.749821/model-00003-1.20201-0.53302-14.14789-0.09774.h5\n",
      "67/67 [==============================] - 357s 5s/step - loss: 1.2020 - categorical_accuracy: 0.5330 - val_loss: 14.1479 - val_categorical_accuracy: 0.0977 - lr: 0.0010\n",
      "Epoch 4/30\n",
      "67/67 [==============================] - ETA: 0s - loss: 1.1412 - categorical_accuracy: 0.5519\n",
      "Epoch 4: saving model to model_init_2022-03-1802_15_36.749821/model-00004-1.14118-0.55189-6.79238-0.19549.h5\n",
      "67/67 [==============================] - 358s 5s/step - loss: 1.1412 - categorical_accuracy: 0.5519 - val_loss: 6.7924 - val_categorical_accuracy: 0.1955 - lr: 0.0010\n",
      "Epoch 5/30\n",
      "67/67 [==============================] - ETA: 0s - loss: 1.0428 - categorical_accuracy: 0.5991\n",
      "Epoch 5: saving model to model_init_2022-03-1802_15_36.749821/model-00005-1.04281-0.59906-4.50032-0.30827.h5\n",
      "67/67 [==============================] - 357s 5s/step - loss: 1.0428 - categorical_accuracy: 0.5991 - val_loss: 4.5003 - val_categorical_accuracy: 0.3083 - lr: 0.0010\n",
      "Epoch 6/30\n",
      "67/67 [==============================] - ETA: 0s - loss: 1.0024 - categorical_accuracy: 0.6236\n",
      "Epoch 6: saving model to model_init_2022-03-1802_15_36.749821/model-00006-1.00244-0.62358-5.21629-0.24060.h5\n",
      "67/67 [==============================] - 360s 5s/step - loss: 1.0024 - categorical_accuracy: 0.6236 - val_loss: 5.2163 - val_categorical_accuracy: 0.2406 - lr: 0.0010\n",
      "Epoch 7/30\n",
      "67/67 [==============================] - ETA: 0s - loss: 0.9837 - categorical_accuracy: 0.6368\n",
      "Epoch 7: saving model to model_init_2022-03-1802_15_36.749821/model-00007-0.98367-0.63679-2.06446-0.36842.h5\n",
      "67/67 [==============================] - 359s 5s/step - loss: 0.9837 - categorical_accuracy: 0.6368 - val_loss: 2.0645 - val_categorical_accuracy: 0.3684 - lr: 0.0010\n",
      "Epoch 8/30\n",
      "67/67 [==============================] - ETA: 0s - loss: 0.8531 - categorical_accuracy: 0.6538\n",
      "Epoch 8: saving model to model_init_2022-03-1802_15_36.749821/model-00008-0.85313-0.65377-1.68216-0.48872.h5\n",
      "67/67 [==============================] - 362s 5s/step - loss: 0.8531 - categorical_accuracy: 0.6538 - val_loss: 1.6822 - val_categorical_accuracy: 0.4887 - lr: 0.0010\n",
      "Epoch 9/30\n",
      "67/67 [==============================] - ETA: 0s - loss: 0.7400 - categorical_accuracy: 0.7226\n",
      "Epoch 9: saving model to model_init_2022-03-1802_15_36.749821/model-00009-0.73996-0.72264-1.35422-0.46617.h5\n",
      "67/67 [==============================] - 360s 5s/step - loss: 0.7400 - categorical_accuracy: 0.7226 - val_loss: 1.3542 - val_categorical_accuracy: 0.4662 - lr: 0.0010\n",
      "Epoch 10/30\n",
      "67/67 [==============================] - ETA: 0s - loss: 0.7796 - categorical_accuracy: 0.7047\n",
      "Epoch 10: saving model to model_init_2022-03-1802_15_36.749821/model-00010-0.77960-0.70472-0.99672-0.60902.h5\n",
      "67/67 [==============================] - 355s 5s/step - loss: 0.7796 - categorical_accuracy: 0.7047 - val_loss: 0.9967 - val_categorical_accuracy: 0.6090 - lr: 0.0010\n",
      "Epoch 11/30\n",
      "67/67 [==============================] - ETA: 0s - loss: 0.7409 - categorical_accuracy: 0.7160\n",
      "Epoch 11: saving model to model_init_2022-03-1802_15_36.749821/model-00011-0.74093-0.71604-0.88684-0.67669.h5\n",
      "67/67 [==============================] - 362s 5s/step - loss: 0.7409 - categorical_accuracy: 0.7160 - val_loss: 0.8868 - val_categorical_accuracy: 0.6767 - lr: 0.0010\n",
      "Epoch 12/30\n",
      "67/67 [==============================] - ETA: 0s - loss: 0.6861 - categorical_accuracy: 0.7434\n",
      "Epoch 12: saving model to model_init_2022-03-1802_15_36.749821/model-00012-0.68615-0.74340-1.23477-0.57143.h5\n",
      "67/67 [==============================] - 363s 5s/step - loss: 0.6861 - categorical_accuracy: 0.7434 - val_loss: 1.2348 - val_categorical_accuracy: 0.5714 - lr: 0.0010\n",
      "Epoch 13/30\n",
      "67/67 [==============================] - ETA: 0s - loss: 0.6765 - categorical_accuracy: 0.7302\n",
      "Epoch 13: saving model to model_init_2022-03-1802_15_36.749821/model-00013-0.67650-0.73019-0.86687-0.63910.h5\n",
      "67/67 [==============================] - 357s 5s/step - loss: 0.6765 - categorical_accuracy: 0.7302 - val_loss: 0.8669 - val_categorical_accuracy: 0.6391 - lr: 0.0010\n",
      "Epoch 14/30\n",
      "67/67 [==============================] - ETA: 0s - loss: 0.7074 - categorical_accuracy: 0.7387\n",
      "Epoch 14: saving model to model_init_2022-03-1802_15_36.749821/model-00014-0.70736-0.73868-2.77384-0.32331.h5\n",
      "67/67 [==============================] - 368s 6s/step - loss: 0.7074 - categorical_accuracy: 0.7387 - val_loss: 2.7738 - val_categorical_accuracy: 0.3233 - lr: 0.0010\n",
      "Epoch 15/30\n",
      "67/67 [==============================] - ETA: 0s - loss: 0.6640 - categorical_accuracy: 0.7311\n",
      "Epoch 15: saving model to model_init_2022-03-1802_15_36.749821/model-00015-0.66404-0.73113-1.97460-0.53383.h5\n",
      "67/67 [==============================] - 356s 5s/step - loss: 0.6640 - categorical_accuracy: 0.7311 - val_loss: 1.9746 - val_categorical_accuracy: 0.5338 - lr: 0.0010\n",
      "Epoch 16/30\n",
      "67/67 [==============================] - ETA: 0s - loss: 0.6668 - categorical_accuracy: 0.7613\n",
      "Epoch 16: saving model to model_init_2022-03-1802_15_36.749821/model-00016-0.66682-0.76132-1.56977-0.50376.h5\n",
      "67/67 [==============================] - 356s 5s/step - loss: 0.6668 - categorical_accuracy: 0.7613 - val_loss: 1.5698 - val_categorical_accuracy: 0.5038 - lr: 0.0010\n",
      "Epoch 17/30\n",
      "67/67 [==============================] - ETA: 0s - loss: 0.6202 - categorical_accuracy: 0.7660\n",
      "Epoch 17: saving model to model_init_2022-03-1802_15_36.749821/model-00017-0.62022-0.76604-1.15934-0.55639.h5\n",
      "\n",
      "Epoch 17: ReduceLROnPlateau reducing learning rate to 0.00020000000949949026.\n",
      "67/67 [==============================] - 354s 5s/step - loss: 0.6202 - categorical_accuracy: 0.7660 - val_loss: 1.1593 - val_categorical_accuracy: 0.5564 - lr: 0.0010\n",
      "Epoch 18/30\n",
      "67/67 [==============================] - ETA: 0s - loss: 0.5264 - categorical_accuracy: 0.8123\n",
      "Epoch 18: saving model to model_init_2022-03-1802_15_36.749821/model-00018-0.52644-0.81226-0.85598-0.69173.h5\n",
      "67/67 [==============================] - 356s 5s/step - loss: 0.5264 - categorical_accuracy: 0.8123 - val_loss: 0.8560 - val_categorical_accuracy: 0.6917 - lr: 2.0000e-04\n",
      "Epoch 19/30\n",
      "67/67 [==============================] - ETA: 0s - loss: 0.4322 - categorical_accuracy: 0.8415\n",
      "Epoch 19: saving model to model_init_2022-03-1802_15_36.749821/model-00019-0.43219-0.84151-0.78606-0.72180.h5\n",
      "67/67 [==============================] - 360s 5s/step - loss: 0.4322 - categorical_accuracy: 0.8415 - val_loss: 0.7861 - val_categorical_accuracy: 0.7218 - lr: 2.0000e-04\n",
      "Epoch 20/30\n",
      "67/67 [==============================] - ETA: 0s - loss: 0.4657 - categorical_accuracy: 0.8425\n",
      "Epoch 20: saving model to model_init_2022-03-1802_15_36.749821/model-00020-0.46569-0.84245-0.71280-0.71429.h5\n",
      "67/67 [==============================] - 359s 5s/step - loss: 0.4657 - categorical_accuracy: 0.8425 - val_loss: 0.7128 - val_categorical_accuracy: 0.7143 - lr: 2.0000e-04\n",
      "Epoch 21/30\n",
      "67/67 [==============================] - ETA: 0s - loss: 0.4587 - categorical_accuracy: 0.8236\n",
      "Epoch 21: saving model to model_init_2022-03-1802_15_36.749821/model-00021-0.45870-0.82358-0.71471-0.69925.h5\n",
      "67/67 [==============================] - 360s 5s/step - loss: 0.4587 - categorical_accuracy: 0.8236 - val_loss: 0.7147 - val_categorical_accuracy: 0.6992 - lr: 2.0000e-04\n"
     ]
    },
    {
     "name": "stdout",
     "output_type": "stream",
     "text": [
      "Epoch 22/30\n",
      "67/67 [==============================] - ETA: 0s - loss: 0.4742 - categorical_accuracy: 0.8311\n",
      "Epoch 22: saving model to model_init_2022-03-1802_15_36.749821/model-00022-0.47421-0.83113-0.80578-0.72180.h5\n",
      "67/67 [==============================] - 358s 5s/step - loss: 0.4742 - categorical_accuracy: 0.8311 - val_loss: 0.8058 - val_categorical_accuracy: 0.7218 - lr: 2.0000e-04\n",
      "Epoch 23/30\n",
      "67/67 [==============================] - ETA: 0s - loss: 0.4593 - categorical_accuracy: 0.8377\n",
      "Epoch 23: saving model to model_init_2022-03-1802_15_36.749821/model-00023-0.45933-0.83774-0.95613-0.68421.h5\n",
      "67/67 [==============================] - 366s 5s/step - loss: 0.4593 - categorical_accuracy: 0.8377 - val_loss: 0.9561 - val_categorical_accuracy: 0.6842 - lr: 2.0000e-04\n",
      "Epoch 24/30\n",
      "67/67 [==============================] - ETA: 0s - loss: 0.4156 - categorical_accuracy: 0.8453\n",
      "Epoch 24: saving model to model_init_2022-03-1802_15_36.749821/model-00024-0.41560-0.84528-0.63999-0.72180.h5\n",
      "67/67 [==============================] - 353s 5s/step - loss: 0.4156 - categorical_accuracy: 0.8453 - val_loss: 0.6400 - val_categorical_accuracy: 0.7218 - lr: 2.0000e-04\n",
      "Epoch 25/30\n",
      "67/67 [==============================] - ETA: 0s - loss: 0.4288 - categorical_accuracy: 0.8434\n",
      "Epoch 25: saving model to model_init_2022-03-1802_15_36.749821/model-00025-0.42877-0.84340-0.88977-0.63910.h5\n",
      "67/67 [==============================] - 353s 5s/step - loss: 0.4288 - categorical_accuracy: 0.8434 - val_loss: 0.8898 - val_categorical_accuracy: 0.6391 - lr: 2.0000e-04\n",
      "Epoch 26/30\n",
      "67/67 [==============================] - ETA: 0s - loss: 0.4286 - categorical_accuracy: 0.8443\n",
      "Epoch 26: saving model to model_init_2022-03-1802_15_36.749821/model-00026-0.42865-0.84434-0.67212-0.75940.h5\n",
      "67/67 [==============================] - 364s 5s/step - loss: 0.4286 - categorical_accuracy: 0.8443 - val_loss: 0.6721 - val_categorical_accuracy: 0.7594 - lr: 2.0000e-04\n",
      "Epoch 27/30\n",
      "67/67 [==============================] - ETA: 0s - loss: 0.3954 - categorical_accuracy: 0.8651\n",
      "Epoch 27: saving model to model_init_2022-03-1802_15_36.749821/model-00027-0.39543-0.86509-0.72060-0.74436.h5\n",
      "67/67 [==============================] - 366s 5s/step - loss: 0.3954 - categorical_accuracy: 0.8651 - val_loss: 0.7206 - val_categorical_accuracy: 0.7444 - lr: 2.0000e-04\n",
      "Epoch 28/30\n",
      "67/67 [==============================] - ETA: 0s - loss: 0.3863 - categorical_accuracy: 0.8792\n",
      "Epoch 28: saving model to model_init_2022-03-1802_15_36.749821/model-00028-0.38629-0.87925-0.54281-0.77444.h5\n",
      "67/67 [==============================] - 362s 5s/step - loss: 0.3863 - categorical_accuracy: 0.8792 - val_loss: 0.5428 - val_categorical_accuracy: 0.7744 - lr: 2.0000e-04\n",
      "Epoch 29/30\n",
      "67/67 [==============================] - ETA: 0s - loss: 0.3898 - categorical_accuracy: 0.8623\n",
      "Epoch 29: saving model to model_init_2022-03-1802_15_36.749821/model-00029-0.38978-0.86226-0.62551-0.75940.h5\n",
      "67/67 [==============================] - 366s 5s/step - loss: 0.3898 - categorical_accuracy: 0.8623 - val_loss: 0.6255 - val_categorical_accuracy: 0.7594 - lr: 2.0000e-04\n",
      "Epoch 30/30\n",
      "67/67 [==============================] - ETA: 0s - loss: 0.4002 - categorical_accuracy: 0.8623\n",
      "Epoch 30: saving model to model_init_2022-03-1802_15_36.749821/model-00030-0.40016-0.86226-0.81608-0.66917.h5\n",
      "67/67 [==============================] - 365s 5s/step - loss: 0.4002 - categorical_accuracy: 0.8623 - val_loss: 0.8161 - val_categorical_accuracy: 0.6692 - lr: 2.0000e-04\n"
     ]
    }
   ],
   "source": [
    "history_conv_3d1_model=conv_3d1.train_model(conv_3d1_model,augment_data=True,more_augment=False,early_stop=False)"
   ]
  },
  {
   "cell_type": "code",
   "execution_count": 25,
   "id": "a78afabe",
   "metadata": {},
   "outputs": [
    {
     "name": "stdout",
     "output_type": "stream",
     "text": [
      "Max. Training Accuracy 0.8792452812194824\n",
      "Max. Validaiton Accuracy 0.7744361162185669\n"
     ]
    },
    {
     "data": {
      "image/png": "[encoded data removed]",
      "text/plain": [
       "<Figure size 1080x288 with 2 Axes>"
      ]
     },
     "metadata": {
      "needs_background": "light"
     },
     "output_type": "display_data"
    }
   ],
   "source": [
    "plot(history_conv_3d1_model)"
   ]
  },
  {
   "cell_type": "markdown",
   "id": "627a574e",
   "metadata": {},
   "source": [
    "### B.2 With Callback and No Augmentation"
   ]
  },
  {
   "cell_type": "code",
   "execution_count": 14,
   "id": "367128c0",
   "metadata": {},
   "outputs": [
    {
     "name": "stdout",
     "output_type": "stream",
     "text": [
      "Model: \"sequential_1\"\n",
      "_________________________________________________________________\n",
      " Layer (type)                Output Shape              Param #   \n",
      "=================================================================\n",
      " conv3d_4 (Conv3D)           (None, 16, 120, 120, 16)  1312      \n",
      "                                                                 \n",
      " activation_4 (Activation)   (None, 16, 120, 120, 16)  0         \n",
      "                                                                 \n",
      " batch_normalization_6 (Batc  (None, 16, 120, 120, 16)  64       \n",
      " hNormalization)                                                 \n",
      "                                                                 \n",
      " max_pooling3d_4 (MaxPooling  (None, 8, 60, 60, 16)    0         \n",
      " 3D)                                                             \n",
      "                                                                 \n",
      " conv3d_5 (Conv3D)           (None, 8, 60, 60, 32)     4128      \n",
      "                                                                 \n",
      " activation_5 (Activation)   (None, 8, 60, 60, 32)     0         \n",
      "                                                                 \n",
      " batch_normalization_7 (Batc  (None, 8, 60, 60, 32)    128       \n",
      " hNormalization)                                                 \n",
      "                                                                 \n",
      " max_pooling3d_5 (MaxPooling  (None, 4, 30, 30, 32)    0         \n",
      " 3D)                                                             \n",
      "                                                                 \n",
      " conv3d_6 (Conv3D)           (None, 4, 30, 30, 64)     16448     \n",
      "                                                                 \n",
      " activation_6 (Activation)   (None, 4, 30, 30, 64)     0         \n",
      "                                                                 \n",
      " batch_normalization_8 (Batc  (None, 4, 30, 30, 64)    256       \n",
      " hNormalization)                                                 \n",
      "                                                                 \n",
      " max_pooling3d_6 (MaxPooling  (None, 2, 15, 15, 64)    0         \n",
      " 3D)                                                             \n",
      "                                                                 \n",
      " conv3d_7 (Conv3D)           (None, 2, 15, 15, 128)    65664     \n",
      "                                                                 \n",
      " activation_7 (Activation)   (None, 2, 15, 15, 128)    0         \n",
      "                                                                 \n",
      " batch_normalization_9 (Batc  (None, 2, 15, 15, 128)   512       \n",
      " hNormalization)                                                 \n",
      "                                                                 \n",
      " max_pooling3d_7 (MaxPooling  (None, 1, 7, 7, 128)     0         \n",
      " 3D)                                                             \n",
      "                                                                 \n",
      " flatten_1 (Flatten)         (None, 6272)              0         \n",
      "                                                                 \n",
      " dense_3 (Dense)             (None, 128)               802944    \n",
      "                                                                 \n",
      " batch_normalization_10 (Bat  (None, 128)              512       \n",
      " chNormalization)                                                \n",
      "                                                                 \n",
      " dropout_2 (Dropout)         (None, 128)               0         \n",
      "                                                                 \n",
      " dense_4 (Dense)             (None, 64)                8256      \n",
      "                                                                 \n",
      " batch_normalization_11 (Bat  (None, 64)               256       \n",
      " chNormalization)                                                \n",
      "                                                                 \n",
      " dropout_3 (Dropout)         (None, 64)                0         \n",
      "                                                                 \n",
      " dense_5 (Dense)             (None, 5)                 325       \n",
      "                                                                 \n",
      "=================================================================\n",
      "Total params: 900,805\n",
      "Trainable params: 899,941\n",
      "Non-trainable params: 864\n",
      "_________________________________________________________________\n"
     ]
    }
   ],
   "source": [
    "conv_3d1_w_cb=ModelConv3D1()\n",
    "conv_3d1_w_cb.initialize_path(project_folder)\n",
    "conv_3d1_w_cb.initialize_image_properties(image_height=120,image_width=120)\n",
    "conv_3d1_w_cb.initialize_hyperparams(frames_to_sample=16,batch_size=64,num_epochs=30)\n",
    "conv_3d1_w_cb_model=conv_3d1_w_cb.define_model()\n",
    "conv_3d1_w_cb_model.summary()"
   ]
  },
  {
   "cell_type": "code",
   "execution_count": 15,
   "id": "9e054d50",
   "metadata": {},
   "outputs": [
    {
     "name": "stdout",
     "output_type": "stream",
     "text": [
      "WARNING:tensorflow:`period` argument is deprecated. Please use `save_freq` to specify the frequency in number of batches seen.\n",
      "WARNING:tensorflow:`period` argument is deprecated. Please use `save_freq` to specify the frequency in number of batches seen.\n",
      "Epoch 1/30\n",
      "67/67 [==============================] - ETA: 0s - loss: 1.6842 - categorical_accuracy: 0.3670\n",
      "Epoch 1: val_loss improved from inf to 4.10609, saving model to model_init_2022-03-1810_06_44.148547/model-00001-1.68416-0.36698-4.10609-0.25564.h5\n",
      "67/67 [==============================] - 372s 6s/step - loss: 1.6842 - categorical_accuracy: 0.3670 - val_loss: 4.1061 - val_categorical_accuracy: 0.2556 - lr: 0.0010\n",
      "Epoch 2/30\n",
      "67/67 [==============================] - ETA: 0s - loss: 1.3208 - categorical_accuracy: 0.4802\n",
      "Epoch 2: val_loss did not improve from 4.10609\n",
      "67/67 [==============================] - 372s 6s/step - loss: 1.3208 - categorical_accuracy: 0.4802 - val_loss: 7.2055 - val_categorical_accuracy: 0.2180 - lr: 0.0010\n",
      "Epoch 3/30\n",
      "67/67 [==============================] - ETA: 0s - loss: 1.1524 - categorical_accuracy: 0.5538\n",
      "Epoch 3: val_loss did not improve from 4.10609\n",
      "67/67 [==============================] - 374s 6s/step - loss: 1.1524 - categorical_accuracy: 0.5538 - val_loss: 7.5314 - val_categorical_accuracy: 0.1353 - lr: 0.0010\n",
      "Epoch 4/30\n",
      "67/67 [==============================] - ETA: 0s - loss: 1.0683 - categorical_accuracy: 0.5840\n",
      "Epoch 4: val_loss did not improve from 4.10609\n",
      "67/67 [==============================] - 381s 6s/step - loss: 1.0683 - categorical_accuracy: 0.5840 - val_loss: 5.4508 - val_categorical_accuracy: 0.2406 - lr: 0.0010\n",
      "Epoch 5/30\n",
      "67/67 [==============================] - ETA: 0s - loss: 0.9667 - categorical_accuracy: 0.6142\n",
      "Epoch 5: val_loss improved from 4.10609 to 3.50726, saving model to model_init_2022-03-1810_06_44.148547/model-00005-0.96673-0.61415-3.50726-0.26316.h5\n",
      "67/67 [==============================] - 372s 6s/step - loss: 0.9667 - categorical_accuracy: 0.6142 - val_loss: 3.5073 - val_categorical_accuracy: 0.2632 - lr: 0.0010\n",
      "Epoch 6/30\n",
      "67/67 [==============================] - ETA: 0s - loss: 0.9074 - categorical_accuracy: 0.6500\n",
      "Epoch 6: val_loss improved from 3.50726 to 2.24178, saving model to model_init_2022-03-1810_06_44.148547/model-00006-0.90739-0.65000-2.24178-0.42105.h5\n",
      "67/67 [==============================] - 368s 5s/step - loss: 0.9074 - categorical_accuracy: 0.6500 - val_loss: 2.2418 - val_categorical_accuracy: 0.4211 - lr: 0.0010\n",
      "Epoch 7/30\n",
      "67/67 [==============================] - ETA: 0s - loss: 0.8350 - categorical_accuracy: 0.6792\n",
      "Epoch 7: val_loss did not improve from 2.24178\n",
      "67/67 [==============================] - 378s 6s/step - loss: 0.8350 - categorical_accuracy: 0.6792 - val_loss: 2.4026 - val_categorical_accuracy: 0.3158 - lr: 0.0010\n",
      "Epoch 8/30\n",
      "67/67 [==============================] - ETA: 0s - loss: 0.8114 - categorical_accuracy: 0.6802\n",
      "Epoch 8: val_loss improved from 2.24178 to 1.69854, saving model to model_init_2022-03-1810_06_44.148547/model-00008-0.81141-0.68019-1.69854-0.41353.h5\n",
      "67/67 [==============================] - 395s 6s/step - loss: 0.8114 - categorical_accuracy: 0.6802 - val_loss: 1.6985 - val_categorical_accuracy: 0.4135 - lr: 0.0010\n",
      "Epoch 9/30\n",
      "67/67 [==============================] - ETA: 0s - loss: 0.7973 - categorical_accuracy: 0.7028\n",
      "Epoch 9: val_loss improved from 1.69854 to 1.05953, saving model to model_init_2022-03-1810_06_44.148547/model-00009-0.79730-0.70283-1.05953-0.66165.h5\n",
      "67/67 [==============================] - 380s 6s/step - loss: 0.7973 - categorical_accuracy: 0.7028 - val_loss: 1.0595 - val_categorical_accuracy: 0.6617 - lr: 0.0010\n",
      "Epoch 10/30\n",
      "67/67 [==============================] - ETA: 0s - loss: 0.7711 - categorical_accuracy: 0.7066\n",
      "Epoch 10: val_loss did not improve from 1.05953\n",
      "67/67 [==============================] - 367s 5s/step - loss: 0.7711 - categorical_accuracy: 0.7066 - val_loss: 2.2154 - val_categorical_accuracy: 0.3759 - lr: 0.0010\n",
      "Epoch 11/30\n",
      "67/67 [==============================] - ETA: 0s - loss: 0.7380 - categorical_accuracy: 0.7264\n",
      "Epoch 11: val_loss did not improve from 1.05953\n",
      "67/67 [==============================] - 358s 5s/step - loss: 0.7380 - categorical_accuracy: 0.7264 - val_loss: 1.8258 - val_categorical_accuracy: 0.4060 - lr: 0.0010\n",
      "Epoch 12/30\n",
      "67/67 [==============================] - ETA: 0s - loss: 0.7188 - categorical_accuracy: 0.7292\n",
      "Epoch 12: val_loss did not improve from 1.05953\n",
      "67/67 [==============================] - 393s 6s/step - loss: 0.7188 - categorical_accuracy: 0.7292 - val_loss: 3.0366 - val_categorical_accuracy: 0.2932 - lr: 0.0010\n",
      "Epoch 13/30\n",
      "67/67 [==============================] - ETA: 0s - loss: 0.7426 - categorical_accuracy: 0.7236\n",
      "Epoch 13: val_loss improved from 1.05953 to 0.99332, saving model to model_init_2022-03-1810_06_44.148547/model-00013-0.74264-0.72358-0.99332-0.62406.h5\n",
      "67/67 [==============================] - 371s 6s/step - loss: 0.7426 - categorical_accuracy: 0.7236 - val_loss: 0.9933 - val_categorical_accuracy: 0.6241 - lr: 0.0010\n",
      "Epoch 14/30\n",
      "67/67 [==============================] - ETA: 0s - loss: 0.6622 - categorical_accuracy: 0.7509\n",
      "Epoch 14: val_loss did not improve from 0.99332\n",
      "67/67 [==============================] - 378s 6s/step - loss: 0.6622 - categorical_accuracy: 0.7509 - val_loss: 1.1806 - val_categorical_accuracy: 0.5639 - lr: 0.0010\n",
      "Epoch 15/30\n",
      "67/67 [==============================] - ETA: 0s - loss: 0.6204 - categorical_accuracy: 0.7858\n",
      "Epoch 15: val_loss did not improve from 0.99332\n",
      "67/67 [==============================] - 366s 5s/step - loss: 0.6204 - categorical_accuracy: 0.7858 - val_loss: 1.4795 - val_categorical_accuracy: 0.5714 - lr: 0.0010\n",
      "Epoch 16/30\n",
      "67/67 [==============================] - ETA: 0s - loss: 0.5517 - categorical_accuracy: 0.7972\n",
      "Epoch 16: val_loss did not improve from 0.99332\n",
      "67/67 [==============================] - 366s 5s/step - loss: 0.5517 - categorical_accuracy: 0.7972 - val_loss: 1.2323 - val_categorical_accuracy: 0.5639 - lr: 0.0010\n",
      "Epoch 17/30\n",
      "67/67 [==============================] - ETA: 0s - loss: 0.6230 - categorical_accuracy: 0.7821\n",
      "Epoch 17: val_loss did not improve from 0.99332\n",
      "\n",
      "Epoch 17: ReduceLROnPlateau reducing learning rate to 0.00020000000949949026.\n",
      "67/67 [==============================] - 357s 5s/step - loss: 0.6230 - categorical_accuracy: 0.7821 - val_loss: 1.4299 - val_categorical_accuracy: 0.4812 - lr: 0.0010\n",
      "Epoch 18/30\n",
      "67/67 [==============================] - ETA: 0s - loss: 0.4831 - categorical_accuracy: 0.8274\n",
      "Epoch 18: val_loss did not improve from 0.99332\n",
      "67/67 [==============================] - 375s 6s/step - loss: 0.4831 - categorical_accuracy: 0.8274 - val_loss: 1.0379 - val_categorical_accuracy: 0.6090 - lr: 2.0000e-04\n",
      "Epoch 19/30\n",
      "67/67 [==============================] - ETA: 0s - loss: 0.4178 - categorical_accuracy: 0.8509\n",
      "Epoch 19: val_loss improved from 0.99332 to 0.69912, saving model to model_init_2022-03-1810_06_44.148547/model-00019-0.41776-0.85094-0.69912-0.72180.h5\n",
      "67/67 [==============================] - 381s 6s/step - loss: 0.4178 - categorical_accuracy: 0.8509 - val_loss: 0.6991 - val_categorical_accuracy: 0.7218 - lr: 2.0000e-04\n",
      "Epoch 20/30\n",
      "67/67 [==============================] - ETA: 0s - loss: 0.4267 - categorical_accuracy: 0.8613\n",
      "Epoch 20: val_loss did not improve from 0.69912\n",
      "67/67 [==============================] - 374s 6s/step - loss: 0.4267 - categorical_accuracy: 0.8613 - val_loss: 0.7581 - val_categorical_accuracy: 0.7218 - lr: 2.0000e-04\n",
      "Epoch 21/30\n",
      "67/67 [==============================] - ETA: 0s - loss: 0.3688 - categorical_accuracy: 0.8811\n",
      "Epoch 21: val_loss improved from 0.69912 to 0.65794, saving model to model_init_2022-03-1810_06_44.148547/model-00021-0.36883-0.88113-0.65794-0.72180.h5\n",
      "67/67 [==============================] - 347s 5s/step - loss: 0.3688 - categorical_accuracy: 0.8811 - val_loss: 0.6579 - val_categorical_accuracy: 0.7218 - lr: 2.0000e-04\n",
      "Epoch 22/30\n",
      "67/67 [==============================] - ETA: 0s - loss: 0.3878 - categorical_accuracy: 0.8717\n",
      "Epoch 22: val_loss improved from 0.65794 to 0.50843, saving model to model_init_2022-03-1810_06_44.148547/model-00022-0.38777-0.87170-0.50843-0.81203.h5\n",
      "67/67 [==============================] - 342s 5s/step - loss: 0.3878 - categorical_accuracy: 0.8717 - val_loss: 0.5084 - val_categorical_accuracy: 0.8120 - lr: 2.0000e-04\n"
     ]
    },
    {
     "name": "stdout",
     "output_type": "stream",
     "text": [
      "Epoch 23/30\n",
      "67/67 [==============================] - ETA: 0s - loss: 0.3957 - categorical_accuracy: 0.8698\n",
      "Epoch 23: val_loss did not improve from 0.50843\n",
      "67/67 [==============================] - 356s 5s/step - loss: 0.3957 - categorical_accuracy: 0.8698 - val_loss: 0.8030 - val_categorical_accuracy: 0.6767 - lr: 2.0000e-04\n",
      "Epoch 24/30\n",
      "67/67 [==============================] - ETA: 0s - loss: 0.4084 - categorical_accuracy: 0.8519\n",
      "Epoch 24: val_loss did not improve from 0.50843\n",
      "67/67 [==============================] - 351s 5s/step - loss: 0.4084 - categorical_accuracy: 0.8519 - val_loss: 0.7513 - val_categorical_accuracy: 0.7293 - lr: 2.0000e-04\n",
      "Epoch 25/30\n",
      "67/67 [==============================] - ETA: 0s - loss: 0.3500 - categorical_accuracy: 0.8830\n",
      "Epoch 25: val_loss did not improve from 0.50843\n",
      "67/67 [==============================] - 352s 5s/step - loss: 0.3500 - categorical_accuracy: 0.8830 - val_loss: 0.6074 - val_categorical_accuracy: 0.7669 - lr: 2.0000e-04\n",
      "Epoch 26/30\n",
      "67/67 [==============================] - ETA: 0s - loss: 0.3805 - categorical_accuracy: 0.8651\n",
      "Epoch 26: val_loss did not improve from 0.50843\n",
      "\n",
      "Epoch 26: ReduceLROnPlateau reducing learning rate to 4.0000001899898055e-05.\n",
      "67/67 [==============================] - 350s 5s/step - loss: 0.3805 - categorical_accuracy: 0.8651 - val_loss: 0.5990 - val_categorical_accuracy: 0.7895 - lr: 2.0000e-04\n",
      "Epoch 27/30\n",
      "67/67 [==============================] - ETA: 0s - loss: 0.3683 - categorical_accuracy: 0.8736\n",
      "Epoch 27: val_loss did not improve from 0.50843\n",
      "67/67 [==============================] - 354s 5s/step - loss: 0.3683 - categorical_accuracy: 0.8736 - val_loss: 0.5462 - val_categorical_accuracy: 0.7820 - lr: 4.0000e-05\n",
      "Epoch 28/30\n",
      "67/67 [==============================] - ETA: 0s - loss: 0.3780 - categorical_accuracy: 0.8821\n",
      "Epoch 28: val_loss did not improve from 0.50843\n",
      "67/67 [==============================] - 354s 5s/step - loss: 0.3780 - categorical_accuracy: 0.8821 - val_loss: 0.5334 - val_categorical_accuracy: 0.7744 - lr: 4.0000e-05\n",
      "Epoch 29/30\n",
      "67/67 [==============================] - ETA: 0s - loss: 0.2975 - categorical_accuracy: 0.9009\n",
      "Epoch 29: val_loss did not improve from 0.50843\n",
      "67/67 [==============================] - 348s 5s/step - loss: 0.2975 - categorical_accuracy: 0.9009 - val_loss: 0.5911 - val_categorical_accuracy: 0.7594 - lr: 4.0000e-05\n",
      "Epoch 30/30\n",
      "67/67 [==============================] - ETA: 0s - loss: 0.3615 - categorical_accuracy: 0.8745\n",
      "Epoch 30: val_loss did not improve from 0.50843\n",
      "\n",
      "Epoch 30: ReduceLROnPlateau reducing learning rate to 8.000000525498762e-06.\n",
      "67/67 [==============================] - 345s 5s/step - loss: 0.3615 - categorical_accuracy: 0.8745 - val_loss: 0.5468 - val_categorical_accuracy: 0.7744 - lr: 4.0000e-05\n"
     ]
    }
   ],
   "source": [
    "history_conv_3d1_model_with_callback=conv_3d1_w_cb.train_model(conv_3d1_w_cb_model,augment_data=True,more_augment=False,early_stop=True)"
   ]
  },
  {
   "cell_type": "code",
   "execution_count": 17,
   "id": "73fdbdc9",
   "metadata": {},
   "outputs": [
    {
     "name": "stdout",
     "output_type": "stream",
     "text": [
      "Max. Training Accuracy 0.900943398475647\n",
      "Max. Validaiton Accuracy 0.8120300769805908\n"
     ]
    },
    {
     "data": {
      "image/png": "[encoded data removed]",
      "text/plain": [
       "<Figure size 1080x288 with 2 Axes>"
      ]
     },
     "metadata": {
      "needs_background": "light"
     },
     "output_type": "display_data"
    }
   ],
   "source": [
    "plot(history_conv_3d1_model_with_callback)"
   ]
  },
  {
   "cell_type": "markdown",
   "id": "9e1590ff",
   "metadata": {},
   "source": [
    "### B.3 With Callback and Augmentation"
   ]
  },
  {
   "cell_type": "code",
   "execution_count": 18,
   "id": "dc13553e",
   "metadata": {},
   "outputs": [
    {
     "name": "stdout",
     "output_type": "stream",
     "text": [
      "Model: \"sequential_2\"\n",
      "_________________________________________________________________\n",
      " Layer (type)                Output Shape              Param #   \n",
      "=================================================================\n",
      " conv3d_8 (Conv3D)           (None, 16, 120, 120, 16)  1312      \n",
      "                                                                 \n",
      " activation_8 (Activation)   (None, 16, 120, 120, 16)  0         \n",
      "                                                                 \n",
      " batch_normalization_12 (Bat  (None, 16, 120, 120, 16)  64       \n",
      " chNormalization)                                                \n",
      "                                                                 \n",
      " max_pooling3d_8 (MaxPooling  (None, 8, 60, 60, 16)    0         \n",
      " 3D)                                                             \n",
      "                                                                 \n",
      " conv3d_9 (Conv3D)           (None, 8, 60, 60, 32)     4128      \n",
      "                                                                 \n",
      " activation_9 (Activation)   (None, 8, 60, 60, 32)     0         \n",
      "                                                                 \n",
      " batch_normalization_13 (Bat  (None, 8, 60, 60, 32)    128       \n",
      " chNormalization)                                                \n",
      "                                                                 \n",
      " max_pooling3d_9 (MaxPooling  (None, 4, 30, 30, 32)    0         \n",
      " 3D)                                                             \n",
      "                                                                 \n",
      " conv3d_10 (Conv3D)          (None, 4, 30, 30, 64)     16448     \n",
      "                                                                 \n",
      " activation_10 (Activation)  (None, 4, 30, 30, 64)     0         \n",
      "                                                                 \n",
      " batch_normalization_14 (Bat  (None, 4, 30, 30, 64)    256       \n",
      " chNormalization)                                                \n",
      "                                                                 \n",
      " max_pooling3d_10 (MaxPoolin  (None, 2, 15, 15, 64)    0         \n",
      " g3D)                                                            \n",
      "                                                                 \n",
      " conv3d_11 (Conv3D)          (None, 2, 15, 15, 128)    65664     \n",
      "                                                                 \n",
      " activation_11 (Activation)  (None, 2, 15, 15, 128)    0         \n",
      "                                                                 \n",
      " batch_normalization_15 (Bat  (None, 2, 15, 15, 128)   512       \n",
      " chNormalization)                                                \n",
      "                                                                 \n",
      " max_pooling3d_11 (MaxPoolin  (None, 1, 7, 7, 128)     0         \n",
      " g3D)                                                            \n",
      "                                                                 \n",
      " flatten_2 (Flatten)         (None, 6272)              0         \n",
      "                                                                 \n",
      " dense_6 (Dense)             (None, 128)               802944    \n",
      "                                                                 \n",
      " batch_normalization_16 (Bat  (None, 128)              512       \n",
      " chNormalization)                                                \n",
      "                                                                 \n",
      " dropout_4 (Dropout)         (None, 128)               0         \n",
      "                                                                 \n",
      " dense_7 (Dense)             (None, 64)                8256      \n",
      "                                                                 \n",
      " batch_normalization_17 (Bat  (None, 64)               256       \n",
      " chNormalization)                                                \n",
      "                                                                 \n",
      " dropout_5 (Dropout)         (None, 64)                0         \n",
      "                                                                 \n",
      " dense_8 (Dense)             (None, 5)                 325       \n",
      "                                                                 \n",
      "=================================================================\n",
      "Total params: 900,805\n",
      "Trainable params: 899,941\n",
      "Non-trainable params: 864\n",
      "_________________________________________________________________\n"
     ]
    }
   ],
   "source": [
    "conv_3d1_w_cb_a=ModelConv3D1()\n",
    "conv_3d1_w_cb_a.initialize_path(project_folder)\n",
    "conv_3d1_w_cb_a.initialize_image_properties(image_height=120,image_width=120)\n",
    "conv_3d1_w_cb_a.initialize_hyperparams(frames_to_sample=16,batch_size=64,num_epochs=30)\n",
    "conv_3d1_w_cb_a_model=conv_3d1_w_cb_a.define_model()\n",
    "conv_3d1_w_cb_a_model.summary()"
   ]
  },
  {
   "cell_type": "code",
   "execution_count": 19,
   "id": "12558762",
   "metadata": {},
   "outputs": [
    {
     "name": "stdout",
     "output_type": "stream",
     "text": [
      "WARNING:tensorflow:`period` argument is deprecated. Please use `save_freq` to specify the frequency in number of batches seen.\n",
      "WARNING:tensorflow:`period` argument is deprecated. Please use `save_freq` to specify the frequency in number of batches seen.\n",
      "Epoch 1/30\n",
      "67/67 [==============================] - ETA: 0s - loss: 1.6528 - categorical_accuracy: 0.4009\n",
      "Epoch 1: val_loss improved from inf to 3.48687, saving model to model_init_2022-03-1813_19_35.862486/model-00001-1.65281-0.40094-3.48687-0.19549.h5\n",
      "67/67 [==============================] - 353s 5s/step - loss: 1.6528 - categorical_accuracy: 0.4009 - val_loss: 3.4869 - val_categorical_accuracy: 0.1955 - lr: 0.0010\n",
      "Epoch 2/30\n",
      "67/67 [==============================] - ETA: 0s - loss: 1.3098 - categorical_accuracy: 0.4745\n",
      "Epoch 2: val_loss did not improve from 3.48687\n",
      "67/67 [==============================] - 355s 5s/step - loss: 1.3098 - categorical_accuracy: 0.4745 - val_loss: 3.5778 - val_categorical_accuracy: 0.1278 - lr: 0.0010\n",
      "Epoch 3/30\n",
      "67/67 [==============================] - ETA: 0s - loss: 1.2054 - categorical_accuracy: 0.5387\n",
      "Epoch 3: val_loss did not improve from 3.48687\n",
      "67/67 [==============================] - 358s 5s/step - loss: 1.2054 - categorical_accuracy: 0.5387 - val_loss: 3.7642 - val_categorical_accuracy: 0.1805 - lr: 0.0010\n",
      "Epoch 4/30\n",
      "67/67 [==============================] - ETA: 0s - loss: 1.1292 - categorical_accuracy: 0.5670\n",
      "Epoch 4: val_loss did not improve from 3.48687\n",
      "67/67 [==============================] - 359s 5s/step - loss: 1.1292 - categorical_accuracy: 0.5670 - val_loss: 4.0922 - val_categorical_accuracy: 0.1729 - lr: 0.0010\n",
      "Epoch 5/30\n",
      "67/67 [==============================] - ETA: 0s - loss: 1.0310 - categorical_accuracy: 0.5972\n",
      "Epoch 5: val_loss improved from 3.48687 to 2.40676, saving model to model_init_2022-03-1813_19_35.862486/model-00005-1.03105-0.59717-2.40676-0.33835.h5\n",
      "67/67 [==============================] - 355s 5s/step - loss: 1.0310 - categorical_accuracy: 0.5972 - val_loss: 2.4068 - val_categorical_accuracy: 0.3383 - lr: 0.0010\n",
      "Epoch 6/30\n",
      "67/67 [==============================] - ETA: 0s - loss: 0.9945 - categorical_accuracy: 0.5991\n",
      "Epoch 6: val_loss did not improve from 2.40676\n",
      "67/67 [==============================] - 346s 5s/step - loss: 0.9945 - categorical_accuracy: 0.5991 - val_loss: 2.6514 - val_categorical_accuracy: 0.2782 - lr: 0.0010\n",
      "Epoch 7/30\n",
      "67/67 [==============================] - ETA: 0s - loss: 0.9641 - categorical_accuracy: 0.6368\n",
      "Epoch 7: val_loss improved from 2.40676 to 1.50170, saving model to model_init_2022-03-1813_19_35.862486/model-00007-0.96407-0.63679-1.50170-0.50376.h5\n",
      "67/67 [==============================] - 338s 5s/step - loss: 0.9641 - categorical_accuracy: 0.6368 - val_loss: 1.5017 - val_categorical_accuracy: 0.5038 - lr: 0.0010\n",
      "Epoch 8/30\n",
      "67/67 [==============================] - ETA: 0s - loss: 0.9030 - categorical_accuracy: 0.6434\n",
      "Epoch 8: val_loss improved from 1.50170 to 1.33990, saving model to model_init_2022-03-1813_19_35.862486/model-00008-0.90298-0.64340-1.33990-0.45865.h5\n",
      "67/67 [==============================] - 334s 5s/step - loss: 0.9030 - categorical_accuracy: 0.6434 - val_loss: 1.3399 - val_categorical_accuracy: 0.4586 - lr: 0.0010\n",
      "Epoch 9/30\n",
      "67/67 [==============================] - ETA: 0s - loss: 0.8808 - categorical_accuracy: 0.6613\n",
      "Epoch 9: val_loss improved from 1.33990 to 1.28509, saving model to model_init_2022-03-1813_19_35.862486/model-00009-0.88077-0.66132-1.28509-0.54887.h5\n",
      "67/67 [==============================] - 317s 5s/step - loss: 0.8808 - categorical_accuracy: 0.6613 - val_loss: 1.2851 - val_categorical_accuracy: 0.5489 - lr: 0.0010\n",
      "Epoch 10/30\n",
      "67/67 [==============================] - ETA: 0s - loss: 0.8856 - categorical_accuracy: 0.6491\n",
      "Epoch 10: val_loss improved from 1.28509 to 1.26505, saving model to model_init_2022-03-1813_19_35.862486/model-00010-0.88562-0.64906-1.26505-0.57143.h5\n",
      "67/67 [==============================] - 318s 5s/step - loss: 0.8856 - categorical_accuracy: 0.6491 - val_loss: 1.2651 - val_categorical_accuracy: 0.5714 - lr: 0.0010\n",
      "Epoch 11/30\n",
      "67/67 [==============================] - ETA: 0s - loss: 0.8751 - categorical_accuracy: 0.6594\n",
      "Epoch 11: val_loss improved from 1.26505 to 1.25994, saving model to model_init_2022-03-1813_19_35.862486/model-00011-0.87512-0.65943-1.25994-0.54887.h5\n",
      "67/67 [==============================] - 317s 5s/step - loss: 0.8751 - categorical_accuracy: 0.6594 - val_loss: 1.2599 - val_categorical_accuracy: 0.5489 - lr: 0.0010\n",
      "Epoch 12/30\n",
      "67/67 [==============================] - ETA: 0s - loss: 0.7958 - categorical_accuracy: 0.6943\n",
      "Epoch 12: val_loss improved from 1.25994 to 0.92368, saving model to model_init_2022-03-1813_19_35.862486/model-00012-0.79576-0.69434-0.92368-0.62406.h5\n",
      "67/67 [==============================] - 317s 5s/step - loss: 0.7958 - categorical_accuracy: 0.6943 - val_loss: 0.9237 - val_categorical_accuracy: 0.6241 - lr: 0.0010\n",
      "Epoch 13/30\n",
      "67/67 [==============================] - ETA: 0s - loss: 0.7418 - categorical_accuracy: 0.7160\n",
      "Epoch 13: val_loss did not improve from 0.92368\n",
      "67/67 [==============================] - 316s 5s/step - loss: 0.7418 - categorical_accuracy: 0.7160 - val_loss: 1.4021 - val_categorical_accuracy: 0.5489 - lr: 0.0010\n",
      "Epoch 14/30\n",
      "67/67 [==============================] - ETA: 0s - loss: 0.6656 - categorical_accuracy: 0.7604\n",
      "Epoch 14: val_loss did not improve from 0.92368\n",
      "67/67 [==============================] - 332s 5s/step - loss: 0.6656 - categorical_accuracy: 0.7604 - val_loss: 1.1111 - val_categorical_accuracy: 0.6015 - lr: 0.0010\n",
      "Epoch 15/30\n",
      "67/67 [==============================] - ETA: 0s - loss: 0.6852 - categorical_accuracy: 0.7236\n",
      "Epoch 15: val_loss improved from 0.92368 to 0.90270, saving model to model_init_2022-03-1813_19_35.862486/model-00015-0.68518-0.72358-0.90270-0.65414.h5\n",
      "67/67 [==============================] - 336s 5s/step - loss: 0.6852 - categorical_accuracy: 0.7236 - val_loss: 0.9027 - val_categorical_accuracy: 0.6541 - lr: 0.0010\n",
      "Epoch 16/30\n",
      "67/67 [==============================] - ETA: 0s - loss: 0.6450 - categorical_accuracy: 0.7566\n",
      "Epoch 16: val_loss improved from 0.90270 to 0.78642, saving model to model_init_2022-03-1813_19_35.862486/model-00016-0.64497-0.75660-0.78642-0.67669.h5\n",
      "67/67 [==============================] - 335s 5s/step - loss: 0.6450 - categorical_accuracy: 0.7566 - val_loss: 0.7864 - val_categorical_accuracy: 0.6767 - lr: 0.0010\n",
      "Epoch 17/30\n",
      "67/67 [==============================] - ETA: 0s - loss: 0.6309 - categorical_accuracy: 0.7528\n",
      "Epoch 17: val_loss did not improve from 0.78642\n",
      "67/67 [==============================] - 351s 5s/step - loss: 0.6309 - categorical_accuracy: 0.7528 - val_loss: 2.7105 - val_categorical_accuracy: 0.4361 - lr: 0.0010\n",
      "Epoch 18/30\n",
      "67/67 [==============================] - ETA: 0s - loss: 0.6282 - categorical_accuracy: 0.7642\n",
      "Epoch 18: val_loss did not improve from 0.78642\n",
      "67/67 [==============================] - 359s 5s/step - loss: 0.6282 - categorical_accuracy: 0.7642 - val_loss: 0.8840 - val_categorical_accuracy: 0.6466 - lr: 0.0010\n",
      "Epoch 19/30\n",
      "67/67 [==============================] - ETA: 0s - loss: 0.6667 - categorical_accuracy: 0.7604\n",
      "Epoch 19: val_loss did not improve from 0.78642\n",
      "67/67 [==============================] - 355s 5s/step - loss: 0.6667 - categorical_accuracy: 0.7604 - val_loss: 1.1630 - val_categorical_accuracy: 0.6090 - lr: 0.0010\n",
      "Epoch 20/30\n",
      "67/67 [==============================] - ETA: 0s - loss: 0.5893 - categorical_accuracy: 0.7755\n",
      "Epoch 20: val_loss did not improve from 0.78642\n",
      "\n",
      "Epoch 20: ReduceLROnPlateau reducing learning rate to 0.00020000000949949026.\n",
      "67/67 [==============================] - 335s 5s/step - loss: 0.5893 - categorical_accuracy: 0.7755 - val_loss: 0.7991 - val_categorical_accuracy: 0.7068 - lr: 0.0010\n",
      "Epoch 21/30\n",
      "67/67 [==============================] - ETA: 0s - loss: 0.5033 - categorical_accuracy: 0.8264\n",
      "Epoch 21: val_loss improved from 0.78642 to 0.69354, saving model to model_init_2022-03-1813_19_35.862486/model-00021-0.50331-0.82642-0.69354-0.70677.h5\n",
      "67/67 [==============================] - 350s 5s/step - loss: 0.5033 - categorical_accuracy: 0.8264 - val_loss: 0.6935 - val_categorical_accuracy: 0.7068 - lr: 2.0000e-04\n"
     ]
    },
    {
     "name": "stdout",
     "output_type": "stream",
     "text": [
      "Epoch 22/30\n",
      "67/67 [==============================] - ETA: 0s - loss: 0.4880 - categorical_accuracy: 0.8160\n",
      "Epoch 22: val_loss did not improve from 0.69354\n",
      "67/67 [==============================] - 369s 6s/step - loss: 0.4880 - categorical_accuracy: 0.8160 - val_loss: 0.7491 - val_categorical_accuracy: 0.6842 - lr: 2.0000e-04\n",
      "Epoch 23/30\n",
      "67/67 [==============================] - ETA: 0s - loss: 0.4174 - categorical_accuracy: 0.8462\n",
      "Epoch 23: val_loss did not improve from 0.69354\n",
      "67/67 [==============================] - 358s 5s/step - loss: 0.4174 - categorical_accuracy: 0.8462 - val_loss: 0.9058 - val_categorical_accuracy: 0.6617 - lr: 2.0000e-04\n",
      "Epoch 24/30\n",
      "67/67 [==============================] - ETA: 0s - loss: 0.4421 - categorical_accuracy: 0.8443\n",
      "Epoch 24: val_loss improved from 0.69354 to 0.62656, saving model to model_init_2022-03-1813_19_35.862486/model-00024-0.44211-0.84434-0.62656-0.74436.h5\n",
      "67/67 [==============================] - 339s 5s/step - loss: 0.4421 - categorical_accuracy: 0.8443 - val_loss: 0.6266 - val_categorical_accuracy: 0.7444 - lr: 2.0000e-04\n",
      "Epoch 25/30\n",
      "67/67 [==============================] - ETA: 0s - loss: 0.4307 - categorical_accuracy: 0.8453\n",
      "Epoch 25: val_loss did not improve from 0.62656\n",
      "67/67 [==============================] - 344s 5s/step - loss: 0.4307 - categorical_accuracy: 0.8453 - val_loss: 0.6888 - val_categorical_accuracy: 0.7068 - lr: 2.0000e-04\n",
      "Epoch 26/30\n",
      "67/67 [==============================] - ETA: 0s - loss: 0.4020 - categorical_accuracy: 0.8557\n",
      "Epoch 26: val_loss improved from 0.62656 to 0.58727, saving model to model_init_2022-03-1813_19_35.862486/model-00026-0.40203-0.85566-0.58727-0.78195.h5\n",
      "67/67 [==============================] - 333s 5s/step - loss: 0.4020 - categorical_accuracy: 0.8557 - val_loss: 0.5873 - val_categorical_accuracy: 0.7820 - lr: 2.0000e-04\n",
      "Epoch 27/30\n",
      "67/67 [==============================] - ETA: 0s - loss: 0.3761 - categorical_accuracy: 0.8745\n",
      "Epoch 27: val_loss improved from 0.58727 to 0.56986, saving model to model_init_2022-03-1813_19_35.862486/model-00027-0.37606-0.87453-0.56986-0.75940.h5\n",
      "67/67 [==============================] - 329s 5s/step - loss: 0.3761 - categorical_accuracy: 0.8745 - val_loss: 0.5699 - val_categorical_accuracy: 0.7594 - lr: 2.0000e-04\n",
      "Epoch 28/30\n",
      "67/67 [==============================] - ETA: 0s - loss: 0.3645 - categorical_accuracy: 0.8745\n",
      "Epoch 28: val_loss did not improve from 0.56986\n",
      "67/67 [==============================] - 334s 5s/step - loss: 0.3645 - categorical_accuracy: 0.8745 - val_loss: 0.6365 - val_categorical_accuracy: 0.7218 - lr: 2.0000e-04\n",
      "Epoch 29/30\n",
      "67/67 [==============================] - ETA: 0s - loss: 0.3654 - categorical_accuracy: 0.8858\n",
      "Epoch 29: val_loss did not improve from 0.56986\n",
      "67/67 [==============================] - 331s 5s/step - loss: 0.3654 - categorical_accuracy: 0.8858 - val_loss: 0.5925 - val_categorical_accuracy: 0.7519 - lr: 2.0000e-04\n",
      "Epoch 30/30\n",
      "67/67 [==============================] - ETA: 0s - loss: 0.3741 - categorical_accuracy: 0.8698\n",
      "Epoch 30: val_loss did not improve from 0.56986\n",
      "67/67 [==============================] - 334s 5s/step - loss: 0.3741 - categorical_accuracy: 0.8698 - val_loss: 0.6319 - val_categorical_accuracy: 0.7519 - lr: 2.0000e-04\n"
     ]
    }
   ],
   "source": [
    "history_conv_3d1_model_with_callback_augmentation=conv_3d1_w_cb_a.train_model(conv_3d1_w_cb_a_model,augment_data=True,more_augment=True,early_stop=True)"
   ]
  },
  {
   "cell_type": "code",
   "execution_count": 20,
   "id": "d19b49db",
   "metadata": {},
   "outputs": [
    {
     "name": "stdout",
     "output_type": "stream",
     "text": [
      "Max. Training Accuracy 0.8858490586280823\n",
      "Max. Validaiton Accuracy 0.7819548845291138\n"
     ]
    },
    {
     "data": {
      "image/png": "[encoded data removed]",
      "text/plain": [
       "<Figure size 1080x288 with 2 Axes>"
      ]
     },
     "metadata": {
      "needs_background": "light"
     },
     "output_type": "display_data"
    }
   ],
   "source": [
    "plot(history_conv_3d1_model_with_callback_augmentation)"
   ]
  },
  {
   "cell_type": "markdown",
   "id": "7a0c998d",
   "metadata": {},
   "source": [
    "### B.4 With Callback and using ELU"
   ]
  },
  {
   "cell_type": "markdown",
   "id": "249bda3b",
   "metadata": {},
   "source": [
    "Based on B.2, we replace the RELU by ELU to see if there is any improvement"
   ]
  },
  {
   "cell_type": "code",
   "execution_count": 23,
   "id": "76a144fa",
   "metadata": {},
   "outputs": [
    {
     "name": "stdout",
     "output_type": "stream",
     "text": [
      "Model: \"sequential_3\"\n",
      "_________________________________________________________________\n",
      " Layer (type)                Output Shape              Param #   \n",
      "=================================================================\n",
      " conv3d_12 (Conv3D)          (None, 16, 120, 120, 16)  1312      \n",
      "                                                                 \n",
      " activation_12 (Activation)  (None, 16, 120, 120, 16)  0         \n",
      "                                                                 \n",
      " batch_normalization_18 (Bat  (None, 16, 120, 120, 16)  64       \n",
      " chNormalization)                                                \n",
      "                                                                 \n",
      " max_pooling3d_12 (MaxPoolin  (None, 8, 60, 60, 16)    0         \n",
      " g3D)                                                            \n",
      "                                                                 \n",
      " conv3d_13 (Conv3D)          (None, 8, 60, 60, 32)     4128      \n",
      "                                                                 \n",
      " activation_13 (Activation)  (None, 8, 60, 60, 32)     0         \n",
      "                                                                 \n",
      " batch_normalization_19 (Bat  (None, 8, 60, 60, 32)    128       \n",
      " chNormalization)                                                \n",
      "                                                                 \n",
      " max_pooling3d_13 (MaxPoolin  (None, 4, 30, 30, 32)    0         \n",
      " g3D)                                                            \n",
      "                                                                 \n",
      " conv3d_14 (Conv3D)          (None, 4, 30, 30, 64)     16448     \n",
      "                                                                 \n",
      " activation_14 (Activation)  (None, 4, 30, 30, 64)     0         \n",
      "                                                                 \n",
      " batch_normalization_20 (Bat  (None, 4, 30, 30, 64)    256       \n",
      " chNormalization)                                                \n",
      "                                                                 \n",
      " max_pooling3d_14 (MaxPoolin  (None, 2, 15, 15, 64)    0         \n",
      " g3D)                                                            \n",
      "                                                                 \n",
      " conv3d_15 (Conv3D)          (None, 2, 15, 15, 128)    65664     \n",
      "                                                                 \n",
      " activation_15 (Activation)  (None, 2, 15, 15, 128)    0         \n",
      "                                                                 \n",
      " batch_normalization_21 (Bat  (None, 2, 15, 15, 128)   512       \n",
      " chNormalization)                                                \n",
      "                                                                 \n",
      " max_pooling3d_15 (MaxPoolin  (None, 1, 7, 7, 128)     0         \n",
      " g3D)                                                            \n",
      "                                                                 \n",
      " flatten_3 (Flatten)         (None, 6272)              0         \n",
      "                                                                 \n",
      " dense_9 (Dense)             (None, 128)               802944    \n",
      "                                                                 \n",
      " batch_normalization_22 (Bat  (None, 128)              512       \n",
      " chNormalization)                                                \n",
      "                                                                 \n",
      " dropout_6 (Dropout)         (None, 128)               0         \n",
      "                                                                 \n",
      " dense_10 (Dense)            (None, 64)                8256      \n",
      "                                                                 \n",
      " batch_normalization_23 (Bat  (None, 64)               256       \n",
      " chNormalization)                                                \n",
      "                                                                 \n",
      " dropout_7 (Dropout)         (None, 64)                0         \n",
      "                                                                 \n",
      " dense_11 (Dense)            (None, 5)                 325       \n",
      "                                                                 \n",
      "=================================================================\n",
      "Total params: 900,805\n",
      "Trainable params: 899,941\n",
      "Non-trainable params: 864\n",
      "_________________________________________________________________\n"
     ]
    }
   ],
   "source": [
    "conv_3d1_elu=ModelConv3D1()\n",
    "conv_3d1_elu.initialize_path(project_folder)\n",
    "conv_3d1_elu.initialize_image_properties(image_height=120,image_width=120)\n",
    "conv_3d1_elu.initialize_hyperparams(frames_to_sample=16,batch_size=64,num_epochs=30)\n",
    "conv_3d1_elu_model=conv_3d1_elu.define_model(activation='elu')\n",
    "conv_3d1_elu_model.summary()"
   ]
  },
  {
   "cell_type": "code",
   "execution_count": 24,
   "id": "2d73373b",
   "metadata": {},
   "outputs": [
    {
     "name": "stdout",
     "output_type": "stream",
     "text": [
      "WARNING:tensorflow:`period` argument is deprecated. Please use `save_freq` to specify the frequency in number of batches seen.\n",
      "WARNING:tensorflow:`period` argument is deprecated. Please use `save_freq` to specify the frequency in number of batches seen.\n",
      "Epoch 1/30\n",
      "67/67 [==============================] - ETA: 0s - loss: 1.5307 - categorical_accuracy: 0.4340\n",
      "Epoch 1: val_loss improved from inf to 6.52714, saving model to model_init_2022-03-1816_14_51.954295/model-00001-1.53072-0.43396-6.52714-0.18045.h5\n",
      "67/67 [==============================] - 337s 5s/step - loss: 1.5307 - categorical_accuracy: 0.4340 - val_loss: 6.5271 - val_categorical_accuracy: 0.1805 - lr: 0.0010\n",
      "Epoch 2/30\n",
      "67/67 [==============================] - ETA: 0s - loss: 1.1976 - categorical_accuracy: 0.5311\n",
      "Epoch 2: val_loss improved from 6.52714 to 5.87276, saving model to model_init_2022-03-1816_14_51.954295/model-00002-1.19759-0.53113-5.87276-0.15789.h5\n",
      "67/67 [==============================] - 335s 5s/step - loss: 1.1976 - categorical_accuracy: 0.5311 - val_loss: 5.8728 - val_categorical_accuracy: 0.1579 - lr: 0.0010\n",
      "Epoch 3/30\n",
      "67/67 [==============================] - ETA: 0s - loss: 1.0849 - categorical_accuracy: 0.5755\n",
      "Epoch 3: val_loss did not improve from 5.87276\n",
      "67/67 [==============================] - 334s 5s/step - loss: 1.0849 - categorical_accuracy: 0.5755 - val_loss: 6.4907 - val_categorical_accuracy: 0.2707 - lr: 0.0010\n",
      "Epoch 4/30\n",
      "67/67 [==============================] - ETA: 0s - loss: 1.0188 - categorical_accuracy: 0.6104\n",
      "Epoch 4: val_loss improved from 5.87276 to 5.67412, saving model to model_init_2022-03-1816_14_51.954295/model-00004-1.01882-0.61038-5.67412-0.23308.h5\n",
      "67/67 [==============================] - 328s 5s/step - loss: 1.0188 - categorical_accuracy: 0.6104 - val_loss: 5.6741 - val_categorical_accuracy: 0.2331 - lr: 0.0010\n",
      "Epoch 5/30\n",
      "67/67 [==============================] - ETA: 0s - loss: 0.9326 - categorical_accuracy: 0.6453\n",
      "Epoch 5: val_loss improved from 5.67412 to 3.93465, saving model to model_init_2022-03-1816_14_51.954295/model-00005-0.93264-0.64528-3.93465-0.27820.h5\n",
      "67/67 [==============================] - 330s 5s/step - loss: 0.9326 - categorical_accuracy: 0.6453 - val_loss: 3.9347 - val_categorical_accuracy: 0.2782 - lr: 0.0010\n",
      "Epoch 6/30\n",
      "67/67 [==============================] - ETA: 0s - loss: 0.9741 - categorical_accuracy: 0.6547\n",
      "Epoch 6: val_loss improved from 3.93465 to 1.09850, saving model to model_init_2022-03-1816_14_51.954295/model-00006-0.97412-0.65472-1.09850-0.61654.h5\n",
      "67/67 [==============================] - 330s 5s/step - loss: 0.9741 - categorical_accuracy: 0.6547 - val_loss: 1.0985 - val_categorical_accuracy: 0.6165 - lr: 0.0010\n",
      "Epoch 7/30\n",
      "67/67 [==============================] - ETA: 0s - loss: 0.8265 - categorical_accuracy: 0.6736\n",
      "Epoch 7: val_loss did not improve from 1.09850\n",
      "67/67 [==============================] - 329s 5s/step - loss: 0.8265 - categorical_accuracy: 0.6736 - val_loss: 2.9815 - val_categorical_accuracy: 0.3459 - lr: 0.0010\n",
      "Epoch 8/30\n",
      "67/67 [==============================] - ETA: 0s - loss: 0.8063 - categorical_accuracy: 0.6953\n",
      "Epoch 8: val_loss did not improve from 1.09850\n",
      "67/67 [==============================] - 333s 5s/step - loss: 0.8063 - categorical_accuracy: 0.6953 - val_loss: 1.1226 - val_categorical_accuracy: 0.6917 - lr: 0.0010\n",
      "Epoch 9/30\n",
      "67/67 [==============================] - ETA: 0s - loss: 0.7502 - categorical_accuracy: 0.7274\n",
      "Epoch 9: val_loss did not improve from 1.09850\n",
      "67/67 [==============================] - 332s 5s/step - loss: 0.7502 - categorical_accuracy: 0.7274 - val_loss: 1.4234 - val_categorical_accuracy: 0.5263 - lr: 0.0010\n",
      "Epoch 10/30\n",
      "67/67 [==============================] - ETA: 0s - loss: 0.7172 - categorical_accuracy: 0.7264\n",
      "Epoch 10: val_loss did not improve from 1.09850\n",
      "\n",
      "Epoch 10: ReduceLROnPlateau reducing learning rate to 0.00020000000949949026.\n",
      "67/67 [==============================] - 332s 5s/step - loss: 0.7172 - categorical_accuracy: 0.7264 - val_loss: 1.5058 - val_categorical_accuracy: 0.5564 - lr: 0.0010\n",
      "Epoch 11/30\n",
      "67/67 [==============================] - ETA: 0s - loss: 0.5696 - categorical_accuracy: 0.7934\n",
      "Epoch 11: val_loss improved from 1.09850 to 0.65886, saving model to model_init_2022-03-1816_14_51.954295/model-00011-0.56959-0.79340-0.65886-0.81203.h5\n",
      "67/67 [==============================] - 333s 5s/step - loss: 0.5696 - categorical_accuracy: 0.7934 - val_loss: 0.6589 - val_categorical_accuracy: 0.8120 - lr: 2.0000e-04\n",
      "Epoch 12/30\n",
      "67/67 [==============================] - ETA: 0s - loss: 0.5865 - categorical_accuracy: 0.7840\n",
      "Epoch 12: val_loss did not improve from 0.65886\n",
      "67/67 [==============================] - 335s 5s/step - loss: 0.5865 - categorical_accuracy: 0.7840 - val_loss: 0.8962 - val_categorical_accuracy: 0.6466 - lr: 2.0000e-04\n",
      "Epoch 13/30\n",
      "67/67 [==============================] - ETA: 0s - loss: 0.4704 - categorical_accuracy: 0.8226\n",
      "Epoch 13: val_loss improved from 0.65886 to 0.64386, saving model to model_init_2022-03-1816_14_51.954295/model-00013-0.47040-0.82264-0.64386-0.73684.h5\n",
      "67/67 [==============================] - 325s 5s/step - loss: 0.4704 - categorical_accuracy: 0.8226 - val_loss: 0.6439 - val_categorical_accuracy: 0.7368 - lr: 2.0000e-04\n",
      "Epoch 14/30\n",
      "67/67 [==============================] - ETA: 0s - loss: 0.5212 - categorical_accuracy: 0.8094\n",
      "Epoch 14: val_loss improved from 0.64386 to 0.55875, saving model to model_init_2022-03-1816_14_51.954295/model-00014-0.52123-0.80943-0.55875-0.78947.h5\n",
      "67/67 [==============================] - 331s 5s/step - loss: 0.5212 - categorical_accuracy: 0.8094 - val_loss: 0.5587 - val_categorical_accuracy: 0.7895 - lr: 2.0000e-04\n",
      "Epoch 15/30\n",
      "67/67 [==============================] - ETA: 0s - loss: 0.4217 - categorical_accuracy: 0.8500\n",
      "Epoch 15: val_loss did not improve from 0.55875\n",
      "67/67 [==============================] - 328s 5s/step - loss: 0.4217 - categorical_accuracy: 0.8500 - val_loss: 0.5632 - val_categorical_accuracy: 0.7820 - lr: 2.0000e-04\n",
      "Epoch 16/30\n",
      "67/67 [==============================] - ETA: 0s - loss: 0.4529 - categorical_accuracy: 0.8302\n",
      "Epoch 16: val_loss did not improve from 0.55875\n",
      "67/67 [==============================] - 326s 5s/step - loss: 0.4529 - categorical_accuracy: 0.8302 - val_loss: 0.7163 - val_categorical_accuracy: 0.7218 - lr: 2.0000e-04\n",
      "Epoch 17/30\n",
      "67/67 [==============================] - ETA: 0s - loss: 0.4790 - categorical_accuracy: 0.8217\n",
      "Epoch 17: val_loss did not improve from 0.55875\n",
      "67/67 [==============================] - 325s 5s/step - loss: 0.4790 - categorical_accuracy: 0.8217 - val_loss: 0.7568 - val_categorical_accuracy: 0.7368 - lr: 2.0000e-04\n",
      "Epoch 18/30\n",
      "67/67 [==============================] - ETA: 0s - loss: 0.4649 - categorical_accuracy: 0.8217\n",
      "Epoch 18: val_loss did not improve from 0.55875\n",
      "\n",
      "Epoch 18: ReduceLROnPlateau reducing learning rate to 4.0000001899898055e-05.\n",
      "67/67 [==============================] - 322s 5s/step - loss: 0.4649 - categorical_accuracy: 0.8217 - val_loss: 0.6636 - val_categorical_accuracy: 0.7669 - lr: 2.0000e-04\n",
      "Epoch 19/30\n",
      "67/67 [==============================] - ETA: 0s - loss: 0.3930 - categorical_accuracy: 0.8708\n",
      "Epoch 19: val_loss improved from 0.55875 to 0.55509, saving model to model_init_2022-03-1816_14_51.954295/model-00019-0.39302-0.87075-0.55509-0.79699.h5\n",
      "67/67 [==============================] - 312s 5s/step - loss: 0.3930 - categorical_accuracy: 0.8708 - val_loss: 0.5551 - val_categorical_accuracy: 0.7970 - lr: 4.0000e-05\n",
      "Epoch 20/30\n",
      "67/67 [==============================] - ETA: 0s - loss: 0.3491 - categorical_accuracy: 0.8764\n",
      "Epoch 20: val_loss improved from 0.55509 to 0.49324, saving model to model_init_2022-03-1816_14_51.954295/model-00020-0.34909-0.87642-0.49324-0.80451.h5\n",
      "67/67 [==============================] - 308s 5s/step - loss: 0.3491 - categorical_accuracy: 0.8764 - val_loss: 0.4932 - val_categorical_accuracy: 0.8045 - lr: 4.0000e-05\n",
      "Epoch 21/30\n",
      "67/67 [==============================] - ETA: 0s - loss: 0.3531 - categorical_accuracy: 0.8830\n",
      "Epoch 21: val_loss did not improve from 0.49324\n",
      "67/67 [==============================] - 312s 5s/step - loss: 0.3531 - categorical_accuracy: 0.8830 - val_loss: 0.5114 - val_categorical_accuracy: 0.7895 - lr: 4.0000e-05\n"
     ]
    },
    {
     "name": "stdout",
     "output_type": "stream",
     "text": [
      "Epoch 22/30\n",
      "67/67 [==============================] - ETA: 0s - loss: 0.3809 - categorical_accuracy: 0.8670\n",
      "Epoch 22: val_loss did not improve from 0.49324\n",
      "67/67 [==============================] - 309s 5s/step - loss: 0.3809 - categorical_accuracy: 0.8670 - val_loss: 0.6530 - val_categorical_accuracy: 0.7519 - lr: 4.0000e-05\n",
      "Epoch 23/30\n",
      "67/67 [==============================] - ETA: 0s - loss: 0.3789 - categorical_accuracy: 0.8642\n",
      "Epoch 23: val_loss improved from 0.49324 to 0.46749, saving model to model_init_2022-03-1816_14_51.954295/model-00023-0.37889-0.86415-0.46749-0.81955.h5\n",
      "67/67 [==============================] - 312s 5s/step - loss: 0.3789 - categorical_accuracy: 0.8642 - val_loss: 0.4675 - val_categorical_accuracy: 0.8195 - lr: 4.0000e-05\n",
      "Epoch 24/30\n",
      "67/67 [==============================] - ETA: 0s - loss: 0.3492 - categorical_accuracy: 0.8830\n",
      "Epoch 24: val_loss did not improve from 0.46749\n",
      "67/67 [==============================] - 312s 5s/step - loss: 0.3492 - categorical_accuracy: 0.8830 - val_loss: 0.5171 - val_categorical_accuracy: 0.8045 - lr: 4.0000e-05\n",
      "Epoch 25/30\n",
      "67/67 [==============================] - ETA: 0s - loss: 0.4315 - categorical_accuracy: 0.8302\n",
      "Epoch 25: val_loss improved from 0.46749 to 0.42265, saving model to model_init_2022-03-1816_14_51.954295/model-00025-0.43147-0.83019-0.42265-0.84962.h5\n",
      "67/67 [==============================] - 312s 5s/step - loss: 0.4315 - categorical_accuracy: 0.8302 - val_loss: 0.4227 - val_categorical_accuracy: 0.8496 - lr: 4.0000e-05\n",
      "Epoch 26/30\n",
      "67/67 [==============================] - ETA: 0s - loss: 0.3474 - categorical_accuracy: 0.8858\n",
      "Epoch 26: val_loss did not improve from 0.42265\n",
      "67/67 [==============================] - 314s 5s/step - loss: 0.3474 - categorical_accuracy: 0.8858 - val_loss: 0.5177 - val_categorical_accuracy: 0.8045 - lr: 4.0000e-05\n",
      "Epoch 27/30\n",
      "67/67 [==============================] - ETA: 0s - loss: 0.3309 - categorical_accuracy: 0.8858\n",
      "Epoch 27: val_loss did not improve from 0.42265\n",
      "67/67 [==============================] - 311s 5s/step - loss: 0.3309 - categorical_accuracy: 0.8858 - val_loss: 0.5920 - val_categorical_accuracy: 0.7970 - lr: 4.0000e-05\n",
      "Epoch 28/30\n",
      "67/67 [==============================] - ETA: 0s - loss: 0.3902 - categorical_accuracy: 0.8651\n",
      "Epoch 28: val_loss did not improve from 0.42265\n",
      "67/67 [==============================] - 316s 5s/step - loss: 0.3902 - categorical_accuracy: 0.8651 - val_loss: 0.5126 - val_categorical_accuracy: 0.7744 - lr: 4.0000e-05\n",
      "Epoch 29/30\n",
      "67/67 [==============================] - ETA: 0s - loss: 0.3415 - categorical_accuracy: 0.8802\n",
      "Epoch 29: val_loss did not improve from 0.42265\n",
      "\n",
      "Epoch 29: ReduceLROnPlateau reducing learning rate to 8.000000525498762e-06.\n",
      "67/67 [==============================] - 328s 5s/step - loss: 0.3415 - categorical_accuracy: 0.8802 - val_loss: 0.4968 - val_categorical_accuracy: 0.8271 - lr: 4.0000e-05\n",
      "Epoch 30/30\n",
      "67/67 [==============================] - ETA: 0s - loss: 0.3539 - categorical_accuracy: 0.8774\n",
      "Epoch 30: val_loss did not improve from 0.42265\n",
      "67/67 [==============================] - 328s 5s/step - loss: 0.3539 - categorical_accuracy: 0.8774 - val_loss: 0.4782 - val_categorical_accuracy: 0.8271 - lr: 8.0000e-06\n"
     ]
    }
   ],
   "source": [
    "history_conv_3d1_model_with_elu=conv_3d1_elu.train_model(conv_3d1_elu_model,augment_data=True,more_augment=False,early_stop=True)"
   ]
  },
  {
   "cell_type": "code",
   "execution_count": 25,
   "id": "3ba255cd",
   "metadata": {},
   "outputs": [
    {
     "name": "stdout",
     "output_type": "stream",
     "text": [
      "Max. Training Accuracy 0.8858490586280823\n",
      "Max. Validaiton Accuracy 0.8496240377426147\n"
     ]
    },
    {
     "data": {
      "image/png": "[encoded data removed]",
      "text/plain": [
       "<Figure size 1080x288 with 2 Axes>"
      ]
     },
     "metadata": {
      "needs_background": "light"
     },
     "output_type": "display_data"
    }
   ],
   "source": [
    "plot(history_conv_3d1_model_with_elu)"
   ]
  },
  {
   "cell_type": "markdown",
   "id": "02ac54fb",
   "metadata": {},
   "source": [
    "### B.5 With Callback and using colorful images"
   ]
  },
  {
   "cell_type": "code",
   "execution_count": 26,
   "id": "6c9b0b44",
   "metadata": {},
   "outputs": [
    {
     "name": "stdout",
     "output_type": "stream",
     "text": [
      "Model: \"sequential_4\"\n",
      "_________________________________________________________________\n",
      " Layer (type)                Output Shape              Param #   \n",
      "=================================================================\n",
      " conv3d_16 (Conv3D)          (None, 16, 120, 120, 16)  1312      \n",
      "                                                                 \n",
      " activation_16 (Activation)  (None, 16, 120, 120, 16)  0         \n",
      "                                                                 \n",
      " batch_normalization_24 (Bat  (None, 16, 120, 120, 16)  64       \n",
      " chNormalization)                                                \n",
      "                                                                 \n",
      " max_pooling3d_16 (MaxPoolin  (None, 8, 60, 60, 16)    0         \n",
      " g3D)                                                            \n",
      "                                                                 \n",
      " conv3d_17 (Conv3D)          (None, 8, 60, 60, 32)     4128      \n",
      "                                                                 \n",
      " activation_17 (Activation)  (None, 8, 60, 60, 32)     0         \n",
      "                                                                 \n",
      " batch_normalization_25 (Bat  (None, 8, 60, 60, 32)    128       \n",
      " chNormalization)                                                \n",
      "                                                                 \n",
      " max_pooling3d_17 (MaxPoolin  (None, 4, 30, 30, 32)    0         \n",
      " g3D)                                                            \n",
      "                                                                 \n",
      " conv3d_18 (Conv3D)          (None, 4, 30, 30, 64)     16448     \n",
      "                                                                 \n",
      " activation_18 (Activation)  (None, 4, 30, 30, 64)     0         \n",
      "                                                                 \n",
      " batch_normalization_26 (Bat  (None, 4, 30, 30, 64)    256       \n",
      " chNormalization)                                                \n",
      "                                                                 \n",
      " max_pooling3d_18 (MaxPoolin  (None, 2, 15, 15, 64)    0         \n",
      " g3D)                                                            \n",
      "                                                                 \n",
      " conv3d_19 (Conv3D)          (None, 2, 15, 15, 128)    65664     \n",
      "                                                                 \n",
      " activation_19 (Activation)  (None, 2, 15, 15, 128)    0         \n",
      "                                                                 \n",
      " batch_normalization_27 (Bat  (None, 2, 15, 15, 128)   512       \n",
      " chNormalization)                                                \n",
      "                                                                 \n",
      " max_pooling3d_19 (MaxPoolin  (None, 1, 7, 7, 128)     0         \n",
      " g3D)                                                            \n",
      "                                                                 \n",
      " flatten_4 (Flatten)         (None, 6272)              0         \n",
      "                                                                 \n",
      " dense_12 (Dense)            (None, 128)               802944    \n",
      "                                                                 \n",
      " batch_normalization_28 (Bat  (None, 128)              512       \n",
      " chNormalization)                                                \n",
      "                                                                 \n",
      " dropout_8 (Dropout)         (None, 128)               0         \n",
      "                                                                 \n",
      " dense_13 (Dense)            (None, 64)                8256      \n",
      "                                                                 \n",
      " batch_normalization_29 (Bat  (None, 64)               256       \n",
      " chNormalization)                                                \n",
      "                                                                 \n",
      " dropout_9 (Dropout)         (None, 64)                0         \n",
      "                                                                 \n",
      " dense_14 (Dense)            (None, 5)                 325       \n",
      "                                                                 \n",
      "=================================================================\n",
      "Total params: 900,805\n",
      "Trainable params: 899,941\n",
      "Non-trainable params: 864\n",
      "_________________________________________________________________\n"
     ]
    }
   ],
   "source": [
    "conv_3d1_color=ModelConv3D1()\n",
    "conv_3d1_color.initialize_path(project_folder)\n",
    "conv_3d1_color.initialize_image_properties(image_height=120,image_width=120)\n",
    "conv_3d1_color.initialize_hyperparams(frames_to_sample=16,batch_size=64,num_epochs=30)\n",
    "conv_3d1_color_model=conv_3d1_color.define_model()\n",
    "conv_3d1_color_model.summary()"
   ]
  },
  {
   "cell_type": "code",
   "execution_count": 27,
   "id": "06b2ce3f",
   "metadata": {},
   "outputs": [
    {
     "name": "stdout",
     "output_type": "stream",
     "text": [
      "WARNING:tensorflow:`period` argument is deprecated. Please use `save_freq` to specify the frequency in number of batches seen.\n",
      "WARNING:tensorflow:`period` argument is deprecated. Please use `save_freq` to specify the frequency in number of batches seen.\n",
      "Epoch 1/30\n",
      "67/67 [==============================] - ETA: 0s - loss: 1.9542 - categorical_accuracy: 0.2925\n",
      "Epoch 1: val_loss improved from inf to 6.27629, saving model to model_init_2022-03-1819_03_19.137677/model-00001-1.95425-0.29245-6.27629-0.21053.h5\n",
      "67/67 [==============================] - 187s 3s/step - loss: 1.9542 - categorical_accuracy: 0.2925 - val_loss: 6.2763 - val_categorical_accuracy: 0.2105 - lr: 0.0010\n",
      "Epoch 2/30\n",
      "67/67 [==============================] - ETA: 0s - loss: 1.3789 - categorical_accuracy: 0.4491\n",
      "Epoch 2: val_loss did not improve from 6.27629\n",
      "67/67 [==============================] - 182s 3s/step - loss: 1.3789 - categorical_accuracy: 0.4491 - val_loss: 7.9967 - val_categorical_accuracy: 0.1805 - lr: 0.0010\n",
      "Epoch 3/30\n",
      "67/67 [==============================] - ETA: 0s - loss: 1.3566 - categorical_accuracy: 0.4906\n",
      "Epoch 3: val_loss improved from 6.27629 to 5.51406, saving model to model_init_2022-03-1819_03_19.137677/model-00003-1.35660-0.49057-5.51406-0.19549.h5\n",
      "67/67 [==============================] - 180s 3s/step - loss: 1.3566 - categorical_accuracy: 0.4906 - val_loss: 5.5141 - val_categorical_accuracy: 0.1955 - lr: 0.0010\n",
      "Epoch 4/30\n",
      "67/67 [==============================] - ETA: 0s - loss: 1.2168 - categorical_accuracy: 0.5094\n",
      "Epoch 4: val_loss improved from 5.51406 to 4.75225, saving model to model_init_2022-03-1819_03_19.137677/model-00004-1.21681-0.50943-4.75225-0.21805.h5\n",
      "67/67 [==============================] - 178s 3s/step - loss: 1.2168 - categorical_accuracy: 0.5094 - val_loss: 4.7523 - val_categorical_accuracy: 0.2180 - lr: 0.0010\n",
      "Epoch 5/30\n",
      "67/67 [==============================] - ETA: 0s - loss: 1.3608 - categorical_accuracy: 0.4528\n",
      "Epoch 5: val_loss improved from 4.75225 to 1.40567, saving model to model_init_2022-03-1819_03_19.137677/model-00005-1.36085-0.45283-1.40567-0.33835.h5\n",
      "67/67 [==============================] - 176s 3s/step - loss: 1.3608 - categorical_accuracy: 0.4528 - val_loss: 1.4057 - val_categorical_accuracy: 0.3383 - lr: 0.0010\n",
      "Epoch 6/30\n",
      "67/67 [==============================] - ETA: 0s - loss: 1.1387 - categorical_accuracy: 0.5245\n",
      "Epoch 6: val_loss did not improve from 1.40567\n",
      "67/67 [==============================] - 170s 3s/step - loss: 1.1387 - categorical_accuracy: 0.5245 - val_loss: 1.5841 - val_categorical_accuracy: 0.3985 - lr: 0.0010\n",
      "Epoch 7/30\n",
      "67/67 [==============================] - ETA: 0s - loss: 1.0259 - categorical_accuracy: 0.5849\n",
      "Epoch 7: val_loss improved from 1.40567 to 1.33861, saving model to model_init_2022-03-1819_03_19.137677/model-00007-1.02595-0.58491-1.33861-0.51128.h5\n",
      "67/67 [==============================] - 170s 3s/step - loss: 1.0259 - categorical_accuracy: 0.5849 - val_loss: 1.3386 - val_categorical_accuracy: 0.5113 - lr: 0.0010\n",
      "Epoch 8/30\n",
      "67/67 [==============================] - ETA: 0s - loss: 0.9885 - categorical_accuracy: 0.5868\n",
      "Epoch 8: val_loss improved from 1.33861 to 1.16116, saving model to model_init_2022-03-1819_03_19.137677/model-00008-0.98846-0.58679-1.16116-0.52632.h5\n",
      "67/67 [==============================] - 172s 3s/step - loss: 0.9885 - categorical_accuracy: 0.5868 - val_loss: 1.1612 - val_categorical_accuracy: 0.5263 - lr: 0.0010\n",
      "Epoch 9/30\n",
      "67/67 [==============================] - ETA: 0s - loss: 0.8771 - categorical_accuracy: 0.6415\n",
      "Epoch 9: val_loss improved from 1.16116 to 1.07115, saving model to model_init_2022-03-1819_03_19.137677/model-00009-0.87714-0.64151-1.07115-0.60150.h5\n",
      "67/67 [==============================] - 167s 3s/step - loss: 0.8771 - categorical_accuracy: 0.6415 - val_loss: 1.0711 - val_categorical_accuracy: 0.6015 - lr: 0.0010\n",
      "Epoch 10/30\n",
      "67/67 [==============================] - ETA: 0s - loss: 0.8410 - categorical_accuracy: 0.6679\n",
      "Epoch 10: val_loss improved from 1.07115 to 0.87494, saving model to model_init_2022-03-1819_03_19.137677/model-00010-0.84099-0.66792-0.87494-0.63910.h5\n",
      "67/67 [==============================] - 171s 3s/step - loss: 0.8410 - categorical_accuracy: 0.6679 - val_loss: 0.8749 - val_categorical_accuracy: 0.6391 - lr: 0.0010\n",
      "Epoch 11/30\n",
      "67/67 [==============================] - ETA: 0s - loss: 0.7700 - categorical_accuracy: 0.7094\n",
      "Epoch 11: val_loss did not improve from 0.87494\n",
      "67/67 [==============================] - 172s 3s/step - loss: 0.7700 - categorical_accuracy: 0.7094 - val_loss: 0.9944 - val_categorical_accuracy: 0.6316 - lr: 0.0010\n",
      "Epoch 12/30\n",
      "67/67 [==============================] - ETA: 0s - loss: 0.7956 - categorical_accuracy: 0.7038\n",
      "Epoch 12: val_loss did not improve from 0.87494\n",
      "67/67 [==============================] - 169s 3s/step - loss: 0.7956 - categorical_accuracy: 0.7038 - val_loss: 1.0584 - val_categorical_accuracy: 0.5940 - lr: 0.0010\n",
      "Epoch 13/30\n",
      "67/67 [==============================] - ETA: 0s - loss: 0.6894 - categorical_accuracy: 0.7453\n",
      "Epoch 13: val_loss improved from 0.87494 to 0.76687, saving model to model_init_2022-03-1819_03_19.137677/model-00013-0.68936-0.74528-0.76687-0.77444.h5\n",
      "67/67 [==============================] - 172s 3s/step - loss: 0.6894 - categorical_accuracy: 0.7453 - val_loss: 0.7669 - val_categorical_accuracy: 0.7744 - lr: 0.0010\n",
      "Epoch 14/30\n",
      "67/67 [==============================] - ETA: 0s - loss: 0.6718 - categorical_accuracy: 0.7302\n",
      "Epoch 14: val_loss did not improve from 0.76687\n",
      "67/67 [==============================] - 168s 3s/step - loss: 0.6718 - categorical_accuracy: 0.7302 - val_loss: 1.5745 - val_categorical_accuracy: 0.4286 - lr: 0.0010\n",
      "Epoch 15/30\n",
      "67/67 [==============================] - ETA: 0s - loss: 0.5797 - categorical_accuracy: 0.7755\n",
      "Epoch 15: val_loss did not improve from 0.76687\n",
      "67/67 [==============================] - 170s 3s/step - loss: 0.5797 - categorical_accuracy: 0.7755 - val_loss: 1.1425 - val_categorical_accuracy: 0.5865 - lr: 0.0010\n",
      "Epoch 16/30\n",
      "67/67 [==============================] - ETA: 0s - loss: 0.6121 - categorical_accuracy: 0.7679\n",
      "Epoch 16: val_loss did not improve from 0.76687\n",
      "67/67 [==============================] - 170s 3s/step - loss: 0.6121 - categorical_accuracy: 0.7679 - val_loss: 1.1597 - val_categorical_accuracy: 0.6241 - lr: 0.0010\n",
      "Epoch 17/30\n",
      "67/67 [==============================] - ETA: 0s - loss: 0.5340 - categorical_accuracy: 0.8132\n",
      "Epoch 17: val_loss did not improve from 0.76687\n",
      "\n",
      "Epoch 17: ReduceLROnPlateau reducing learning rate to 0.00020000000949949026.\n",
      "67/67 [==============================] - 170s 3s/step - loss: 0.5340 - categorical_accuracy: 0.8132 - val_loss: 1.1055 - val_categorical_accuracy: 0.6090 - lr: 0.0010\n",
      "Epoch 18/30\n",
      "67/67 [==============================] - ETA: 0s - loss: 0.4658 - categorical_accuracy: 0.8208\n",
      "Epoch 18: val_loss did not improve from 0.76687\n",
      "67/67 [==============================] - 171s 3s/step - loss: 0.4658 - categorical_accuracy: 0.8208 - val_loss: 1.1073 - val_categorical_accuracy: 0.6842 - lr: 2.0000e-04\n",
      "Epoch 19/30\n",
      "67/67 [==============================] - ETA: 0s - loss: 0.4033 - categorical_accuracy: 0.8528\n",
      "Epoch 19: val_loss did not improve from 0.76687\n",
      "67/67 [==============================] - 169s 3s/step - loss: 0.4033 - categorical_accuracy: 0.8528 - val_loss: 1.0670 - val_categorical_accuracy: 0.7068 - lr: 2.0000e-04\n",
      "Epoch 20/30\n",
      "67/67 [==============================] - ETA: 0s - loss: 0.4283 - categorical_accuracy: 0.8566\n",
      "Epoch 20: val_loss improved from 0.76687 to 0.73405, saving model to model_init_2022-03-1819_03_19.137677/model-00020-0.42830-0.85660-0.73405-0.76692.h5\n",
      "67/67 [==============================] - 170s 3s/step - loss: 0.4283 - categorical_accuracy: 0.8566 - val_loss: 0.7341 - val_categorical_accuracy: 0.7669 - lr: 2.0000e-04\n",
      "Epoch 21/30\n",
      "67/67 [==============================] - ETA: 0s - loss: 0.3767 - categorical_accuracy: 0.8528\n",
      "Epoch 21: val_loss did not improve from 0.73405\n",
      "67/67 [==============================] - 173s 3s/step - loss: 0.3767 - categorical_accuracy: 0.8528 - val_loss: 0.8604 - val_categorical_accuracy: 0.7669 - lr: 2.0000e-04\n",
      "Epoch 22/30\n"
     ]
    },
    {
     "name": "stdout",
     "output_type": "stream",
     "text": [
      "67/67 [==============================] - ETA: 0s - loss: 0.3595 - categorical_accuracy: 0.8698\n",
      "Epoch 22: val_loss did not improve from 0.73405\n",
      "67/67 [==============================] - 171s 3s/step - loss: 0.3595 - categorical_accuracy: 0.8698 - val_loss: 0.7531 - val_categorical_accuracy: 0.7218 - lr: 2.0000e-04\n",
      "Epoch 23/30\n",
      "67/67 [==============================] - ETA: 0s - loss: 0.3840 - categorical_accuracy: 0.8736\n",
      "Epoch 23: val_loss improved from 0.73405 to 0.62853, saving model to model_init_2022-03-1819_03_19.137677/model-00023-0.38403-0.87358-0.62853-0.73684.h5\n",
      "67/67 [==============================] - 168s 3s/step - loss: 0.3840 - categorical_accuracy: 0.8736 - val_loss: 0.6285 - val_categorical_accuracy: 0.7368 - lr: 2.0000e-04\n",
      "Epoch 24/30\n",
      "67/67 [==============================] - ETA: 0s - loss: 0.3569 - categorical_accuracy: 0.8717\n",
      "Epoch 24: val_loss improved from 0.62853 to 0.59601, saving model to model_init_2022-03-1819_03_19.137677/model-00024-0.35692-0.87170-0.59601-0.80451.h5\n",
      "67/67 [==============================] - 175s 3s/step - loss: 0.3569 - categorical_accuracy: 0.8717 - val_loss: 0.5960 - val_categorical_accuracy: 0.8045 - lr: 2.0000e-04\n",
      "Epoch 25/30\n",
      "67/67 [==============================] - ETA: 0s - loss: 0.3196 - categorical_accuracy: 0.8943\n",
      "Epoch 25: val_loss did not improve from 0.59601\n",
      "67/67 [==============================] - 170s 3s/step - loss: 0.3196 - categorical_accuracy: 0.8943 - val_loss: 0.6145 - val_categorical_accuracy: 0.7895 - lr: 2.0000e-04\n",
      "Epoch 26/30\n",
      "67/67 [==============================] - ETA: 0s - loss: 0.2694 - categorical_accuracy: 0.9000\n",
      "Epoch 26: val_loss did not improve from 0.59601\n",
      "67/67 [==============================] - 170s 3s/step - loss: 0.2694 - categorical_accuracy: 0.9000 - val_loss: 0.6425 - val_categorical_accuracy: 0.7519 - lr: 2.0000e-04\n",
      "Epoch 27/30\n",
      "67/67 [==============================] - ETA: 0s - loss: 0.3136 - categorical_accuracy: 0.9075\n",
      "Epoch 27: val_loss did not improve from 0.59601\n",
      "67/67 [==============================] - 172s 3s/step - loss: 0.3136 - categorical_accuracy: 0.9075 - val_loss: 0.6073 - val_categorical_accuracy: 0.7970 - lr: 2.0000e-04\n",
      "Epoch 28/30\n",
      "67/67 [==============================] - ETA: 0s - loss: 0.2492 - categorical_accuracy: 0.9208\n",
      "Epoch 28: val_loss did not improve from 0.59601\n",
      "\n",
      "Epoch 28: ReduceLROnPlateau reducing learning rate to 4.0000001899898055e-05.\n",
      "67/67 [==============================] - 170s 3s/step - loss: 0.2492 - categorical_accuracy: 0.9208 - val_loss: 0.6215 - val_categorical_accuracy: 0.7519 - lr: 2.0000e-04\n",
      "Epoch 29/30\n",
      "67/67 [==============================] - ETA: 0s - loss: 0.3315 - categorical_accuracy: 0.8849\n",
      "Epoch 29: val_loss improved from 0.59601 to 0.51642, saving model to model_init_2022-03-1819_03_19.137677/model-00029-0.33148-0.88491-0.51642-0.78195.h5\n",
      "67/67 [==============================] - 175s 3s/step - loss: 0.3315 - categorical_accuracy: 0.8849 - val_loss: 0.5164 - val_categorical_accuracy: 0.7820 - lr: 4.0000e-05\n",
      "Epoch 30/30\n",
      "67/67 [==============================] - ETA: 0s - loss: 0.3300 - categorical_accuracy: 0.8925\n",
      "Epoch 30: val_loss did not improve from 0.51642\n",
      "67/67 [==============================] - 171s 3s/step - loss: 0.3300 - categorical_accuracy: 0.8925 - val_loss: 0.5852 - val_categorical_accuracy: 0.7895 - lr: 4.0000e-05\n"
     ]
    }
   ],
   "source": [
    "history_conv_3d1_model_with_color=conv_3d1_color.train_model(conv_3d1_color_model,augment_data=False,more_augment=False,early_stop=True)"
   ]
  },
  {
   "cell_type": "code",
   "execution_count": 28,
   "id": "8f23fd7a",
   "metadata": {},
   "outputs": [
    {
     "name": "stdout",
     "output_type": "stream",
     "text": [
      "Max. Training Accuracy 0.9207547307014465\n",
      "Max. Validaiton Accuracy 0.8045112490653992\n"
     ]
    },
    {
     "data": {
      "image/png": "[encoded data removed]",
      "text/plain": [
       "<Figure size 1080x288 with 2 Axes>"
      ]
     },
     "metadata": {
      "needs_background": "light"
     },
     "output_type": "display_data"
    }
   ],
   "source": [
    "plot(history_conv_3d1_model_with_color)"
   ]
  },
  {
   "cell_type": "markdown",
   "id": "29a966bf",
   "metadata": {},
   "source": [
    "## C. Conv2D + RNN model"
   ]
  },
  {
   "cell_type": "code",
   "execution_count": 29,
   "id": "78e7c201",
   "metadata": {},
   "outputs": [],
   "source": [
    "class RNNCNN2(ModelBuilder):\n",
    "    \n",
    "    def define_model(self,lstm_cells=64,dense_neurons=64,dropout=0.25,activation='relu'):\n",
    "\n",
    "        model = Sequential()\n",
    "\n",
    "        model.add(TimeDistributed(Conv2D(16, (3, 3) , padding='same', activation=activation),\n",
    "                                  input_shape=(self.frames_to_sample,self.image_height,self.image_width,self.channels)))\n",
    "        model.add(TimeDistributed(BatchNormalization()))\n",
    "        model.add(TimeDistributed(MaxPooling2D((2, 2))))\n",
    "        \n",
    "        model.add(TimeDistributed(Conv2D(32, (3, 3) , padding='same', activation=activation)))\n",
    "        model.add(TimeDistributed(BatchNormalization()))\n",
    "        model.add(TimeDistributed(MaxPooling2D((2, 2))))\n",
    "        \n",
    "        model.add(TimeDistributed(Conv2D(64, (3, 3) , padding='same', activation=activation)))\n",
    "        model.add(TimeDistributed(BatchNormalization()))\n",
    "        model.add(TimeDistributed(MaxPooling2D((2, 2))))\n",
    "        \n",
    "        model.add(TimeDistributed(Conv2D(128, (3, 3) , padding='same', activation=activation)))\n",
    "        model.add(TimeDistributed(BatchNormalization()))\n",
    "        model.add(TimeDistributed(MaxPooling2D((2, 2))))\n",
    "        \n",
    "\n",
    "        model.add(TimeDistributed(Flatten()))\n",
    "\n",
    "\n",
    "        model.add(GRU(lstm_cells))\n",
    "        model.add(Dropout(dropout))\n",
    "        \n",
    "        model.add(Dense(dense_neurons,activation=activation))\n",
    "        model.add(Dropout(dropout))\n",
    "        \n",
    "        model.add(Dense(self.num_classes, activation='softmax'))\n",
    "        optimiser = tf.keras.optimizers.Adam(lr=0.0002)\n",
    "        model.compile(optimizer=optimiser, loss='categorical_crossentropy', metrics=['categorical_accuracy'])\n",
    "        return model"
   ]
  },
  {
   "cell_type": "markdown",
   "id": "923653ea",
   "metadata": {},
   "source": [
    "### C.1 Without Callback and Augmentation"
   ]
  },
  {
   "cell_type": "code",
   "execution_count": 30,
   "id": "1fb3e1a4",
   "metadata": {},
   "outputs": [
    {
     "name": "stdout",
     "output_type": "stream",
     "text": [
      "Model: \"sequential_5\"\n",
      "_________________________________________________________________\n",
      " Layer (type)                Output Shape              Param #   \n",
      "=================================================================\n",
      " time_distributed (TimeDistr  (None, 16, 120, 120, 16)  448      \n",
      " ibuted)                                                         \n",
      "                                                                 \n",
      " time_distributed_1 (TimeDis  (None, 16, 120, 120, 16)  64       \n",
      " tributed)                                                       \n",
      "                                                                 \n",
      " time_distributed_2 (TimeDis  (None, 16, 60, 60, 16)   0         \n",
      " tributed)                                                       \n",
      "                                                                 \n",
      " time_distributed_3 (TimeDis  (None, 16, 60, 60, 32)   4640      \n",
      " tributed)                                                       \n",
      "                                                                 \n",
      " time_distributed_4 (TimeDis  (None, 16, 60, 60, 32)   128       \n",
      " tributed)                                                       \n",
      "                                                                 \n",
      " time_distributed_5 (TimeDis  (None, 16, 30, 30, 32)   0         \n",
      " tributed)                                                       \n",
      "                                                                 \n",
      " time_distributed_6 (TimeDis  (None, 16, 30, 30, 64)   18496     \n",
      " tributed)                                                       \n",
      "                                                                 \n",
      " time_distributed_7 (TimeDis  (None, 16, 30, 30, 64)   256       \n",
      " tributed)                                                       \n",
      "                                                                 \n",
      " time_distributed_8 (TimeDis  (None, 16, 15, 15, 64)   0         \n",
      " tributed)                                                       \n",
      "                                                                 \n",
      " time_distributed_9 (TimeDis  (None, 16, 15, 15, 128)  73856     \n",
      " tributed)                                                       \n",
      "                                                                 \n",
      " time_distributed_10 (TimeDi  (None, 16, 15, 15, 128)  512       \n",
      " stributed)                                                      \n",
      "                                                                 \n",
      " time_distributed_11 (TimeDi  (None, 16, 7, 7, 128)    0         \n",
      " stributed)                                                      \n",
      "                                                                 \n",
      " time_distributed_12 (TimeDi  (None, 16, 6272)         0         \n",
      " stributed)                                                      \n",
      "                                                                 \n",
      " gru (GRU)                   (None, 128)               2458368   \n",
      "                                                                 \n",
      " dropout_10 (Dropout)        (None, 128)               0         \n",
      "                                                                 \n",
      " dense_15 (Dense)            (None, 128)               16512     \n",
      "                                                                 \n",
      " dropout_11 (Dropout)        (None, 128)               0         \n",
      "                                                                 \n",
      " dense_16 (Dense)            (None, 5)                 645       \n",
      "                                                                 \n",
      "=================================================================\n",
      "Total params: 2,573,925\n",
      "Trainable params: 2,573,445\n",
      "Non-trainable params: 480\n",
      "_________________________________________________________________\n"
     ]
    }
   ],
   "source": [
    "rnn_cnn2=RNNCNN2()\n",
    "rnn_cnn2.initialize_path(project_folder)\n",
    "rnn_cnn2.initialize_image_properties(image_height=120,image_width=120)\n",
    "rnn_cnn2.initialize_hyperparams(frames_to_sample=16,batch_size=8,num_epochs=30)\n",
    "rnn_cnn2_model=rnn_cnn2.define_model(lstm_cells=128,dense_neurons=128,dropout=0.25)\n",
    "rnn_cnn2_model.summary()"
   ]
  },
  {
   "cell_type": "code",
   "execution_count": 31,
   "id": "17a01cd0",
   "metadata": {},
   "outputs": [
    {
     "name": "stdout",
     "output_type": "stream",
     "text": [
      "Total Params: 2573925\n"
     ]
    }
   ],
   "source": [
    "print(\"Total Params:\", rnn_cnn2_model.count_params())"
   ]
  },
  {
   "cell_type": "code",
   "execution_count": null,
   "id": "2cada9a8",
   "metadata": {},
   "outputs": [
    {
     "name": "stdout",
     "output_type": "stream",
     "text": [
      "WARNING:tensorflow:`period` argument is deprecated. Please use `save_freq` to specify the frequency in number of batches seen.\n",
      "Epoch 1/30\n",
      "67/67 [==============================] - ETA: 0s - loss: 1.4925 - categorical_accuracy: 0.3726\n",
      "Epoch 1: saving model to model_init_2022-03-1820_55_25.340025/model-00001-1.49252-0.37264-1.99907-0.22556.h5\n",
      "67/67 [==============================] - 258s 4s/step - loss: 1.4925 - categorical_accuracy: 0.3726 - val_loss: 1.9991 - val_categorical_accuracy: 0.2256 - lr: 2.0000e-04\n",
      "Epoch 2/30\n",
      "67/67 [==============================] - ETA: 0s - loss: 1.0890 - categorical_accuracy: 0.5745\n",
      "Epoch 2: saving model to model_init_2022-03-1820_55_25.340025/model-00002-1.08895-0.57453-2.27486-0.19549.h5\n",
      "67/67 [==============================] - 258s 4s/step - loss: 1.0890 - categorical_accuracy: 0.5745 - val_loss: 2.2749 - val_categorical_accuracy: 0.1955 - lr: 2.0000e-04\n",
      "Epoch 3/30\n",
      "47/67 [====================>.........] - ETA: 1:07 - loss: 0.9301 - categorical_accuracy: 0.6316"
     ]
    }
   ],
   "source": [
    "history_rnn_cnn2_model=rnn_cnn2.train_model(rnn_cnn2_model,augment_data=True)"
   ]
  },
  {
   "cell_type": "code",
   "execution_count": null,
   "id": "b8e45246",
   "metadata": {},
   "outputs": [],
   "source": [
    "plot(history_rnn_cnn2_model)"
   ]
  },
  {
   "cell_type": "markdown",
   "id": "586a68c5",
   "metadata": {},
   "source": [
    "### C.2 With Callback and No Augmentaion"
   ]
  },
  {
   "cell_type": "code",
   "execution_count": null,
   "id": "99397c5b",
   "metadata": {},
   "outputs": [],
   "source": [
    "rnn_cnn2_cb=RNNCNN2()\n",
    "rnn_cnn2_cb.initialize_path(project_folder)\n",
    "rnn_cnn2_cb.initialize_image_properties(image_height=120,image_width=120)\n",
    "rnn_cnn2_cb.initialize_hyperparams(frames_to_sample=16,batch_size=8,num_epochs=30)\n",
    "rnn_cnn2_cb_model=rnn_cnn2_cb.define_model(lstm_cells=128,dense_neurons=128,dropout=0.25)\n",
    "rnn_cnn2_cb_model.summary()"
   ]
  },
  {
   "cell_type": "code",
   "execution_count": null,
   "id": "5142dde0",
   "metadata": {},
   "outputs": [],
   "source": [
    "history_rnn_cnn2_cb_model=rnn_cnn2_cb.train_model(rnn_cnn2_cb_model,augment_data=True,early_stop=True)"
   ]
  },
  {
   "cell_type": "code",
   "execution_count": null,
   "id": "671cd01a",
   "metadata": {},
   "outputs": [],
   "source": [
    "plot(history_rnn_cnn2_cb_model)"
   ]
  },
  {
   "cell_type": "markdown",
   "id": "18fe554a",
   "metadata": {},
   "source": [
    "### C.3 With Callback and Augmentation"
   ]
  },
  {
   "cell_type": "code",
   "execution_count": null,
   "id": "24e969e8",
   "metadata": {},
   "outputs": [],
   "source": [
    "rnn_cnn2_cb_a=RNNCNN2()\n",
    "rnn_cnn2_cb_a.initialize_path(project_folder)\n",
    "rnn_cnn2_cb_a.initialize_image_properties(image_height=120,image_width=120)\n",
    "rnn_cnn2_cb_a.initialize_hyperparams(frames_to_sample=16,batch_size=8,num_epochs=30)\n",
    "rnn_cnn2_cb_a_model=rnn_cnn2_cb_a.define_model(lstm_cells=128,dense_neurons=128,dropout=0.25)\n",
    "rnn_cnn2_cb_a_model.summary()"
   ]
  },
  {
   "cell_type": "code",
   "execution_count": null,
   "id": "4502bf39",
   "metadata": {},
   "outputs": [],
   "source": [
    "history_rnn_cnn2_cb_a_model=rnn_cnn2_cb_a.train_model(rnn_cnn2_cb_a_model,augment_data=True,more_augment=True,early_stop=True)"
   ]
  },
  {
   "cell_type": "code",
   "execution_count": null,
   "id": "61390034",
   "metadata": {},
   "outputs": [],
   "source": [
    "plot(history_rnn_cnn2_cb_a_model)"
   ]
  },
  {
   "cell_type": "markdown",
   "id": "f406e176",
   "metadata": {},
   "source": [
    "### C.4 With Callback and using ELU"
   ]
  },
  {
   "cell_type": "code",
   "execution_count": null,
   "id": "5f0f9fac",
   "metadata": {},
   "outputs": [],
   "source": [
    "rnn_cnn2_elu=RNNCNN2()\n",
    "rnn_cnn2_elu.initialize_path(project_folder)\n",
    "rnn_cnn2_elu.initialize_image_properties(image_height=120,image_width=120)\n",
    "rnn_cnn2_elu.initialize_hyperparams(frames_to_sample=16,batch_size=8,num_epochs=30)\n",
    "rnn_cnn2_elu_model=rnn_cnn2_elu.define_model(lstm_cells=128,dense_neurons=128,dropout=0.25,activation='elu')\n",
    "rnn_cnn2_elu_model.summary()"
   ]
  },
  {
   "cell_type": "code",
   "execution_count": null,
   "id": "6633f9d7",
   "metadata": {},
   "outputs": [],
   "source": [
    "history_rnn_cnn2_elu_model=rnn_cnn2_elu.train_model(rnn_cnn2_elu_model,augment_data=True,early_stop=True)"
   ]
  },
  {
   "cell_type": "code",
   "execution_count": null,
   "id": "d9e676cb",
   "metadata": {},
   "outputs": [],
   "source": [
    "plot(history_rnn_cnn2_elu_model)"
   ]
  },
  {
   "cell_type": "markdown",
   "id": "463ae3dc",
   "metadata": {},
   "source": [
    "### C.5 With Callback and using colorful images"
   ]
  },
  {
   "cell_type": "code",
   "execution_count": null,
   "id": "5d457a3c",
   "metadata": {},
   "outputs": [],
   "source": [
    "rnn_cnn2_color=RNNCNN2()\n",
    "rnn_cnn2_color.initialize_path(project_folder)\n",
    "rnn_cnn2_color.initialize_image_properties(image_height=120,image_width=120)\n",
    "rnn_cnn2_color.initialize_hyperparams(frames_to_sample=16,batch_size=8,num_epochs=30)\n",
    "rnn_cnn2_color_model=rnn_cnn2_color.define_model(lstm_cells=128,dense_neurons=128,dropout=0.25)\n",
    "rnn_cnn2_color_model.summary()"
   ]
  },
  {
   "cell_type": "code",
   "execution_count": null,
   "id": "66520d86",
   "metadata": {},
   "outputs": [],
   "source": [
    "history_rnn_cnn2_color_model=rnn_cnn2_color.train_model(rnn_cnn2_color_model,augment_data=False,early_stop=True)"
   ]
  },
  {
   "cell_type": "code",
   "execution_count": null,
   "id": "f2f7cc1d",
   "metadata": {},
   "outputs": [],
   "source": [
    "plot(history_rnn_cnn2_color_model)"
   ]
  },
  {
   "cell_type": "markdown",
   "id": "dceb5565",
   "metadata": {},
   "source": [
    "## D. Transfer Learning"
   ]
  },
  {
   "cell_type": "code",
   "execution_count": null,
   "id": "123f9f9f",
   "metadata": {},
   "outputs": [],
   "source": []
  },
  {
   "cell_type": "markdown",
   "id": "70f4f60c",
   "metadata": {},
   "source": [
    "# 3. Model Prediction for Best Model"
   ]
  },
  {
   "cell_type": "code",
   "execution_count": null,
   "id": "3adf1a70",
   "metadata": {},
   "outputs": [],
   "source": []
  },
  {
   "cell_type": "markdown",
   "id": "ec370f4e",
   "metadata": {},
   "source": [
    "# Reference"
   ]
  },
  {
   "cell_type": "markdown",
   "id": "5b082547",
   "metadata": {},
   "source": [
    "## Testing Model"
   ]
  },
  {
   "cell_type": "code",
   "execution_count": null,
   "id": "69051def",
   "metadata": {},
   "outputs": [],
   "source": [
    "import time\n",
    "from keras.models import load_model\n",
    "model = load_model('model_init_2022-03-1802_15_36.749821/model-00030-0.40016-0.86226-0.81608-0.66917.h5')"
   ]
  },
  {
   "cell_type": "code",
   "execution_count": null,
   "id": "130a8145",
   "metadata": {},
   "outputs": [],
   "source": [
    "test_conv_3d1=ModelConv3D1()\n",
    "test_conv_3d1.initialize_path(project_folder)\n",
    "test_conv_3d1.initialize_image_properties(image_height=120,image_width=120)\n",
    "test_conv_3d1.initialize_hyperparams(frames_to_sample=16,batch_size=8,num_epochs=30)\n",
    "\n",
    "g=test_conv_3d1.generator(test_conv_3d1.val_path,test_conv_3d1.val_doc,augment=False)\n",
    "batch_data, batch_labels=next(g)"
   ]
  },
  {
   "cell_type": "code",
   "execution_count": null,
   "id": "b928d9c7",
   "metadata": {},
   "outputs": [],
   "source": [
    "batch_labels"
   ]
  },
  {
   "cell_type": "code",
   "execution_count": null,
   "id": "b6422348",
   "metadata": {},
   "outputs": [],
   "source": [
    "print(np.argmax(model.predict(batch_data[:,:,:,:,:]),axis=1))"
   ]
  }
 ],
 "metadata": {
  "kernelspec": {
   "display_name": "894fenv",
   "language": "python",
   "name": "894fenv"
  },
  "language_info": {
   "codemirror_mode": {
    "name": "ipython",
    "version": 3
   },
   "file_extension": ".py",
   "mimetype": "text/x-python",
   "name": "python",
   "nbconvert_exporter": "python",
   "pygments_lexer": "ipython3",
   "version": "3.8.5"
  }
 },
 "nbformat": 4,
 "nbformat_minor": 5
}
