{
 "cells": [
  {
   "cell_type": "markdown",
   "metadata": {
    "id": "FsCWJ6klvu_d"
   },
   "source": [
    "# Gesture Recognition\n",
    "\n",
    "\n",
    "**Problem Statement**\n",
    "\n",
    "Imagine you are working as a data scientist at a home electronics company which manufactures state of the art smart televisions. You want to develop a cool feature in the smart-TV that can recognise five different gestures performed by the user which will help users control the TV without using a remote. \n",
    "\n",
    "In this group project, you are going to build a 3D Conv model that will be able to predict the 5 gestures correctly. \n",
    "\n",
    "Each gesture corresponds to a specific command:\n",
    " \n",
    "| Gesture | Corresponding Action |\n",
    "| --- | --- | \n",
    "| Thumbs Up | Increase the volume. |\n",
    "| Thumbs Down | Decrease the volume. |\n",
    "| Left Swipe | 'Jump' backwards 10 seconds. |\n",
    "| Right Swipe | 'Jump' forward 10 seconds. |\n",
    "| Stop | Pause the movie. |\n",
    "\n",
    "\n",
    "\n",
    "### Objectives:\n",
    "1. **Generator**:  The generator should be able to take a batch of videos as input without any error. Steps like cropping, resizing and normalization should be performed successfully.\n",
    "\n",
    "2. **Model**: Develop a model that is able to train without any errors which will be judged on the total number of parameters (as the inference(prediction) time should be less) and the accuracy achieved. As suggested by Snehansu, start training on a small amount of data and then proceed further.\n",
    "\n",
    "3. **Write up**: This should contain the detailed procedure followed in choosing the final model. The write up should start with the reason for choosing the base model, then highlight the reasons and metrics taken into consideration to modify and experiment to arrive at the final model. "
   ]
  },
  {
   "cell_type": "code",
   "execution_count": 1,
   "metadata": {},
   "outputs": [],
   "source": [
    "import numpy as np\n",
    "import os\n",
    "from skimage.transform import resize\n",
    "from imageio import imread\n",
    "import datetime\n",
    "import os\n",
    "import matplotlib.pyplot as plt\n",
    "import warnings\n",
    "warnings.filterwarnings('ignore')"
   ]
  },
  {
   "cell_type": "markdown",
   "metadata": {},
   "source": [
    "We set the random seed so that the results don't vary drastically."
   ]
  },
  {
   "cell_type": "code",
   "execution_count": 2,
   "metadata": {},
   "outputs": [],
   "source": [
    "np.random.seed(30)\n",
    "import random as rn\n",
    "rn.seed(30)\n",
    "from keras import backend as K\n",
    "import tensorflow as tf\n",
    "tf.random.set_seed(30)"
   ]
  },
  {
   "cell_type": "code",
   "execution_count": 3,
   "metadata": {},
   "outputs": [
    {
     "name": "stdout",
     "output_type": "stream",
     "text": [
      "GPU device not found\n"
     ]
    }
   ],
   "source": [
    "device_name = tf.test.gpu_device_name()\n",
    "if \"GPU\" not in device_name:\n",
    "    print(\"GPU device not found\")\n",
    "else:\n",
    "    print('Found GPU at: {}'.format(device_name))"
   ]
  },
  {
   "cell_type": "markdown",
   "metadata": {},
   "source": [
    "In this block, you read the folder names for training and validation. You also set the `batch_size` here. Note that you set the batch size in such a way that you are able to use the GPU in full capacity. You keep increasing the batch size until the machine throws an error."
   ]
  },
  {
   "cell_type": "code",
   "execution_count": 5,
   "metadata": {},
   "outputs": [],
   "source": [
    "train_doc = np.random.permutation(open('./data/train.csv').readlines())\n",
    "val_doc = np.random.permutation(open('./data/val.csv').readlines())\n",
    "batch_size = 64"
   ]
  },
  {
   "cell_type": "code",
   "execution_count": 6,
   "metadata": {},
   "outputs": [
    {
     "name": "stdout",
     "output_type": "stream",
     "text": [
      "zsh:1: command not found: nvidia-smi\r\n"
     ]
    }
   ],
   "source": [
    "## Checking the GPU configuration\n",
    "!nvidia-smi"
   ]
  },
  {
   "cell_type": "markdown",
   "metadata": {
    "id": "DGY4lrhhvu_w"
   },
   "source": [
    "## Generator\n",
    "This is one of the most important part of the code. The overall structure of the generator has been given. In the generator, you are going to preprocess the images as you have images of 2 different dimensions as well as create a batch of video frames. You have to experiment with `img_idx`, `y`,`z` and normalization such that you get high accuracy."
   ]
  },
  {
   "cell_type": "code",
   "execution_count": 7,
   "metadata": {
    "id": "1xrANziuvu_x"
   },
   "outputs": [],
   "source": [
    "def cropResize(image, y, z):\n",
    "    h, w = image.shape\n",
    "    \n",
    "    # if smaller image crop at center for 120x120\n",
    "    if w == 160:\n",
    "        image = image[:120, 20:140]\n",
    "\n",
    "    # resize every image\n",
    "    return resize(image, (y,z))"
   ]
  },
  {
   "cell_type": "code",
   "execution_count": 8,
   "metadata": {
    "id": "KhGrETufvu_y"
   },
   "outputs": [],
   "source": [
    "def normalizeImage(image):\n",
    "    # applying normalization\n",
    "    return image/255.0"
   ]
  },
  {
   "cell_type": "code",
   "execution_count": 9,
   "metadata": {
    "id": "-qd1bxIZvu_y"
   },
   "outputs": [],
   "source": [
    "def preprocessImage(image, y, z):\n",
    "    return normalizeImage(cropResize(image, y, z))"
   ]
  },
  {
   "cell_type": "code",
   "execution_count": 10,
   "metadata": {
    "id": "LNgZq2e-vu_z"
   },
   "outputs": [],
   "source": [
    "def make3dFilter(x):\n",
    "    return tuple([x]*3)\n",
    "\n",
    "def make2dFilter(x):\n",
    "    return tuple([x]*2)"
   ]
  },
  {
   "cell_type": "code",
   "execution_count": 11,
   "metadata": {
    "id": "-yPBgXECvu_z"
   },
   "outputs": [],
   "source": [
    "def getBatchData(source_path, t, batch, batch_size, img_tensor):\n",
    "    [x,y,z] = [len(img_tensor[0]),img_tensor[1], img_tensor[2]]\n",
    "    img_idx = img_tensor[0]\n",
    "    batch_data = np.zeros((batch_size,x,y,z,3)) # x is the number of images you use for each video, (y,z) is the final size of the input images and 3 is the number of channels RGB\n",
    "    batch_labels = np.zeros((batch_size,5)) # batch_labels is the one hot representation of the output\n",
    "    for folder in range(batch_size): # iterate over the batch_size\n",
    "        imgs = os.listdir(source_path+'/'+ t[folder + (batch*batch_size)].split(';')[0]) # read all the images in the folder\n",
    "        for idx,item in enumerate(img_idx): #  Iterate iver the frames/images of a folder to read them in\n",
    "            image = imread(source_path+'/'+ t[folder + (batch*batch_size)].strip().split(';')[0]+'/'+imgs[item]).astype(np.float32)\n",
    "\n",
    "            #crop the images and resize them. Note that the images are of 2 different shape \n",
    "            #and the conv3D will throw error if the inputs in a batch have different shapes\n",
    "\n",
    "            # separate preprocessImage function is defined for cropping, resizing and normalizing images\n",
    "            batch_data[folder,idx,:,:,0] = preprocessImage(image[:, :, 0], y, z)\n",
    "            batch_data[folder,idx,:,:,1] = preprocessImage(image[:, :, 1], y, z)\n",
    "            batch_data[folder,idx,:,:,2] = preprocessImage(image[:, :, 2], y, z)\n",
    "\n",
    "        batch_labels[folder, int(t[folder + (batch*batch_size)].strip().split(';')[2])] = 1\n",
    "    return batch_data, batch_labels"
   ]
  },
  {
   "cell_type": "code",
   "execution_count": 12,
   "metadata": {
    "id": "eA6r1IMmvu_0"
   },
   "outputs": [],
   "source": [
    "def generator(source_path, folder_list, batch_size, img_tensor):\n",
    "    print( 'Source path = ', source_path, '; batch size =', batch_size)\n",
    "    while True:\n",
    "        t = np.random.permutation(folder_list)\n",
    "        num_batches = int(len(folder_list)/batch_size)\n",
    "        for batch in range(num_batches): # we iterate over the number of batches\n",
    "            yield getBatchData(source_path, t, batch, batch_size, img_tensor)\n",
    "        \n",
    "        # write the code for the remaining data points which are left after full batches\n",
    "        # checking if any remaining batches are there or not\n",
    "        if len(folder_list)%batch_size != 0:\n",
    "            # updated the batch size and yield\n",
    "            batch_size = len(folder_list)%batch_size\n",
    "            yield getBatchData(source_path, t, batch, batch_size, img_tensor)"
   ]
  },
  {
   "cell_type": "markdown",
   "metadata": {
    "id": "tzNpErbFvu_1"
   },
   "source": [
    "Note here that a video is represented above in the generator as (number of images, height, width, number of channels). Take this into consideration while creating the model architecture."
   ]
  },
  {
   "cell_type": "code",
   "execution_count": 16,
   "metadata": {
    "id": "CiGThqNVvu_2",
    "outputId": "b838ef8d-2ff3-4278-c410-1554fefb7bb1"
   },
   "outputs": [
    {
     "name": "stdout",
     "output_type": "stream",
     "text": [
      "# training sequences = 663\n",
      "# validation sequences = 100\n",
      "# epochs = 10\n"
     ]
    }
   ],
   "source": [
    "curr_dt_time = datetime.datetime.now()\n",
    "train_path = './data/train'\n",
    "val_path = './data/val'\n",
    "num_train_sequences = len(train_doc)\n",
    "print('# training sequences =', num_train_sequences)\n",
    "num_val_sequences = len(val_doc)\n",
    "print('# validation sequences =', num_val_sequences)\n",
    "num_epochs = 10\n",
    "print ('# epochs =', num_epochs)"
   ]
  },
  {
   "cell_type": "code",
   "execution_count": 17,
   "metadata": {
    "id": "w2bDaqWXvu_4",
    "outputId": "22dc4b0e-3f48-401c-f469-4298839963c9"
   },
   "outputs": [
    {
     "name": "stdout",
     "output_type": "stream",
     "text": [
      "# img_tensor = [array([ 0,  2,  3,  5,  6,  8,  9, 11, 12, 14, 15, 17, 18, 20, 21, 23, 24,\n",
      "       26, 27, 29]), 100, 100, 3]\n"
     ]
    }
   ],
   "source": [
    "def getImgTensor(n_frames):\n",
    "    img_idx = np.round(np.linspace(0, 29, n_frames)).astype(int)\n",
    "    return [img_idx, 100, 100, 3]\n",
    "\n",
    "# define image tensor size\n",
    "img_tensor = getImgTensor(20)\n",
    "print ('# img_tensor =', img_tensor)"
   ]
  },
  {
   "cell_type": "markdown",
   "metadata": {
    "id": "TEzkB8pzvu_5"
   },
   "source": [
    "### Generator Validation"
   ]
  },
  {
   "cell_type": "code",
   "execution_count": 18,
   "metadata": {
    "id": "PKXoahGbvu_7",
    "outputId": "3cdcf0c4-8eea-4e1d-e822-7c473f5a1c90"
   },
   "outputs": [
    {
     "name": "stdout",
     "output_type": "stream",
     "text": [
      "Source path =  ./data/train ; batch size = 64\n",
      "(64, 20, 100, 100, 3)\n",
      "Source path =  ./data/val ; batch size = 64\n",
      "(64, 20, 100, 100, 3)\n"
     ]
    }
   ],
   "source": [
    "# check complete batch shape\n",
    "sample_generator = generator(train_path, train_doc, batch_size, img_tensor)\n",
    "sample_batch_data, sample_batch_labels = next(sample_generator)\n",
    "print(sample_batch_data.shape)\n",
    "\n",
    "# validation batch sample\n",
    "sample_val_generator = generator(val_path, val_doc, batch_size, img_tensor)\n",
    "sample_val_batch_data, sample_val_batch_labels = next(sample_val_generator)\n",
    "print(sample_val_batch_data.shape)"
   ]
  },
  {
   "cell_type": "code",
   "execution_count": null,
   "metadata": {
    "id": "Xl6e7d0Ovu_8",
    "outputId": "f431fb7f-88f7-497a-a4a5-e017f5faab17"
   },
   "outputs": [],
   "source": [
    "# plot generated sample images\n",
    "fig, ax = plt.subplots(1,2)\n",
    "ax[0].imshow(sample_val_batch_data[16,10,:,:,:])   \n",
    "ax[1].imshow(sample_val_batch_data[25,10,:,:,:])\n",
    "plt.show()"
   ]
  },
  {
   "cell_type": "code",
   "execution_count": null,
   "metadata": {
    "id": "k3HvPgOPvu_-"
   },
   "outputs": [],
   "source": [
    "def plotModelHistory(h):\n",
    "    fig, ax = plt.subplots(1, 2, figsize=(15,4))\n",
    "    ax[0].plot(h.history['loss'])   \n",
    "    ax[0].plot(h.history['val_loss'])\n",
    "    ax[0].legend(['loss','val_loss'])\n",
    "    ax[0].title.set_text(\"Train loss vs Validation loss\")\n",
    "\n",
    "    ax[1].plot(h.history['categorical_accuracy'])   \n",
    "    ax[1].plot(h.history['val_categorical_accuracy'])\n",
    "    ax[1].legend(['categorical_accuracy','val_categorical_accuracy'])\n",
    "    ax[1].title.set_text(\"Train accuracy vs Validation accuracy\")\n",
    "    plt.show()\n",
    "\n",
    "    print(\"Max. Training Accuracy\", max(h.history['categorical_accuracy']))\n",
    "    print(\"Max. Validaiton Accuracy\", max(h.history['val_categorical_accuracy']))"
   ]
  },
  {
   "cell_type": "markdown",
   "metadata": {
    "id": "dcGAuU41vu__"
   },
   "source": [
    "## Model Building\n",
    "Here you make the model using different functionalities that Keras provides. Remember to use `Conv3D` and `MaxPooling3D` and not `Conv2D` and `Maxpooling2D` for a 3D convolution model. You would want to use `TimeDistributed` while building a Conv2D + RNN model. Also remember that the last layer is the softmax. Design the network in such a way that the model is able to give good accuracy on the least number of parameters so that it can fit in the memory of the webcam."
   ]
  },
  {
   "cell_type": "code",
   "execution_count": null,
   "metadata": {
    "id": "BlVvi0S9vvAA"
   },
   "outputs": [],
   "source": [
    "from keras.models import Sequential, Model\n",
    "from keras.layers import Dense, GRU, Flatten, TimeDistributed, Flatten, BatchNormalization, Activation, Dropout, LSTM\n",
    "from keras.layers.convolutional import Conv3D, MaxPooling3D, Conv2D, MaxPooling2D\n",
    "from keras.callbacks import ModelCheckpoint, ReduceLROnPlateau\n",
    "from keras import optimizers"
   ]
  },
  {
   "cell_type": "markdown",
   "metadata": {
    "id": "9A0Y13yhvvAA"
   },
   "source": [
    "### Base Model"
   ]
  },
  {
   "cell_type": "code",
   "execution_count": null,
   "metadata": {
    "id": "jD0uh84WvvAB",
    "outputId": "19a9cef8-30ee-4ce2-9869-20d2fd58bfe5"
   },
   "outputs": [],
   "source": [
    "#write your model here\n",
    "def defineModel(img_tensor):\n",
    "    inputShape = (len(img_tensor[0]), img_tensor[1], img_tensor[2], img_tensor[3])\n",
    "\n",
    "    model = Sequential([\n",
    "        Conv3D(16, make3dFilter(5), activation='relu', input_shape=inputShape),\n",
    "        MaxPooling3D(make3dFilter(2), padding='same'),\n",
    "        BatchNormalization(),\n",
    "\n",
    "        Conv3D(32, make3dFilter(3), activation='relu'),\n",
    "        MaxPooling3D(pool_size=(1,2,2), padding='same'),\n",
    "        BatchNormalization(),\n",
    "\n",
    "        Conv3D(64, make3dFilter(3), activation='relu'),\n",
    "        MaxPooling3D(pool_size=(1,2,2), padding='same'),\n",
    "        BatchNormalization(),\n",
    "\n",
    "        Flatten(),\n",
    "        Dense(128, activation='relu'),\n",
    "        BatchNormalization(),\n",
    "        Dropout(0.25),\n",
    "\n",
    "        Dense(64, activation='relu'),\n",
    "        BatchNormalization(),\n",
    "        Dropout(0.25),\n",
    "\n",
    "        Dense(5, activation='softmax')\n",
    "    ])\n",
    "    model.compile(optimizer=optimizers.Adam(), loss='categorical_crossentropy', metrics=['categorical_accuracy'])\n",
    "    return model\n",
    "\n",
    "model = defineModel(img_tensor)\n",
    "model.summary()"
   ]
  },
  {
   "cell_type": "code",
   "execution_count": null,
   "metadata": {
    "id": "1SFrztx4vvAE"
   },
   "outputs": [],
   "source": [
    "train_generator = generator(train_path, train_doc, batch_size, img_tensor)\n",
    "val_generator = generator(val_path, val_doc, batch_size, img_tensor)"
   ]
  },
  {
   "cell_type": "markdown",
   "metadata": {
    "id": "TshGKBpyvvAF"
   },
   "source": [
    "The `steps_per_epoch` and `validation_steps` are used by `fit_generator` to decide the number of next() calls it need to make."
   ]
  },
  {
   "cell_type": "code",
   "execution_count": null,
   "metadata": {
    "id": "hNW5OuAsvvAF"
   },
   "outputs": [],
   "source": [
    "if (num_train_sequences%batch_size) == 0:\n",
    "    steps_per_epoch = int(num_train_sequences/batch_size)\n",
    "else:\n",
    "    steps_per_epoch = (num_train_sequences//batch_size) + 1\n",
    "\n",
    "if (num_val_sequences%batch_size) == 0:\n",
    "    validation_steps = int(num_val_sequences/batch_size)\n",
    "else:\n",
    "    validation_steps = (num_val_sequences//batch_size) + 1"
   ]
  },
  {
   "cell_type": "markdown",
   "metadata": {
    "id": "YnIglXSuRxNs"
   },
   "source": [
    "### Model Callbacks Setup"
   ]
  },
  {
   "cell_type": "code",
   "execution_count": null,
   "metadata": {
    "id": "hWzVNhUhRqpL",
    "outputId": "fa5a4f82-483e-490d-83ad-9a495943280c"
   },
   "outputs": [],
   "source": [
    "model_name = 'model_init' + '_' + str(curr_dt_time).replace(' ','').replace(':','_') + '/'\n",
    "    \n",
    "if not os.path.exists(model_name):\n",
    "    os.mkdir(model_name)\n",
    "\n",
    "filepath = model_name + 'model-{epoch:05d}-{loss:.5f}-{categorical_accuracy:.5f}-{val_loss:.5f}-{val_categorical_accuracy:.5f}.h5'\n",
    "\n",
    "checkpoint = ModelCheckpoint(filepath, monitor='val_loss', verbose=1, save_best_only=False, save_weights_only=False, mode='auto', period=1)\n",
    "\n",
    "LR = ReduceLROnPlateau(monitor='val_loss', factor=0.2, verbose=1, patience=4)\n",
    "\n",
    "# callbacks_list = [checkpoint, LR]\n",
    "callbacks_list = [LR]"
   ]
  },
  {
   "cell_type": "markdown",
   "metadata": {
    "id": "-hem7-SrSZme"
   },
   "source": [
    "### Test Batch Size & Frames"
   ]
  },
  {
   "cell_type": "code",
   "execution_count": null,
   "metadata": {
    "id": "ez2ESV-vHPKA"
   },
   "outputs": [],
   "source": [
    "def testBatchSize(batch_size, n_frames):\n",
    "    img_tensor = getImgTensor(n_frames)\n",
    "    print(\"Using frames as\", img_tensor[0])\n",
    "    global callbacks_list\n",
    "    num_epochs = 3\n",
    "    train_generator = generator(train_path, train_doc, batch_size, img_tensor)\n",
    "    val_generator = generator(val_path, val_doc, batch_size, img_tensor)\n",
    "    if (num_train_sequences%batch_size) == 0:\n",
    "        steps_per_epoch = int(num_train_sequences/batch_size)\n",
    "    else:\n",
    "        steps_per_epoch = (num_train_sequences//batch_size) + 1\n",
    "\n",
    "    if (num_val_sequences%batch_size) == 0:\n",
    "        validation_steps = int(num_val_sequences/batch_size)\n",
    "    else:\n",
    "        validation_steps = (num_val_sequences//batch_size) + 1\n",
    "\n",
    "    model = defineModel(img_tensor)\n",
    "    model.fit_generator(train_generator, steps_per_epoch=steps_per_epoch, epochs=num_epochs, verbose=1, \n",
    "                callbacks=callbacks_list, validation_data=val_generator, \n",
    "                validation_steps=validation_steps, class_weight=None, workers=1, initial_epoch=0)"
   ]
  },
  {
   "cell_type": "code",
   "execution_count": null,
   "metadata": {},
   "outputs": [],
   "source": [
    "# testBatchSize(batch_size=64, n_frames=30)"
   ]
  },
  {
   "cell_type": "code",
   "execution_count": null,
   "metadata": {},
   "outputs": [],
   "source": [
    "# testBatchSize(batch_size=64, n_frames=16)"
   ]
  },
  {
   "cell_type": "code",
   "execution_count": null,
   "metadata": {},
   "outputs": [],
   "source": [
    "# testBatchSize(batch_size=32, n_frames=30)"
   ]
  },
  {
   "cell_type": "code",
   "execution_count": null,
   "metadata": {},
   "outputs": [],
   "source": [
    "# testBatchSize(batch_size=32, n_frames=16)"
   ]
  },
  {
   "cell_type": "markdown",
   "metadata": {
    "id": "Vh1IZvwiajxA"
   },
   "source": [
    "With above observations, we can see that batch size is not impacting training time but number of frames. We will use batch size of 64 as it seems optimal. It is commented as it takes a lot of time to run that is restricting for the notebook to completely run."
   ]
  },
  {
   "cell_type": "markdown",
   "metadata": {
    "id": "TRxSBVQgbPHo"
   },
   "source": [
    "### Model 1 - Frames-16, Epoc-20"
   ]
  },
  {
   "cell_type": "code",
   "execution_count": null,
   "metadata": {
    "id": "e9Z5A_HNZgyP",
    "outputId": "68c3c78f-354e-43a9-8534-c8d9c61cdc21"
   },
   "outputs": [],
   "source": [
    "n_frames = 16\n",
    "num_epochs = 20\n",
    "batch_size = 64\n",
    "\n",
    "img_tensor = getImgTensor(n_frames)\n",
    "train_generator = generator(train_path, train_doc, batch_size, img_tensor)\n",
    "val_generator = generator(val_path, val_doc, batch_size, img_tensor)\n",
    "\n",
    "if (num_train_sequences%batch_size) == 0:\n",
    "    steps_per_epoch = int(num_train_sequences/batch_size)\n",
    "else:\n",
    "    steps_per_epoch = (num_train_sequences//batch_size) + 1\n",
    "\n",
    "if (num_val_sequences%batch_size) == 0:\n",
    "    validation_steps = int(num_val_sequences/batch_size)\n",
    "else:\n",
    "    validation_steps = (num_val_sequences//batch_size) + 1\n",
    "    \n",
    "inputShape = (len(img_tensor[0]), img_tensor[1], img_tensor[2], img_tensor[3])\n",
    "\n",
    "model1 = Sequential([\n",
    "    Conv3D(16, make3dFilter(5), activation='relu', input_shape=inputShape),\n",
    "    MaxPooling3D(make3dFilter(2), padding='same'),\n",
    "    BatchNormalization(),\n",
    "\n",
    "    Conv3D(32, make3dFilter(3), activation='relu'),\n",
    "    MaxPooling3D(pool_size=(1,2,2), padding='same'),\n",
    "    BatchNormalization(),\n",
    "\n",
    "    Conv3D(64, make3dFilter(3), activation='relu'),\n",
    "    MaxPooling3D(pool_size=(1,2,2), padding='same'),\n",
    "    BatchNormalization(),\n",
    "\n",
    "    Flatten(),\n",
    "    Dense(128, activation='relu'),\n",
    "    BatchNormalization(),\n",
    "    Dropout(0.25),\n",
    "\n",
    "    Dense(64, activation='relu'),\n",
    "    BatchNormalization(),\n",
    "    Dropout(0.25),\n",
    "\n",
    "    Dense(5, activation='softmax')\n",
    "], name=\"conv_3d1\")\n",
    "model1.compile(optimizer=optimizers.Adam(), loss='categorical_crossentropy', metrics=['categorical_accuracy'])\n",
    "print(model1.summary())\n",
    "\n",
    "model1_history = model1.fit_generator(train_generator, steps_per_epoch=steps_per_epoch, epochs=num_epochs, verbose=1, \n",
    "            callbacks=callbacks_list, validation_data=val_generator, \n",
    "            validation_steps=validation_steps, class_weight=None, workers=1, initial_epoch=0)"
   ]
  },
  {
   "cell_type": "code",
   "execution_count": null,
   "metadata": {
    "id": "YfeBXCls1r7R",
    "outputId": "c7ad7297-9bdc-4b0b-816d-5c86c63ee254"
   },
   "outputs": [],
   "source": [
    "plotModelHistory(model1_history)"
   ]
  },
  {
   "cell_type": "markdown",
   "metadata": {
    "id": "dsjCzIj40suJ"
   },
   "source": [
    "### Model 2: Frames-30, Epocs-30"
   ]
  },
  {
   "cell_type": "code",
   "execution_count": null,
   "metadata": {
    "id": "I82f2MK3bNyZ",
    "outputId": "d96d1cc3-3336-4be5-b3d1-ac8616919333"
   },
   "outputs": [],
   "source": [
    "n_frames = 30\n",
    "num_epochs = 30\n",
    "batch_size = 64\n",
    "\n",
    "img_tensor = getImgTensor(n_frames)\n",
    "train_generator = generator(train_path, train_doc, batch_size, img_tensor)\n",
    "val_generator = generator(val_path, val_doc, batch_size, img_tensor)\n",
    "\n",
    "if (num_train_sequences%batch_size) == 0:\n",
    "    steps_per_epoch = int(num_train_sequences/batch_size)\n",
    "else:\n",
    "    steps_per_epoch = (num_train_sequences//batch_size) + 1\n",
    "\n",
    "if (num_val_sequences%batch_size) == 0:\n",
    "    validation_steps = int(num_val_sequences/batch_size)\n",
    "else:\n",
    "    validation_steps = (num_val_sequences//batch_size) + 1\n",
    "    \n",
    "inputShape = (len(img_tensor[0]), img_tensor[1], img_tensor[2], img_tensor[3])\n",
    "\n",
    "model2 = Sequential([\n",
    "    Conv3D(16, make3dFilter(5), activation='relu', input_shape=inputShape),\n",
    "    MaxPooling3D(make3dFilter(2), padding='same'),\n",
    "    BatchNormalization(),\n",
    "\n",
    "    Conv3D(32, make3dFilter(3), activation='relu'),\n",
    "    MaxPooling3D(pool_size=(1,2,2), padding='same'),\n",
    "    BatchNormalization(),\n",
    "\n",
    "    Conv3D(64, make3dFilter(3), activation='relu'),\n",
    "    MaxPooling3D(pool_size=(1,2,2), padding='same'),\n",
    "    BatchNormalization(),\n",
    "\n",
    "    Flatten(),\n",
    "    Dense(128, activation='relu'),\n",
    "    BatchNormalization(),\n",
    "    Dropout(0.25),\n",
    "\n",
    "    Dense(64, activation='relu'),\n",
    "    BatchNormalization(),\n",
    "    Dropout(0.25),\n",
    "\n",
    "    Dense(5, activation='softmax')\n",
    "], name=\"conv_3d2\")\n",
    "model2.compile(optimizer=optimizers.Adam(), loss='categorical_crossentropy', metrics=['categorical_accuracy'])\n",
    "print(model2.summary())\n",
    "\n",
    "model2_history = model2.fit_generator(train_generator, steps_per_epoch=steps_per_epoch, epochs=num_epochs, verbose=1, \n",
    "            callbacks=callbacks_list, validation_data=val_generator, \n",
    "            validation_steps=validation_steps, class_weight=None, workers=1, initial_epoch=0)"
   ]
  },
  {
   "cell_type": "code",
   "execution_count": null,
   "metadata": {
    "id": "dGXMP96h1zDT",
    "outputId": "7b5e1257-e660-4bc9-c5ab-db47d1f62eae"
   },
   "outputs": [],
   "source": [
    "plotModelHistory(model2_history)"
   ]
  },
  {
   "cell_type": "markdown",
   "metadata": {
    "id": "m_-TyE8YDCnP"
   },
   "source": [
    "Reduce parameters, with padding in Conv3D layers and filter of (3,3,3)."
   ]
  },
  {
   "cell_type": "markdown",
   "metadata": {
    "id": "n_Fqznw7DwLr"
   },
   "source": [
    "### Model 3: Frames-30, Epocs-20, Reduced parameters"
   ]
  },
  {
   "cell_type": "code",
   "execution_count": null,
   "metadata": {
    "id": "UlmHHFrL8HYu",
    "outputId": "ddc9ce30-3bb0-45c3-cd23-fcf0fb319f23"
   },
   "outputs": [],
   "source": [
    "n_frames = 30\n",
    "num_epochs = 20\n",
    "batch_size = 64\n",
    "\n",
    "img_tensor = getImgTensor(n_frames)\n",
    "train_generator = generator(train_path, train_doc, batch_size, img_tensor)\n",
    "val_generator = generator(val_path, val_doc, batch_size, img_tensor)\n",
    "\n",
    "if (num_train_sequences%batch_size) == 0:\n",
    "    steps_per_epoch = int(num_train_sequences/batch_size)\n",
    "else:\n",
    "    steps_per_epoch = (num_train_sequences//batch_size) + 1\n",
    "\n",
    "if (num_val_sequences%batch_size) == 0:\n",
    "    validation_steps = int(num_val_sequences/batch_size)\n",
    "else:\n",
    "    validation_steps = (num_val_sequences//batch_size) + 1\n",
    "    \n",
    "inputShape = (len(img_tensor[0]), img_tensor[1], img_tensor[2], img_tensor[3])\n",
    "\n",
    "model3 = Sequential([\n",
    "    Conv3D(16, make3dFilter(3), padding='same', activation='relu', input_shape=inputShape),\n",
    "    MaxPooling3D(make3dFilter(2), padding='same'),\n",
    "    BatchNormalization(),\n",
    "\n",
    "    Conv3D(32, make3dFilter(3), padding='same', activation='relu'),\n",
    "    MaxPooling3D(pool_size=(2), padding='same'),\n",
    "    BatchNormalization(),\n",
    "\n",
    "    Conv3D(64, make3dFilter(3), padding='same', activation='relu'),\n",
    "    MaxPooling3D(pool_size=(2), padding='same'),\n",
    "    BatchNormalization(),\n",
    "\n",
    "    Flatten(),\n",
    "    Dense(128, activation='relu'),\n",
    "    BatchNormalization(),\n",
    "    Dropout(0.25),\n",
    "\n",
    "    Dense(64, activation='relu'),\n",
    "    BatchNormalization(),\n",
    "    Dropout(0.25),\n",
    "\n",
    "    Dense(5, activation='softmax')\n",
    "], name=\"conv_3d3\")\n",
    "model3.compile(optimizer=optimizers.Adam(), loss='categorical_crossentropy', metrics=['categorical_accuracy'])\n",
    "print(model3.summary())\n",
    "\n",
    "model3_history = model3.fit_generator(train_generator, steps_per_epoch=steps_per_epoch, epochs=num_epochs, verbose=1, \n",
    "            callbacks=callbacks_list, validation_data=val_generator, \n",
    "            validation_steps=validation_steps, class_weight=None, workers=1, initial_epoch=0)"
   ]
  },
  {
   "cell_type": "code",
   "execution_count": null,
   "metadata": {},
   "outputs": [],
   "source": [
    "plotModelHistory(model3_history)"
   ]
  },
  {
   "cell_type": "markdown",
   "metadata": {
    "id": "50alkFqTbYVq"
   },
   "source": [
    "### Model 4: Frames-20, Same pooling in Conv3D layer"
   ]
  },
  {
   "cell_type": "code",
   "execution_count": null,
   "metadata": {
    "id": "kR92LCmTBQCD",
    "outputId": "ac73d2a2-58d4-4874-a4f7-89a6d76f0021"
   },
   "outputs": [],
   "source": [
    "n_frames = 20\n",
    "num_epochs = 20\n",
    "batch_size = 64\n",
    "\n",
    "img_tensor = getImgTensor(n_frames)\n",
    "train_generator = generator(train_path, train_doc, batch_size, img_tensor)\n",
    "val_generator = generator(val_path, val_doc, batch_size, img_tensor)\n",
    "\n",
    "if (num_train_sequences%batch_size) == 0:\n",
    "    steps_per_epoch = int(num_train_sequences/batch_size)\n",
    "else:\n",
    "    steps_per_epoch = (num_train_sequences//batch_size) + 1\n",
    "\n",
    "if (num_val_sequences%batch_size) == 0:\n",
    "    validation_steps = int(num_val_sequences/batch_size)\n",
    "else:\n",
    "    validation_steps = (num_val_sequences//batch_size) + 1\n",
    "    \n",
    "inputShape = (len(img_tensor[0]), img_tensor[1], img_tensor[2], img_tensor[3])\n",
    "\n",
    "model4 = Sequential([\n",
    "    Conv3D(16, make3dFilter(3), padding='same', activation='relu', input_shape=inputShape),\n",
    "    MaxPooling3D(make3dFilter(2), padding='same'),\n",
    "    BatchNormalization(),\n",
    "\n",
    "    Conv3D(32, make3dFilter(3), padding='same', activation='relu'),\n",
    "    MaxPooling3D(pool_size=(2), padding='same'),\n",
    "    BatchNormalization(),\n",
    "\n",
    "    Conv3D(64, make3dFilter(3), padding='same', activation='relu'),\n",
    "    MaxPooling3D(pool_size=(2), padding='same'),\n",
    "    BatchNormalization(),\n",
    "\n",
    "    Conv3D(128, make3dFilter(3), padding='same', activation='relu'),\n",
    "    MaxPooling3D(pool_size=(2), padding='same'),\n",
    "    BatchNormalization(),\n",
    "\n",
    "    Flatten(),\n",
    "    Dense(128, activation='relu'),\n",
    "    BatchNormalization(),\n",
    "    Dropout(0.25),\n",
    "\n",
    "    Dense(64, activation='relu'),\n",
    "    BatchNormalization(),\n",
    "    Dropout(0.25),\n",
    "\n",
    "    Dense(5, activation='softmax')\n",
    "], name=\"conv_3d4\")\n",
    "model4.compile(optimizer=optimizers.Adam(), loss='categorical_crossentropy', metrics=['categorical_accuracy'])\n",
    "print(model4.summary())\n",
    "\n",
    "model4_history = model4.fit_generator(train_generator, steps_per_epoch=steps_per_epoch, epochs=num_epochs, verbose=1, \n",
    "            callbacks=callbacks_list, validation_data=val_generator, \n",
    "            validation_steps=validation_steps, class_weight=None, workers=1, initial_epoch=0)"
   ]
  },
  {
   "cell_type": "code",
   "execution_count": null,
   "metadata": {},
   "outputs": [],
   "source": [
    "plotModelHistory(model4_history)"
   ]
  },
  {
   "cell_type": "markdown",
   "metadata": {
    "id": "jd5Nr0nUaR8X"
   },
   "source": [
    "### Model 5: Frames:20, Epocs-20, BS-64, reduced kernel to (2,2,2), switching BatchNormalization before MaxPooling."
   ]
  },
  {
   "cell_type": "code",
   "execution_count": null,
   "metadata": {
    "id": "wuKTh7-yHs13",
    "outputId": "321c4671-f4b9-4a0a-ed65-5587ff3d92b8"
   },
   "outputs": [],
   "source": [
    "n_frames = 20\n",
    "num_epochs = 20\n",
    "batch_size = 64\n",
    "\n",
    "img_tensor = getImgTensor(n_frames)\n",
    "train_generator = generator(train_path, train_doc, batch_size, img_tensor)\n",
    "val_generator = generator(val_path, val_doc, batch_size, img_tensor)\n",
    "\n",
    "if (num_train_sequences%batch_size) == 0:\n",
    "    steps_per_epoch = int(num_train_sequences/batch_size)\n",
    "else:\n",
    "    steps_per_epoch = (num_train_sequences//batch_size) + 1\n",
    "\n",
    "if (num_val_sequences%batch_size) == 0:\n",
    "    validation_steps = int(num_val_sequences/batch_size)\n",
    "else:\n",
    "    validation_steps = (num_val_sequences//batch_size) + 1\n",
    "    \n",
    "inputShape = (len(img_tensor[0]), img_tensor[1], img_tensor[2], img_tensor[3])\n",
    "\n",
    "model5 = Sequential([\n",
    "    Conv3D(16, make3dFilter(2), padding='same', activation='relu', input_shape=inputShape),\n",
    "    BatchNormalization(),\n",
    "    MaxPooling3D(make3dFilter(2)),\n",
    "\n",
    "    Conv3D(32, make3dFilter(2), padding='same', activation='relu'),\n",
    "    BatchNormalization(),\n",
    "    MaxPooling3D(pool_size=(2)),\n",
    "\n",
    "    Conv3D(64, make3dFilter(2), padding='same', activation='relu'),\n",
    "    BatchNormalization(),\n",
    "    MaxPooling3D(pool_size=(2)),\n",
    "\n",
    "    Conv3D(128, make3dFilter(2), padding='same', activation='relu'),\n",
    "    BatchNormalization(),\n",
    "    MaxPooling3D(pool_size=(2)),\n",
    "\n",
    "    Flatten(),\n",
    "    Dense(256, activation='relu'),\n",
    "    # BatchNormalization(),\n",
    "    # Dropout(0.3),\n",
    "\n",
    "    Dense(128, activation='relu'),\n",
    "    # BatchNormalization(),\n",
    "    # Dropout(0.2),\n",
    "\n",
    "    Dense(5, activation='softmax')\n",
    "], name=\"conv_3d5\")\n",
    "model5.compile(optimizer=optimizers.Adam(), loss='categorical_crossentropy', metrics=['categorical_accuracy'])\n",
    "print(model5.summary())\n",
    "\n",
    "model5_history = model5.fit_generator(train_generator, steps_per_epoch=steps_per_epoch, epochs=num_epochs, verbose=1, \n",
    "            callbacks=callbacks_list, validation_data=val_generator, \n",
    "            validation_steps=validation_steps, class_weight=None, workers=1, initial_epoch=0)"
   ]
  },
  {
   "cell_type": "code",
   "execution_count": null,
   "metadata": {},
   "outputs": [],
   "source": [
    "plotModelHistory(model5_history)"
   ]
  },
  {
   "cell_type": "markdown",
   "metadata": {
    "id": "6OFOJQZFcjQW"
   },
   "source": [
    "### Model 6: Switching Model architecture to Conv2D+LSTM"
   ]
  },
  {
   "cell_type": "code",
   "execution_count": null,
   "metadata": {
    "id": "QDuEGEx3TTyp",
    "outputId": "f0fc2581-3a52-4f03-ac21-f3b3d583ed9e"
   },
   "outputs": [],
   "source": [
    "n_frames = 20\n",
    "num_epochs = 30\n",
    "batch_size = 32\n",
    "\n",
    "img_tensor = getImgTensor(n_frames)\n",
    "train_generator = generator(train_path, train_doc, batch_size, img_tensor)\n",
    "val_generator = generator(val_path, val_doc, batch_size, img_tensor)\n",
    "\n",
    "if (num_train_sequences%batch_size) == 0:\n",
    "    steps_per_epoch = int(num_train_sequences/batch_size)\n",
    "else:\n",
    "    steps_per_epoch = (num_train_sequences//batch_size) + 1\n",
    "\n",
    "if (num_val_sequences%batch_size) == 0:\n",
    "    validation_steps = int(num_val_sequences/batch_size)\n",
    "else:\n",
    "    validation_steps = (num_val_sequences//batch_size) + 1\n",
    "    \n",
    "inputShape = (len(img_tensor[0]), img_tensor[1], img_tensor[2], img_tensor[3])\n",
    "\n",
    "model6 = Sequential([\n",
    "    TimeDistributed(Conv2D(16, make2dFilter(3), padding='same', activation='relu'), input_shape=inputShape),\n",
    "    TimeDistributed(BatchNormalization()),\n",
    "    TimeDistributed(MaxPooling2D(make2dFilter(2))),\n",
    "\n",
    "    TimeDistributed(Conv2D(32, make2dFilter(3), padding='same', activation='relu')),\n",
    "    TimeDistributed(BatchNormalization()),\n",
    "    TimeDistributed(MaxPooling2D(make2dFilter(2))),\n",
    "\n",
    "    TimeDistributed(Conv2D(64, make2dFilter(3), padding='same', activation='relu')),\n",
    "    TimeDistributed(BatchNormalization()),\n",
    "    TimeDistributed(MaxPooling2D(make2dFilter(2))),\n",
    "\n",
    "    TimeDistributed(Conv2D(128, make2dFilter(3), padding='same', activation='relu')),\n",
    "    TimeDistributed(BatchNormalization()),\n",
    "    TimeDistributed(MaxPooling2D(make2dFilter(2))),\n",
    "\n",
    "    TimeDistributed(Conv2D(256, make2dFilter(3), padding='same', activation='relu')),\n",
    "    TimeDistributed(BatchNormalization()),\n",
    "    TimeDistributed(MaxPooling2D(make2dFilter(2))),\n",
    "\n",
    "    TimeDistributed(Flatten()),\n",
    "    LSTM(256),\n",
    "    Dropout(0.2),\n",
    "\n",
    "    Dense(256, activation='relu'),\n",
    "    Dropout(0.2),\n",
    "\n",
    "    Dense(5, activation='softmax')\n",
    "], name=\"conv_2d_lstm\")\n",
    "model6.compile(optimizer=optimizers.Adam(), loss='categorical_crossentropy', metrics=['categorical_accuracy'])\n",
    "print(model6.summary())\n",
    "\n",
    "model6_history = model6.fit_generator(train_generator, steps_per_epoch=steps_per_epoch, epochs=num_epochs, verbose=1, \n",
    "            callbacks=callbacks_list, validation_data=val_generator, \n",
    "            validation_steps=validation_steps, class_weight=None, workers=1, initial_epoch=0)"
   ]
  },
  {
   "cell_type": "code",
   "execution_count": null,
   "metadata": {},
   "outputs": [],
   "source": [
    "plotModelHistory(model6_history)"
   ]
  },
  {
   "cell_type": "markdown",
   "metadata": {
    "id": "skhLjh_vyXfR"
   },
   "source": [
    "### Model 7: Transfer Learning (MobileNet) with LSTM"
   ]
  },
  {
   "cell_type": "code",
   "execution_count": null,
   "metadata": {
    "id": "6o_v7A10vBKd"
   },
   "outputs": [],
   "source": [
    "from tensorflow.keras.applications import mobilenet"
   ]
  },
  {
   "cell_type": "code",
   "execution_count": null,
   "metadata": {
    "id": "1o8quf9byzns",
    "outputId": "b4df59a3-3fe9-4cdd-ba7d-9dc69515603d"
   },
   "outputs": [],
   "source": [
    "mobilenet = mobilenet.MobileNet(weights='imagenet', include_top=False)\n",
    "\n",
    "n_frames = 20\n",
    "num_epochs = 30\n",
    "batch_size = 64\n",
    "\n",
    "img_tensor = getImgTensor(n_frames)\n",
    "train_generator = generator(train_path, train_doc, batch_size, img_tensor)\n",
    "val_generator = generator(val_path, val_doc, batch_size, img_tensor)\n",
    "\n",
    "if (num_train_sequences%batch_size) == 0:\n",
    "    steps_per_epoch = int(num_train_sequences/batch_size)\n",
    "else:\n",
    "    steps_per_epoch = (num_train_sequences//batch_size) + 1\n",
    "\n",
    "if (num_val_sequences%batch_size) == 0:\n",
    "    validation_steps = int(num_val_sequences/batch_size)\n",
    "else:\n",
    "    validation_steps = (num_val_sequences//batch_size) + 1\n",
    "    \n",
    "inputShape = (len(img_tensor[0]), img_tensor[1], img_tensor[2], img_tensor[3])\n",
    "\n",
    "model7 = Sequential([\n",
    "    TimeDistributed(mobilenet, input_shape=inputShape)\n",
    "], name=\"mobilenet_lstm\")\n",
    "\n",
    "for layer in model7.layers:\n",
    "    layer.trainable = False\n",
    "\n",
    "model7.add(TimeDistributed(BatchNormalization()))\n",
    "model7.add(TimeDistributed(MaxPooling2D(make2dFilter(2))))\n",
    "model7.add(TimeDistributed(Flatten()))\n",
    "\n",
    "model7.add(LSTM(256))\n",
    "model7.add(Dropout(0.2))\n",
    "\n",
    "model7.add(Dense(256,activation='relu'))\n",
    "model7.add(Dropout(0.2))\n",
    "\n",
    "model7.add(Dense(5, activation='softmax'))\n",
    "\n",
    "model7.compile(optimizer=optimizers.Adam(), loss='categorical_crossentropy', metrics=['categorical_accuracy'])\n",
    "print(model7.summary())\n",
    "\n",
    "model7_history = model7.fit_generator(train_generator, steps_per_epoch=steps_per_epoch, epochs=num_epochs, verbose=1, \n",
    "            callbacks=callbacks_list, validation_data=val_generator, \n",
    "            validation_steps=validation_steps, class_weight=None, workers=1, initial_epoch=0)"
   ]
  },
  {
   "cell_type": "code",
   "execution_count": null,
   "metadata": {},
   "outputs": [],
   "source": [
    "plotModelHistory(model7_history)"
   ]
  }
 ],
 "metadata": {
  "kernelspec": {
   "display_name": "Python 3",
   "language": "python",
   "name": "python3"
  },
  "language_info": {
   "codemirror_mode": {
    "name": "ipython",
    "version": 3
   },
   "file_extension": ".py",
   "mimetype": "text/x-python",
   "name": "python",
   "nbconvert_exporter": "python",
   "pygments_lexer": "ipython3",
   "version": "3.8.8"
  }
 },
 "nbformat": 4,
 "nbformat_minor": 4
}
