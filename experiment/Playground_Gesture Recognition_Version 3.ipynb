{
 "cells": [
  {
   "cell_type": "markdown",
   "metadata": {
    "id": "FsCWJ6klvu_d"
   },
   "source": [
    "# \"Smart\" Gesture Recognition\n",
    "\n",
    "\n",
    "**Business Proposal**\n",
    "\n",
    "Nowadays, technology has a pivotal role in creating virtual environments with virtual elements. We work collaboratively with real-world intelligent objects on a day-to-day basis. Innovations like the Internet of things (IoT) products, gesture recognition, and teleportation application have certainly made our life \"smarter\" and more accessible.   \n",
    "\n",
    "\n",
    "Embracing an \"implementing a smarter life\" mindset, Team College aims to develop a cool feature in the smart TV that can recognize five different gestures performed by the user to help users control the TV without using a remote. Based on this dataset, Team College wants to develop a well-rounded deep learning gesture recognition model which has applications in a spectrum of different industries beyond smart-TV. \n",
    "\n",
    "**Dataset Description**\n",
    "The data consists of a few hundred videos categorized into five classes: thumb up, thumb down, swipe left, swipe right, stop. The webcam mounted on the TV continuously monitors the gestures. Each motion corresponds to a specific command:    \n",
    " \n",
    "| Gesture | Corresponding Action |\n",
    "| --- | --- | \n",
    "| Thumbs Up | Increase the volume. |\n",
    "| Thumbs Down | Decrease the volume. |\n",
    "| Left Swipe | 'Jump' backwards 10 seconds. |\n",
    "| Right Swipe | 'Jump' forward 10 seconds. |\n",
    "| Stop | Pause the movie. |\n",
    "\n",
    "The training data consists of 19,890 images (663*30): there are 663 videos categorized into one of the five classes. Each video (typically 2-3 seconds long) is divided into a sequence of 30 frames(images). The testing data consists of a total of 3,000 images.\t  \n",
    "\n",
    "Various people have recorded these videos performing one of the five gestures in front of a webcam - like what the smart TV will use. Specifically, videos have two types of dimensions - either 360x360 or 120x160 (depending on the webcam used to record the videos) \n",
    "\n",
    "### Team College Objectives:\n",
    "1. **Data Preprocessing_Generator Establishment**:  Team College aim to build a function called \"Generator\" so that this fuction should be able to take a batch of videos as input without any error. Steps like cropping, resizing and normalization should be performed successfully.\n",
    "\n",
    "2. **Experimentation _ Model Architecture**: Team College aim to develop the best model that is able to train with high accuracy and without any errors. To achieve the goal, Conv3D with Maxpolling 3D, RNN, CNN LSTM with GRU (for augmentation) models will be used to tackle the problem. \n",
    "\n",
    "3. **Best Performing Model**: Further Development and Tryouts such as Generative Adversarial Networks (GAN) , Different Batch Size, Learning Rate and tansfer learning method will be applied to design the best performing Model."
   ]
  },
  {
   "cell_type": "markdown",
   "metadata": {},
   "source": [
    "## Housekeeping Setup"
   ]
  },
  {
   "cell_type": "code",
   "execution_count": 1,
   "metadata": {},
   "outputs": [],
   "source": [
    "import numpy as np\n",
    "import pandas as pd\n",
    "from sklearn.model_selection import train_test_split\n",
    "from keras.models import Sequential, Model\n",
    "from keras.layers import Dense, Dropout, Conv2D, MaxPooling2D, Flatten, Activation, LSTM\n",
    "from keras.layers.convolutional import Conv3D, MaxPooling3D, Conv2D, MaxPooling2D\n",
    "from keras.utils import np_utils\n",
    "from tensorflow.keras.utils import to_categorical\n",
    "from matplotlib import image\n",
    "import numpy as np\n",
    "\n",
    "import os\n",
    "from skimage.transform import resize\n",
    "from imageio import imread\n",
    "import datetime\n",
    "\n",
    "import pathlib\n",
    "from os.path import isfile, join\n",
    "\n",
    "import matplotlib.pyplot as plt\n",
    "import PIL\n",
    "import PIL.Image\n",
    "import warnings\n",
    "warnings.filterwarnings('ignore')"
   ]
  },
  {
   "cell_type": "markdown",
   "metadata": {},
   "source": [
    "We set the random seed as 30 to ensure the steady outcome"
   ]
  },
  {
   "cell_type": "code",
   "execution_count": 28,
   "metadata": {},
   "outputs": [],
   "source": [
    "import datetime\n",
    "np.random.seed(30)\n",
    "import random as rn\n",
    "rn.seed(30)\n",
    "from keras import backend as K\n",
    "import tensorflow as tf\n",
    "from tensorflow import keras\n",
    "tf.random.set_seed(30)\n",
    "\n",
    "import torch\n",
    "import torch.nn as nn"
   ]
  },
  {
   "cell_type": "markdown",
   "metadata": {},
   "source": [
    "Setp for GPU check, if you have it, lucky you; ifelse, this might take some time to compute :)"
   ]
  },
  {
   "cell_type": "code",
   "execution_count": 3,
   "metadata": {},
   "outputs": [
    {
     "name": "stdout",
     "output_type": "stream",
     "text": [
      "Num GPUs Available:  1\n"
     ]
    }
   ],
   "source": [
    "import tensorflow as tf\n",
    "print(\"Num GPUs Available: \", len(tf.config.list_physical_devices('GPU')))"
   ]
  },
  {
   "cell_type": "markdown",
   "metadata": {},
   "source": [
    "## Load Data\n",
    "\n",
    "- No. training sequences = 530\n",
    "- No. validation sequences = 133\n",
    "- No. testing sequences = 100\n",
    "\n",
    "train-val-test = 70% - 17% -13%"
   ]
  },
  {
   "cell_type": "code",
   "execution_count": 4,
   "metadata": {},
   "outputs": [],
   "source": [
    "train_doc = np.random.permutation(open('Project_data/train.csv').readlines())\n",
    "test_doc = np.random.permutation(open('Project_data/test.csv').readlines())\n",
    "val_doc = np.random.permutation(open('Project_data/val.csv').readlines())\n",
    "batch_size = 64"
   ]
  },
  {
   "cell_type": "markdown",
   "metadata": {},
   "source": [
    "## Data EDA\n",
    "Sample train and val dataset display as follow:\n",
    "- train_doc contains 662 datapoints\n",
    "- val-doc contains 100 datapoints"
   ]
  },
  {
   "cell_type": "code",
   "execution_count": 5,
   "metadata": {
    "scrolled": true
   },
   "outputs": [
    {
     "data": {
      "text/plain": [
       "array(['WIN_20180926_17_13_13_Pro_Right_Swipe_new,Right_Swipe_new,1\\n',\n",
       "       'WIN_20180925_18_08_08_Pro_Thumbs_Up_new,Thumbs_Up_new,4\\n',\n",
       "       'WIN_20180907_16_12_09_Pro_Stop Gesture_new,Stop Gesture_new,2\\n',\n",
       "       'WIN_20180926_17_23_39_Pro_Left_Swipe_new,Left_Swipe_new,0\\n',\n",
       "       'WIN_20180926_17_12_26_Pro_Stop_new,Stop_new,2\\n',\n",
       "       'WIN_20180926_17_08_38_Pro_Thumbs_Down_new,Thumbs_Down_new,3\\n',\n",
       "       'WIN_20180926_17_22_16_Pro_Thumbs_Up_new,Thumbs_Up_new,4\\n',\n",
       "       'WIN_20180925_18_14_35_Pro_Right_Swipe_new,Right_Swipe_new,1\\n',\n",
       "       'WIN_20180925_17_57_36_Pro_Left_Swipe_new,Left_Swipe_new,0\\n',\n",
       "       'WIN_20180926_17_05_32_Pro_Stop_new,Stop_new,2\\n',\n",
       "       'WIN_20180907_16_25_10_Pro_Thumbs Up_new,Thumbs Up_new,4\\n',\n",
       "       'WIN_20180926_17_47_31_Pro_Thumbs_Down_new,Thumbs_Down_new,3\\n',\n",
       "       'WIN_20180925_17_42_12_Pro_Right_Swipe_new,Right_Swipe_new,1\\n',\n",
       "       'WIN_20180925_17_46_33_Pro_Thumbs_Down_new,Thumbs_Down_new,3\\n',\n",
       "       'WIN_20180926_17_24_33_Pro_Thumbs_Up_new,Thumbs_Up_new,4\\n',\n",
       "       'WIN_20180926_17_28_47_Pro_Left_Swipe_new,Left_Swipe_new,0\\n',\n",
       "       'WIN_20180926_17_22_54_Pro_Left_Swipe_new,Left_Swipe_new,0\\n',\n",
       "       'WIN_20180926_17_10_46_Pro_Stop_new,Stop_new,2\\n',\n",
       "       'WIN_20180926_17_07_50_Pro_Right_Swipe_new,Right_Swipe_new,1\\n',\n",
       "       'WIN_20180926_17_06_24_Pro_Left_Swipe_new,Left_Swipe_new,0\\n',\n",
       "       'WIN_20180926_16_52_43_Pro_Thumbs_Down_new,Thumbs_Down_new,3\\n',\n",
       "       'WIN_20180925_17_35_12_Pro_Stop_new,Stop_new,2\\n',\n",
       "       'WIN_20180925_17_47_06_Pro_Thumbs_Down_new,Thumbs_Down_new,3\\n',\n",
       "       'WIN_20180925_17_55_12_Pro_Left_Swipe_new,Left_Swipe_new,0\\n',\n",
       "       'WIN_20180926_17_22_49_Pro_Right_Swipe_new,Right_Swipe_new,1\\n',\n",
       "       'WIN_20180925_17_57_06_Pro_Thumbs_Down_new,Thumbs_Down_new,3\\n',\n",
       "       'WIN_20180925_17_48_59_Pro_Stop_new,Stop_new,2\\n',\n",
       "       'WIN_20180907_16_27_42_Pro_Right Swipe_new,Right Swipe_new,1\\n',\n",
       "       'WIN_20180926_17_42_50_Pro_Thumbs_Down_new,Thumbs_Down_new,3\\n',\n",
       "       'WIN_20180926_16_46_40_Pro_Left_Swipe_new,Left_Swipe_new,0\\n',\n",
       "       'WIN_20180907_15_51_07_Pro_Left Swipe_new_Left Swipe_new,Left Swipe_new_Left Swipe_new,0\\n',\n",
       "       'WIN_20180925_17_29_33_Pro_Stop_new,Stop_new,2\\n',\n",
       "       'WIN_20180926_16_39_35_Pro_Stop_new,Stop_new,2\\n',\n",
       "       'WIN_20180925_17_55_36_Pro_Right_Swipe_new,Right_Swipe_new,1\\n',\n",
       "       'WIN_20180925_17_35_57_Pro_Stop_new,Stop_new,2\\n',\n",
       "       'WIN_20180926_17_22_23_Pro_Stop_new,Stop_new,2\\n',\n",
       "       'WIN_20180907_16_02_59_Pro_Stop Gesture_new,Stop Gesture_new,2\\n',\n",
       "       'WIN_20180925_17_37_14_Pro_Stop_new,Stop_new,2\\n',\n",
       "       'WIN_20180926_17_40_37_Pro_Stop_new,Stop_new,2\\n',\n",
       "       'WIN_20180925_17_53_35_Pro_Stop_new,Stop_new,2\\n',\n",
       "       'WIN_20180925_17_47_32_Pro_Thumbs_Down_new,Thumbs_Down_new,3\\n',\n",
       "       'WIN_20180925_17_36_07_Pro_Right_Swipe_new,Right_Swipe_new,1\\n',\n",
       "       'WIN_20180926_16_51_37_Pro_Right_Swipe_new,Right_Swipe_new,1\\n',\n",
       "       'WIN_20180925_17_08_43_Pro_Left_Swipe_new,Left_Swipe_new,0\\n',\n",
       "       'WIN_20180925_18_02_17_Pro_Left_Swipe_new,Left_Swipe_new,0\\n',\n",
       "       'WIN_20180926_17_53_54_Pro_Right_Swipe_new,Right_Swipe_new,1\\n',\n",
       "       'WIN_20180926_17_40_53_Pro_Thumbs_Up_new,Thumbs_Up_new,4\\n',\n",
       "       'WIN_20180925_17_43_57_Pro_Left_Swipe_new,Left_Swipe_new,0\\n',\n",
       "       'WIN_20180925_17_54_25_Pro_Left_Swipe_new,Left_Swipe_new,0\\n',\n",
       "       'WIN_20180926_17_39_43_Pro_Stop_new,Stop_new,2\\n',\n",
       "       'WIN_20180926_16_47_06_Pro_Thumbs_Up_new,Thumbs_Up_new,4\\n',\n",
       "       'WIN_20180925_17_20_53_Pro_Thumbs_Up_new,Thumbs_Up_new,4\\n',\n",
       "       'WIN_20180925_17_25_14_Pro_Thumbs_Up_new,Thumbs_Up_new,4\\n',\n",
       "       'WIN_20180926_16_45_45_Pro_Thumbs_Down_new,Thumbs_Down_new,3\\n',\n",
       "       'WIN_20180907_15_49_58_Pro_Stop Gesture_new,Stop Gesture_new,2\\n',\n",
       "       'WIN_20180907_16_22_03_Pro_Left Swipe_new_Left Swipe_new,Left Swipe_new_Left Swipe_new,0\\n',\n",
       "       'WIN_20180925_17_39_11_Pro_Stop_new,Stop_new,2\\n',\n",
       "       'WIN_20180926_17_02_27_Pro_Thumbs_Up_new,Thumbs_Up_new,4\\n',\n",
       "       'WIN_20180926_17_17_07_Pro_Thumbs_Down_new,Thumbs_Down_new,3\\n',\n",
       "       'WIN_20180925_17_48_48_Pro_Right_Swipe_new,Right_Swipe_new,1\\n',\n",
       "       'WIN_20180925_18_24_34_Pro_Thumbs_Down_new,Thumbs_Down_new,3\\n',\n",
       "       'WIN_20180907_16_20_37_Pro_Thumbs Up_new,Thumbs Up_new,4\\n',\n",
       "       'WIN_20180926_16_58_25_Pro_Stop_new,Stop_new,2\\n',\n",
       "       'WIN_20180926_16_35_34_Pro_Stop_new,Stop_new,2\\n',\n",
       "       'WIN_20180926_17_24_14_Pro_Stop_new,Stop_new,2\\n',\n",
       "       'WIN_20180925_18_03_22_Pro_Thumbs_Down_new,Thumbs_Down_new,3\\n',\n",
       "       'WIN_20180925_17_28_48_Pro_Stop_new,Stop_new,2\\n',\n",
       "       'WIN_20180907_16_15_33_Pro_Thumbs Up_new,Thumbs Up_new,4\\n',\n",
       "       'WIN_20180907_16_38_29_Pro_Left Swipe_new_Left Swipe_new,Left Swipe_new_Left Swipe_new,0\\n',\n",
       "       'WIN_20180926_16_54_30_Pro_Left_Swipe_new,Left_Swipe_new,0\\n',\n",
       "       'WIN_20180926_17_39_48_Pro_Right_Swipe_new,Right_Swipe_new,1\\n',\n",
       "       'WIN_20180926_17_21_18_Pro_Thumbs_Up_new,Thumbs_Up_new,4\\n',\n",
       "       'WIN_20180926_17_33_09_Pro_Thumbs_Up_new,Thumbs_Up_new,4\\n',\n",
       "       'WIN_20180926_17_32_19_Pro_Thumbs_Up_new,Thumbs_Up_new,4\\n',\n",
       "       'WIN_20180925_17_57_12_Pro_Thumbs_Up_new,Thumbs_Up_new,4\\n',\n",
       "       'WIN_20180926_17_14_56_Pro_Right_Swipe_new,Right_Swipe_new,1\\n',\n",
       "       'WIN_20180925_17_22_42_Pro_Thumbs_Up_new,Thumbs_Up_new,4\\n',\n",
       "       'WIN_20180907_16_01_20_Pro_Thumbs Up_new,Thumbs Up_new,4\\n',\n",
       "       'WIN_20180907_16_42_55_Pro_Thumbs Up_new,Thumbs Up_new,4\\n',\n",
       "       'WIN_20180925_17_32_52_Pro_Thumbs_Up_new,Thumbs_Up_new,4\\n',\n",
       "       'WIN_20180926_17_10_30_Pro_Stop_new,Stop_new,2\\n',\n",
       "       'WIN_20180925_17_32_38_Pro_Right_Swipe_new,Right_Swipe_new,1\\n',\n",
       "       'WIN_20180926_16_41_11_Pro_Thumbs_Up_new,Thumbs_Up_new,4\\n',\n",
       "       'WIN_20180907_15_54_06_Pro_Stop Gesture_new,Stop Gesture_new,2\\n',\n",
       "       'WIN_20180907_16_06_16_Pro_Left Swipe_new_Left Swipe_new,Left Swipe_new_Left Swipe_new,0\\n',\n",
       "       'WIN_20180926_17_01_50_Pro_Stop_new,Stop_new,2\\n',\n",
       "       'WIN_20180926_18_05_07_Pro_Right_Swipe_new,Right_Swipe_new,1\\n',\n",
       "       'WIN_20180925_17_34_05_Pro_Thumbs_Down_new,Thumbs_Down_new,3\\n',\n",
       "       'WIN_20180907_16_04_13_Pro_Thumbs Down_new,Thumbs Down_new,3\\n',\n",
       "       'WIN_20180907_16_41_45_Pro_Right Swipe_new,Right Swipe_new,1\\n',\n",
       "       'WIN_20180926_17_43_07_Pro_Left_Swipe_new,Left_Swipe_new,0\\n',\n",
       "       'WIN_20180926_16_59_48_Pro_Stop_new,Stop_new,2\\n',\n",
       "       'WIN_20180926_17_18_43_Pro_Thumbs_Up_new,Thumbs_Up_new,4\\n',\n",
       "       'WIN_20180926_17_13_39_Pro_Right_Swipe_new,Right_Swipe_new,1\\n',\n",
       "       'WIN_20180907_16_20_32_Pro_Thumbs Down_new,Thumbs Down_new,3\\n',\n",
       "       'WIN_20180907_16_27_36_Pro_Stop Gesture_new,Stop Gesture_new,2\\n',\n",
       "       'WIN_20180926_17_01_07_Pro_Right_Swipe_new,Right_Swipe_new,1\\n',\n",
       "       'WIN_20180907_16_11_00_Pro_Thumbs Down_new,Thumbs Down_new,3\\n',\n",
       "       'WIN_20180907_16_12_40_Pro_Thumbs Down_new,Thumbs Down_new,3\\n',\n",
       "       'WIN_20180925_17_18_25_Pro_Right_Swipe_new,Right_Swipe_new,1\\n',\n",
       "       'WIN_20180925_17_55_45_Pro_Thumbs_Down_new,Thumbs_Down_new,3\\n',\n",
       "       'WIN_20180907_16_54_21_Pro_Thumbs Down_new,Thumbs Down_new,3\\n',\n",
       "       'WIN_20180925_17_42_31_Pro_Thumbs_Down_new,Thumbs_Down_new,3\\n',\n",
       "       'WIN_20180926_16_56_51_Pro_Thumbs_Up_new,Thumbs_Up_new,4\\n',\n",
       "       'WIN_20180907_16_25_47_Pro_Left Swipe_new_Left Swipe_new,Left Swipe_new_Left Swipe_new,0\\n',\n",
       "       'WIN_20180926_17_20_39_Pro_Right_Swipe_new,Right_Swipe_new,1\\n',\n",
       "       'WIN_20180926_17_25_18_Pro_Stop_new,Stop_new,2\\n',\n",
       "       'WIN_20180926_17_07_02_Pro_Stop_new,Stop_new,2\\n',\n",
       "       'WIN_20180925_17_36_28_Pro_Thumbs_Down_new,Thumbs_Down_new,3\\n',\n",
       "       'WIN_20180926_17_24_55_Pro_Stop_new,Stop_new,2\\n',\n",
       "       'WIN_20180925_17_50_07_Pro_Thumbs_Down_new,Thumbs_Down_new,3\\n',\n",
       "       'WIN_20180926_16_59_06_Pro_Left_Swipe_new,Left_Swipe_new,0\\n',\n",
       "       'WIN_20180926_17_19_35_Pro_Stop_new,Stop_new,2\\n',\n",
       "       'WIN_20180926_17_04_58_Pro_Right_Swipe_new,Right_Swipe_new,1\\n',\n",
       "       'WIN_20180907_15_53_00_Pro_Thumbs Down_new,Thumbs Down_new,3\\n',\n",
       "       'WIN_20180925_17_57_31_Pro_Stop_new,Stop_new,2\\n',\n",
       "       'WIN_20180925_18_06_23_Pro_Thumbs_Down_new,Thumbs_Down_new,3\\n',\n",
       "       'WIN_20180925_17_22_11_Pro_Thumbs_Up_new,Thumbs_Up_new,4\\n',\n",
       "       'WIN_20180907_15_45_56_Pro_Thumbs Down_new,Thumbs Down_new,3\\n',\n",
       "       'WIN_20180926_16_39_19_Pro_Stop_new,Stop_new,2\\n',\n",
       "       'WIN_20180925_18_20_19_Pro_Thumbs_Down_new,Thumbs_Down_new,3\\n',\n",
       "       'WIN_20180926_17_02_05_Pro_Thumbs_Down_new,Thumbs_Down_new,3\\n',\n",
       "       'WIN_20180907_16_31_45_Pro_Thumbs Up_new,Thumbs Up_new,4\\n',\n",
       "       'WIN_20180926_16_59_44_Pro_Thumbs_Up_new,Thumbs_Up_new,4\\n',\n",
       "       'WIN_20180925_17_50_31_Pro_Right_Swipe_new,Right_Swipe_new,1\\n',\n",
       "       'WIN_20180926_17_39_59_Pro_Thumbs_Down_new,Thumbs_Down_new,3\\n',\n",
       "       'WIN_20180925_17_48_24_Pro_Stop_new,Stop_new,2\\n',\n",
       "       'WIN_20180907_16_30_24_Pro_Stop Gesture_new,Stop Gesture_new,2\\n',\n",
       "       'WIN_20180925_17_19_51_Pro_Left_Swipe_new,Left_Swipe_new,0\\n',\n",
       "       'WIN_20180926_16_58_07_Pro_Thumbs_Up_new,Thumbs_Up_new,4\\n',\n",
       "       'WIN_20180926_16_58_12_Pro_Left_Swipe_new,Left_Swipe_new,0\\n',\n",
       "       'WIN_20180926_16_50_23_Pro_Stop_new,Stop_new,2\\n',\n",
       "       'WIN_20180926_17_33_51_Pro_Thumbs_Down_new,Thumbs_Down_new,3\\n',\n",
       "       'WIN_20180926_16_54_08_Pro_Right_Swipe_new,Right_Swipe_new,1\\n',\n",
       "       'WIN_20180907_16_19_27_Pro_Stop Gesture_new,Stop Gesture_new,2\\n',\n",
       "       'WIN_20180926_17_15_18_Pro_Thumbs_Up_new,Thumbs_Up_new,4\\n',\n",
       "       'WIN_20180926_16_55_27_Pro_Thumbs_Up_new,Thumbs_Up_new,4\\n',\n",
       "       'WIN_20180925_18_07_47_Pro_Left_Swipe_new,Left_Swipe_new,0\\n',\n",
       "       'WIN_20180926_17_13_32_Pro_Left_Swipe_new,Left_Swipe_new,0\\n',\n",
       "       'WIN_20180925_17_43_57_Pro_Stop_new,Stop_new,2\\n',\n",
       "       'WIN_20180926_17_30_12_Pro_Thumbs_Up_new,Thumbs_Up_new,4\\n',\n",
       "       'WIN_20180925_17_23_46_Pro_Thumbs_Up_new,Thumbs_Up_new,4\\n',\n",
       "       'WIN_20180926_16_50_21_Pro_Left_Swipe_new,Left_Swipe_new,0\\n',\n",
       "       'WIN_20180926_16_39_45_Pro_Right_Swipe_new,Right_Swipe_new,1\\n',\n",
       "       'WIN_20180926_17_52_26_Pro_Stop_new,Stop_new,2\\n',\n",
       "       'WIN_20180907_16_31_12_Pro_Thumbs Down_new,Thumbs Down_new,3\\n',\n",
       "       'WIN_20180907_16_05_58_Pro_Stop Gesture_new,Stop Gesture_new,2\\n',\n",
       "       'WIN_20180907_16_25_52_Pro_Thumbs Down_new,Thumbs Down_new,3\\n',\n",
       "       'WIN_20180926_17_33_46_Pro_Left_Swipe_new,Left_Swipe_new,0\\n',\n",
       "       'WIN_20180907_15_58_38_Pro_Thumbs Down_new,Thumbs Down_new,3\\n',\n",
       "       'WIN_20180926_17_06_26_Pro_Stop_new,Stop_new,2\\n',\n",
       "       'WIN_20180925_17_39_25_Pro_Left_Swipe_new,Left_Swipe_new,0\\n',\n",
       "       'WIN_20180925_17_26_37_Pro_Thumbs_Up_new,Thumbs_Up_new,4\\n',\n",
       "       'WIN_20180907_16_19_10_Pro_Left Swipe_new_Left Swipe_new,Left Swipe_new_Left Swipe_new,0\\n',\n",
       "       'WIN_20180907_15_46_43_Pro_Left Swipe_new_Left Swipe_new,Left Swipe_new_Left Swipe_new,0\\n',\n",
       "       'WIN_20180907_15_38_35_Pro_Thumbs Down_new,Thumbs Down_new,3\\n',\n",
       "       'WIN_20180925_17_49_11_Pro_Thumbs_Down_new,Thumbs_Down_new,3\\n',\n",
       "       'WIN_20180925_18_06_24_Pro_Stop_new,Stop_new,2\\n',\n",
       "       'WIN_20180926_17_19_48_Pro_Left_Swipe_new,Left_Swipe_new,0\\n',\n",
       "       'WIN_20180907_16_12_53_Pro_Left Swipe_new_Left Swipe_new,Left Swipe_new_Left Swipe_new,0\\n',\n",
       "       'WIN_20180926_17_00_47_Pro_Stop_new,Stop_new,2\\n',\n",
       "       'WIN_20180926_17_28_52_Pro_Right_Swipe_new,Right_Swipe_new,1\\n',\n",
       "       'WIN_20180907_15_58_17_Pro_Left Swipe_new_Left Swipe_new,Left Swipe_new_Left Swipe_new,0\\n',\n",
       "       'WIN_20180907_16_13_35_Pro_Thumbs Up_new,Thumbs Up_new,4\\n',\n",
       "       'WIN_20180926_17_38_34_Pro_Right_Swipe_new,Right_Swipe_new,1\\n',\n",
       "       'WIN_20180907_16_13_12_Pro_Stop Gesture_new,Stop Gesture_new,2\\n',\n",
       "       'WIN_20180925_17_20_22_Pro_Right_Swipe_new,Right_Swipe_new,1\\n',\n",
       "       'WIN_20180926_17_42_21_Pro_Thumbs_Down_new,Thumbs_Down_new,3\\n',\n",
       "       'WIN_20180926_17_29_23_Pro_Stop_new,Stop_new,2\\n',\n",
       "       'WIN_20180907_16_01_34_Pro_Left Swipe_new_Left Swipe_new,Left Swipe_new_Left Swipe_new,0\\n',\n",
       "       'WIN_20180926_16_48_34_Pro_Left_Swipe_new,Left_Swipe_new,0\\n',\n",
       "       'WIN_20180926_17_35_17_Pro_Stop_new,Stop_new,2\\n',\n",
       "       'WIN_20180926_17_43_30_Pro_Thumbs_Up_new,Thumbs_Up_new,4\\n',\n",
       "       'WIN_20180907_16_57_43_Pro_Stop Gesture_new,Stop Gesture_new,2\\n',\n",
       "       'WIN_20180926_17_10_00_Pro_Thumbs_Up_new,Thumbs_Up_new,4\\n',\n",
       "       'WIN_20180907_15_57_30_Pro_Stop Gesture_new,Stop Gesture_new,2\\n',\n",
       "       'WIN_20180926_18_05_29_Pro_Thumbs_Down_new,Thumbs_Down_new,3\\n',\n",
       "       'WIN_20180925_17_43_32_Pro_Left_Swipe_new,Left_Swipe_new,0\\n',\n",
       "       'WIN_20180926_17_25_30_Pro_Right_Swipe_new,Right_Swipe_new,1\\n',\n",
       "       'WIN_20180926_17_28_28_Pro_Stop_new,Stop_new,2\\n',\n",
       "       'WIN_20180926_16_57_51_Pro_Thumbs_Up_new,Thumbs_Up_new,4\\n',\n",
       "       'WIN_20180907_16_58_34_Pro_Right Swipe_new,Right Swipe_new,1\\n',\n",
       "       'WIN_20180925_17_45_23_Pro_Thumbs_Down_new,Thumbs_Down_new,3\\n',\n",
       "       'WIN_20180907_15_43_28_Pro_Right Swipe_new,Right Swipe_new,1\\n',\n",
       "       'WIN_20180926_16_45_10_Pro_Thumbs_Up_new,Thumbs_Up_new,4\\n',\n",
       "       'WIN_20180925_18_13_58_Pro_Thumbs_Down_new,Thumbs_Down_new,3\\n',\n",
       "       'WIN_20180925_18_14_47_Pro_Thumbs_Down_new,Thumbs_Down_new,3\\n',\n",
       "       'WIN_20180925_17_27_22_Pro_Thumbs_Up_new,Thumbs_Up_new,4\\n',\n",
       "       'WIN_20180907_16_02_21_Pro_Left Swipe_new_Left Swipe_new,Left Swipe_new_Left Swipe_new,0\\n',\n",
       "       'WIN_20180926_17_32_29_Pro_Thumbs_Down_new,Thumbs_Down_new,3\\n',\n",
       "       'WIN_20180907_15_44_55_Pro_Stop Gesture_new,Stop Gesture_new,2\\n',\n",
       "       'WIN_20180907_16_22_52_Pro_Thumbs Up_new,Thumbs Up_new,4\\n',\n",
       "       'WIN_20180907_15_58_45_Pro_Left Swipe_new_Left Swipe_new,Left Swipe_new_Left Swipe_new,0\\n',\n",
       "       'WIN_20180907_16_42_05_Pro_Thumbs Up_new,Thumbs Up_new,4\\n',\n",
       "       'WIN_20180926_17_21_16_Pro_Left_Swipe_new,Left_Swipe_new,0\\n',\n",
       "       'WIN_20180907_16_04_43_Pro_Stop Gesture_new,Stop Gesture_new,2\\n',\n",
       "       'WIN_20180925_17_22_55_Pro_Left_Swipe_new,Left_Swipe_new,0\\n',\n",
       "       'WIN_20180907_16_52_18_Pro_Stop Gesture_new,Stop Gesture_new,2\\n',\n",
       "       'WIN_20180925_17_49_07_Pro_Left_Swipe_new,Left_Swipe_new,0\\n',\n",
       "       'WIN_20180907_16_03_54_Pro_Right Swipe_new,Right Swipe_new,1\\n',\n",
       "       'WIN_20180925_17_44_26_Pro_Right_Swipe_new,Right_Swipe_new,1\\n',\n",
       "       'WIN_20180926_17_53_03_Pro_Right_Swipe_new,Right_Swipe_new,1\\n',\n",
       "       'WIN_20180925_17_47_47_Pro_Right_Swipe_new,Right_Swipe_new,1\\n',\n",
       "       'WIN_20180907_15_51_58_Pro_Right Swipe_new,Right Swipe_new,1\\n',\n",
       "       'WIN_20180925_18_17_43_Pro_Right_Swipe_new,Right_Swipe_new,1\\n',\n",
       "       'WIN_20180907_16_40_47_Pro_Thumbs Down_new,Thumbs Down_new,3\\n',\n",
       "       'WIN_20180926_18_05_21_Pro_Thumbs_Down_new,Thumbs_Down_new,3\\n',\n",
       "       'WIN_20180926_18_07_05_Pro_Right_Swipe_new,Right_Swipe_new,1\\n',\n",
       "       'WIN_20180925_17_47_19_Pro_Right_Swipe_new,Right_Swipe_new,1\\n',\n",
       "       'WIN_20180926_17_54_45_Pro_Right_Swipe_new,Right_Swipe_new,1\\n',\n",
       "       'WIN_20180907_16_21_32_Pro_Thumbs Down_new,Thumbs Down_new,3\\n',\n",
       "       'WIN_20180926_17_12_26_Pro_Thumbs_Up_new,Thumbs_Up_new,4\\n',\n",
       "       'WIN_20180926_17_34_37_Pro_Stop_new,Stop_new,2\\n',\n",
       "       'WIN_20180907_15_59_28_Pro_Thumbs Up_new,Thumbs Up_new,4\\n',\n",
       "       'WIN_20180925_17_29_52_Pro_Left_Swipe_new,Left_Swipe_new,0\\n',\n",
       "       'WIN_20180926_17_24_54_Pro_Left_Swipe_new,Left_Swipe_new,0\\n',\n",
       "       'WIN_20180925_17_37_12_Pro_Thumbs_Down_new,Thumbs_Down_new,3\\n',\n",
       "       'WIN_20180907_16_00_27_Pro_Stop Gesture_new,Stop Gesture_new,2\\n',\n",
       "       'WIN_20180907_16_07_46_Pro_Left Swipe_new_Left Swipe_new,Left Swipe_new_Left Swipe_new,0\\n',\n",
       "       'WIN_20180926_16_56_46_Pro_Right_Swipe_new,Right_Swipe_new,1\\n',\n",
       "       'WIN_20180925_17_53_03_Pro_Stop_new,Stop_new,2\\n',\n",
       "       'WIN_20180926_17_00_44_Pro_Thumbs_Down_new,Thumbs_Down_new,3\\n',\n",
       "       'WIN_20180926_17_20_22_Pro_Thumbs_Down_new,Thumbs_Down_new,3\\n',\n",
       "       'WIN_20180925_17_23_34_Pro_Right_Swipe_new,Right_Swipe_new,1\\n',\n",
       "       'WIN_20180907_16_15_44_Pro_Thumbs Down_new,Thumbs Down_new,3\\n',\n",
       "       'WIN_20180926_17_05_38_Pro_Thumbs_Up_new,Thumbs_Up_new,4\\n',\n",
       "       'WIN_20180925_18_15_50_Pro_Thumbs_Down_new,Thumbs_Down_new,3\\n',\n",
       "       'WIN_20180926_17_39_05_Pro_Stop_new,Stop_new,2\\n',\n",
       "       'WIN_20180907_15_35_09_Pro_Right Swipe_new,Right Swipe_new,1\\n',\n",
       "       'WIN_20180925_17_22_32_Pro_Right_Swipe_new,Right_Swipe_new,1\\n',\n",
       "       'WIN_20180926_16_49_23_Pro_Thumbs_Up_new,Thumbs_Up_new,4\\n',\n",
       "       'WIN_20180926_16_59_27_Pro_Thumbs_Up_new,Thumbs_Up_new,4\\n',\n",
       "       'WIN_20180926_16_46_07_Pro_Right_Swipe_new,Right_Swipe_new,1\\n',\n",
       "       'WIN_20180907_15_53_12_Pro_Thumbs Up_new,Thumbs Up_new,4\\n',\n",
       "       'WIN_20180925_18_01_05_Pro_Right_Swipe_new,Right_Swipe_new,1\\n',\n",
       "       'WIN_20180925_18_04_13_Pro_Thumbs_Down_new,Thumbs_Down_new,3\\n',\n",
       "       'WIN_20180907_15_56_26_Pro_Thumbs Up_new,Thumbs Up_new,4\\n',\n",
       "       'WIN_20180926_17_45_23_Pro_Thumbs_Down_new,Thumbs_Down_new,3\\n',\n",
       "       'WIN_20180926_17_32_42_Pro_Thumbs_Up_new,Thumbs_Up_new,4\\n',\n",
       "       'WIN_20180907_16_37_22_Pro_Thumbs Up_new,Thumbs Up_new,4\\n',\n",
       "       'WIN_20180926_17_11_41_Pro_Left_Swipe_new,Left_Swipe_new,0\\n',\n",
       "       'WIN_20180925_17_51_52_Pro_Right_Swipe_new,Right_Swipe_new,1\\n',\n",
       "       'WIN_20180926_17_03_37_Pro_Thumbs_Down_new,Thumbs_Down_new,3\\n',\n",
       "       'WIN_20180907_16_35_18_Pro_Thumbs Up_new,Thumbs Up_new,4\\n',\n",
       "       'WIN_20180926_17_11_36_Pro_Thumbs_Down_new,Thumbs_Down_new,3\\n',\n",
       "       'WIN_20180925_17_19_19_Pro_Right_Swipe_new,Right_Swipe_new,1\\n',\n",
       "       'WIN_20180926_17_07_29_Pro_Stop_new,Stop_new,2\\n',\n",
       "       'WIN_20180925_17_18_56_Pro_Left_Swipe_new,Left_Swipe_new,0\\n',\n",
       "       'WIN_20180907_15_55_27_Pro_Thumbs Down_new,Thumbs Down_new,3\\n',\n",
       "       'WIN_20180925_17_52_20_Pro_Left_Swipe_new,Left_Swipe_new,0\\n',\n",
       "       'WIN_20180907_16_02_07_Pro_Stop Gesture_new,Stop Gesture_new,2\\n',\n",
       "       'WIN_20180926_16_57_34_Pro_Left_Swipe_new,Left_Swipe_new,0\\n',\n",
       "       'WIN_20180926_17_25_32_Pro_Left_Swipe_new,Left_Swipe_new,0\\n',\n",
       "       'WIN_20180907_15_40_26_Pro_Thumbs Down_new,Thumbs Down_new,3\\n',\n",
       "       'WIN_20180925_17_18_28_Pro_Left_Swipe_new,Left_Swipe_new,0\\n',\n",
       "       'WIN_20180926_17_06_01_Pro_Stop_new,Stop_new,2\\n',\n",
       "       'WIN_20180907_16_07_43_Pro_Right Swipe_new,Right Swipe_new,1\\n',\n",
       "       'WIN_20180907_16_32_11_Pro_Stop Gesture_new,Stop Gesture_new,2\\n',\n",
       "       'WIN_20180926_17_27_29_Pro_Stop_new,Stop_new,2\\n',\n",
       "       'WIN_20180926_17_37_45_Pro_Left_Swipe_new,Left_Swipe_new,0\\n',\n",
       "       'WIN_20180926_17_39_25_Pro_Thumbs_Up_new,Thumbs_Up_new,4\\n',\n",
       "       'WIN_20180907_16_25_22_Pro_Thumbs Down_new,Thumbs Down_new,3\\n',\n",
       "       'WIN_20180926_17_00_22_Pro_Stop_new,Stop_new,2\\n',\n",
       "       'WIN_20180926_17_20_19_Pro_Left_Swipe_new,Left_Swipe_new,0\\n',\n",
       "       'WIN_20180907_16_33_59_Pro_Right Swipe_new,Right Swipe_new,1\\n',\n",
       "       'WIN_20180925_17_28_57_Pro_Right_Swipe_new,Right_Swipe_new,1\\n',\n",
       "       'WIN_20180907_16_06_32_Pro_Thumbs Up_new,Thumbs Up_new,4\\n',\n",
       "       'WIN_20180907_15_45_30_Pro_Thumbs Up_new,Thumbs Up_new,4\\n',\n",
       "       'WIN_20180907_16_04_16_Pro_Thumbs Up_new,Thumbs Up_new,4\\n',\n",
       "       'WIN_20180926_16_44_06_Pro_Left_Swipe_new,Left_Swipe_new,0\\n',\n",
       "       'WIN_20180926_16_51_55_Pro_Left_Swipe_new,Left_Swipe_new,0\\n',\n",
       "       'WIN_20180907_16_28_20_Pro_Thumbs Up_new,Thumbs Up_new,4\\n',\n",
       "       'WIN_20180907_15_44_32_Pro_Thumbs Down_new,Thumbs Down_new,3\\n',\n",
       "       'WIN_20180907_15_46_25_Pro_Stop Gesture_new,Stop Gesture_new,2\\n',\n",
       "       'WIN_20180926_17_30_47_Pro_Thumbs_Up_new,Thumbs_Up_new,4\\n',\n",
       "       'WIN_20180926_17_39_18_Pro_Thumbs_Down_new,Thumbs_Down_new,3\\n',\n",
       "       'WIN_20180925_17_26_25_Pro_Left_Swipe_new,Left_Swipe_new,0\\n',\n",
       "       'WIN_20180907_15_50_05_Pro_Left Swipe_new_Left Swipe_new,Left Swipe_new_Left Swipe_new,0\\n',\n",
       "       'WIN_20180926_17_13_59_Pro_Thumbs_Down_new,Thumbs_Down_new,3\\n',\n",
       "       'WIN_20180925_17_18_07_Pro_Thumbs_Up_new,Thumbs_Up_new,4\\n',\n",
       "       'WIN_20180926_17_12_37_Pro_Left_Swipe_new,Left_Swipe_new,0\\n',\n",
       "       'WIN_20180925_17_30_21_Pro_Right_Swipe_new,Right_Swipe_new,1\\n',\n",
       "       'WIN_20180926_17_22_53_Pro_Thumbs_Up_new,Thumbs_Up_new,4\\n',\n",
       "       'WIN_20180926_17_17_18_Pro_Thumbs_Down_new,Thumbs_Down_new,3\\n',\n",
       "       'WIN_20180926_18_04_06_Pro_Thumbs_Down_new,Thumbs_Down_new,3\\n',\n",
       "       'WIN_20180907_15_52_28_Pro_Left Swipe_new_Left Swipe_new,Left Swipe_new_Left Swipe_new,0\\n',\n",
       "       'WIN_20180926_17_29_54_Pro_Thumbs_Down_new,Thumbs_Down_new,3\\n',\n",
       "       'WIN_20180926_16_42_15_Pro_Thumbs_Up_new,Thumbs_Up_new,4\\n',\n",
       "       'WIN_20180926_17_38_09_Pro_Left_Swipe_new,Left_Swipe_new,0\\n',\n",
       "       'WIN_20180925_17_48_42_Pro_Thumbs_Up_new,Thumbs_Up_new,4\\n',\n",
       "       'WIN_20180926_17_14_32_Pro_Left_Swipe_new,Left_Swipe_new,0\\n',\n",
       "       'WIN_20180926_17_49_29_Pro_Stop_new,Stop_new,2\\n',\n",
       "       'WIN_20180926_17_13_29_Pro_Thumbs_Up_new,Thumbs_Up_new,4\\n',\n",
       "       'WIN_20180925_18_02_52_Pro_Stop_new,Stop_new,2\\n',\n",
       "       'WIN_20180907_16_35_35_Pro_Left Swipe_new_Left Swipe_new,Left Swipe_new_Left Swipe_new,0\\n',\n",
       "       'WIN_20180926_17_29_01_Pro_Stop_new,Stop_new,2\\n',\n",
       "       'WIN_20180926_17_40_11_Pro_Stop_new,Stop_new,2\\n',\n",
       "       'WIN_20180926_17_20_47_Pro_Thumbs_Up_new,Thumbs_Up_new,4\\n',\n",
       "       'WIN_20180907_16_33_15_Pro_Left Swipe_new_Left Swipe_new,Left Swipe_new_Left Swipe_new,0\\n',\n",
       "       'WIN_20180907_15_43_58_Pro_Left Swipe_new_Left Swipe_new,Left Swipe_new_Left Swipe_new,0\\n',\n",
       "       'WIN_20180926_17_21_24_Pro_Thumbs_Down_new,Thumbs_Down_new,3\\n',\n",
       "       'WIN_20180925_18_12_58_Pro_Right_Swipe_new,Right_Swipe_new,1\\n',\n",
       "       'WIN_20180907_16_01_35_Pro_Thumbs Down_new,Thumbs Down_new,3\\n',\n",
       "       'WIN_20180925_17_55_57_Pro_Left_Swipe_new,Left_Swipe_new,0\\n',\n",
       "       'WIN_20180907_16_30_13_Pro_Right Swipe_new,Right Swipe_new,1\\n',\n",
       "       'WIN_20180926_17_07_09_Pro_Left_Swipe_new,Left_Swipe_new,0\\n',\n",
       "       'WIN_20180926_16_49_59_Pro_Thumbs_Up_new,Thumbs_Up_new,4\\n',\n",
       "       'WIN_20180926_17_16_20_Pro_Thumbs_Down_new,Thumbs_Down_new,3\\n',\n",
       "       'WIN_20180926_18_05_38_Pro_Right_Swipe_new,Right_Swipe_new,1\\n',\n",
       "       'WIN_20180926_17_02_35_Pro_Right_Swipe_new,Right_Swipe_new,1\\n',\n",
       "       'WIN_20180926_16_38_18_Pro_Thumbs_Down_new,Thumbs_Down_new,3\\n',\n",
       "       'WIN_20180925_17_39_48_Pro_Thumbs_Down_new,Thumbs_Down_new,3\\n',\n",
       "       'WIN_20180926_16_52_38_Pro_Left_Swipe_new,Left_Swipe_new,0\\n',\n",
       "       'WIN_20180907_15_56_38_Pro_Right Swipe_new,Right Swipe_new,1\\n',\n",
       "       'WIN_20180907_15_48_25_Pro_Thumbs Down_new,Thumbs Down_new,3\\n',\n",
       "       'WIN_20180926_16_56_54_Pro_Stop_new,Stop_new,2\\n',\n",
       "       'WIN_20180926_17_30_54_Pro_Right_Swipe_new,Right_Swipe_new,1\\n',\n",
       "       'WIN_20180925_17_34_40_Pro_Right_Swipe_new,Right_Swipe_new,1\\n',\n",
       "       'WIN_20180925_17_56_11_Pro_Thumbs_Up_new,Thumbs_Up_new,4\\n',\n",
       "       'WIN_20180926_17_56_27_Pro_Right_Swipe_new,Right_Swipe_new,1\\n',\n",
       "       'WIN_20180907_16_49_05_Pro_Left Swipe_new_Left Swipe_new,Left Swipe_new_Left Swipe_new,0\\n',\n",
       "       'WIN_20180926_16_49_40_Pro_Stop_new,Stop_new,2\\n',\n",
       "       'WIN_20180907_16_04_51_Pro_Left Swipe_new_Left Swipe_new,Left Swipe_new_Left Swipe_new,0\\n',\n",
       "       'WIN_20180907_16_02_30_Pro_Thumbs Up_new,Thumbs Up_new,4\\n',\n",
       "       'WIN_20180926_17_48_06_Pro_Thumbs_Down_new,Thumbs_Down_new,3\\n',\n",
       "       'WIN_20180925_18_00_08_Pro_Stop_new,Stop_new,2\\n',\n",
       "       'WIN_20180926_16_49_15_Pro_Left_Swipe_new,Left_Swipe_new,0\\n',\n",
       "       'WIN_20180926_16_41_01_Pro_Thumbs_Up_new,Thumbs_Up_new,4\\n',\n",
       "       'WIN_20180925_17_21_28_Pro_Left_Swipe_new,Left_Swipe_new,0\\n',\n",
       "       'WIN_20180907_16_14_58_Pro_Left Swipe_new_Left Swipe_new,Left Swipe_new_Left Swipe_new,0\\n',\n",
       "       'WIN_20180925_17_38_16_Pro_Stop_new,Stop_new,2\\n',\n",
       "       'WIN_20180926_17_16_17_Pro_Thumbs_Up_new,Thumbs_Up_new,4\\n',\n",
       "       'WIN_20180926_17_33_08_Pro_Thumbs_Down_new,Thumbs_Down_new,3\\n',\n",
       "       'WIN_20180907_16_36_14_Pro_Thumbs Up_new,Thumbs Up_new,4\\n',\n",
       "       'WIN_20180925_18_01_57_Pro_Left_Swipe_new,Left_Swipe_new,0\\n',\n",
       "       'WIN_20180925_17_31_26_Pro_Thumbs_Up_new,Thumbs_Up_new,4\\n',\n",
       "       'WIN_20180926_17_18_02_Pro_Thumbs_Up_new,Thumbs_Up_new,4\\n',\n",
       "       'WIN_20180926_17_06_07_Pro_Thumbs_Up_new,Thumbs_Up_new,4\\n',\n",
       "       'WIN_20180926_17_44_30_Pro_Thumbs_Down_new,Thumbs_Down_new,3\\n',\n",
       "       'WIN_20180925_17_35_24_Pro_Right_Swipe_new,Right_Swipe_new,1\\n',\n",
       "       'WIN_20180907_15_38_24_Pro_Right Swipe_new,Right Swipe_new,1\\n',\n",
       "       'WIN_20180926_16_55_17_Pro_Thumbs_Down_new,Thumbs_Down_new,3\\n',\n",
       "       'WIN_20180926_16_54_53_Pro_Thumbs_Down_new,Thumbs_Down_new,3\\n',\n",
       "       'WIN_20180925_17_45_31_Pro_Stop_new,Stop_new,2\\n',\n",
       "       'WIN_20180925_17_37_54_Pro_Thumbs_Down_new,Thumbs_Down_new,3\\n',\n",
       "       'WIN_20180926_17_03_21_Pro_Left_Swipe_new,Left_Swipe_new,0\\n',\n",
       "       'WIN_20180925_17_30_26_Pro_Thumbs_Up_new,Thumbs_Up_new,4\\n',\n",
       "       'WIN_20180925_17_49_45_Pro_Right_Swipe_new,Right_Swipe_new,1\\n',\n",
       "       'WIN_20180926_17_43_30_Pro_Left_Swipe_new,Left_Swipe_new,0\\n',\n",
       "       'WIN_20180926_17_29_33_Pro_Left_Swipe_new,Left_Swipe_new,0\\n',\n",
       "       'WIN_20180926_16_50_27_Pro_Thumbs_Up_new,Thumbs_Up_new,4\\n',\n",
       "       'WIN_20180926_17_26_13_Pro_Left_Swipe_new,Left_Swipe_new,0\\n',\n",
       "       'WIN_20180926_17_21_49_Pro_Stop_new,Stop_new,2\\n',\n",
       "       'WIN_20180925_17_20_14_Pro_Left_Swipe_new,Left_Swipe_new,0\\n',\n",
       "       'WIN_20180926_17_04_21_Pro_Thumbs_Up_new,Thumbs_Up_new,4\\n',\n",
       "       'WIN_20180926_16_35_06_Pro_Thumbs_Down_new,Thumbs_Down_new,3\\n',\n",
       "       'WIN_20180907_16_18_59_Pro_Stop Gesture_new,Stop Gesture_new,2\\n',\n",
       "       'WIN_20180907_16_29_13_Pro_Stop Gesture_new,Stop Gesture_new,2\\n',\n",
       "       'WIN_20180907_16_33_33_Pro_Thumbs Down_new,Thumbs Down_new,3\\n',\n",
       "       'WIN_20180926_17_22_54_Pro_Stop_new,Stop_new,2\\n',\n",
       "       'WIN_20180925_18_16_56_Pro_Thumbs_Down_new,Thumbs_Down_new,3\\n',\n",
       "       'WIN_20180925_17_40_22_Pro_Thumbs_Down_new,Thumbs_Down_new,3\\n',\n",
       "       'WIN_20180926_16_47_00_Pro_Right_Swipe_new,Right_Swipe_new,1\\n',\n",
       "       'WIN_20180926_17_51_06_Pro_Stop_new,Stop_new,2\\n',\n",
       "       'WIN_20180907_16_25_05_Pro_Stop Gesture_new,Stop Gesture_new,2\\n',\n",
       "       'WIN_20180907_15_38_17_Pro_Left Swipe_new_Left Swipe_new,Left Swipe_new_Left Swipe_new,0\\n',\n",
       "       'WIN_20180907_16_27_05_Pro_Right Swipe_new,Right Swipe_new,1\\n',\n",
       "       'WIN_20180907_16_33_26_Pro_Thumbs Up_new,Thumbs Up_new,4\\n',\n",
       "       'WIN_20180925_18_23_57_Pro_Thumbs_Down_new,Thumbs_Down_new,3\\n',\n",
       "       'WIN_20180907_16_12_16_Pro_Thumbs Down_new,Thumbs Down_new,3\\n',\n",
       "       'WIN_20180925_17_52_46_Pro_Right_Swipe_new,Right_Swipe_new,1\\n',\n",
       "       'WIN_20180926_17_30_14_Pro_Left_Swipe_new,Left_Swipe_new,0\\n',\n",
       "       'WIN_20180925_17_44_12_Pro_Thumbs_Up_new,Thumbs_Up_new,4\\n',\n",
       "       'WIN_20180926_17_23_26_Pro_Stop_new,Stop_new,2\\n',\n",
       "       'WIN_20180925_17_51_23_Pro_Thumbs_Down_new,Thumbs_Down_new,3\\n',\n",
       "       'WIN_20180926_17_40_55_Pro_Thumbs_Down_new,Thumbs_Down_new,3\\n',\n",
       "       'WIN_20180907_15_39_54_Pro_Thumbs Up_new,Thumbs Up_new,4\\n',\n",
       "       'WIN_20180926_16_57_19_Pro_Right_Swipe_new,Right_Swipe_new,1\\n',\n",
       "       'WIN_20180926_17_27_40_Pro_Left_Swipe_new,Left_Swipe_new,0\\n',\n",
       "       'WIN_20180926_17_24_54_Pro_Thumbs_Down_new,Thumbs_Down_new,3\\n',\n",
       "       'WIN_20180926_17_27_34_Pro_Thumbs_Down_new,Thumbs_Down_new,3\\n',\n",
       "       'WIN_20180926_17_42_43_Pro_Right_Swipe_new,Right_Swipe_new,1\\n',\n",
       "       'WIN_20180926_17_05_54_Pro_Right_Swipe_new,Right_Swipe_new,1\\n',\n",
       "       'WIN_20180925_18_02_58_Pro_Thumbs_Down_new,Thumbs_Down_new,3\\n',\n",
       "       'WIN_20180926_17_36_08_Pro_Thumbs_Down_new,Thumbs_Down_new,3\\n',\n",
       "       'WIN_20180925_17_37_21_Pro_Right_Swipe_new,Right_Swipe_new,1\\n',\n",
       "       'WIN_20180925_17_20_16_Pro_Thumbs_Up_new,Thumbs_Up_new,4\\n',\n",
       "       'WIN_20180925_17_32_14_Pro_Right_Swipe_new,Right_Swipe_new,1\\n',\n",
       "       'WIN_20180925_17_37_17_Pro_Thumbs_Up_new,Thumbs_Up_new,4\\n',\n",
       "       'WIN_20180925_17_46_09_Pro_Right_Swipe_new,Right_Swipe_new,1\\n',\n",
       "       'WIN_20180926_17_40_35_Pro_Left_Swipe_new,Left_Swipe_new,0\\n',\n",
       "       'WIN_20180926_17_29_37_Pro_Thumbs_Up_new,Thumbs_Up_new,4\\n',\n",
       "       'WIN_20180926_16_40_01_Pro_Thumbs_Up_new,Thumbs_Up_new,4\\n',\n",
       "       'WIN_20180925_17_26_58_Pro_Right_Swipe_new,Right_Swipe_new,1\\n',\n",
       "       'WIN_20180925_17_46_20_Pro_Left_Swipe_new,Left_Swipe_new,0\\n',\n",
       "       'WIN_20180926_17_13_01_Pro_Thumbs_Up_new,Thumbs_Up_new,4\\n',\n",
       "       'WIN_20180926_17_03_21_Pro_Stop_new,Stop_new,2\\n',\n",
       "       'WIN_20180907_15_56_12_Pro_Thumbs Down_new,Thumbs Down_new,3\\n',\n",
       "       'WIN_20180907_15_49_02_Pro_Left Swipe_new_Left Swipe_new,Left Swipe_new_Left Swipe_new,0\\n',\n",
       "       'WIN_20180925_17_41_54_Pro_Thumbs_Up_new,Thumbs_Up_new,4\\n',\n",
       "       'WIN_20180925_18_08_31_Pro_Thumbs_Down_new,Thumbs_Down_new,3\\n',\n",
       "       'WIN_20180907_16_30_30_Pro_Thumbs Up_new,Thumbs Up_new,4\\n',\n",
       "       'WIN_20180926_17_41_29_Pro_Right_Swipe_new,Right_Swipe_new,1\\n',\n",
       "       'WIN_20180926_17_24_58_Pro_Right_Swipe_new,Right_Swipe_new,1\\n',\n",
       "       'WIN_20180907_16_04_14_Pro_Left Swipe_new_Left Swipe_new,Left Swipe_new_Left Swipe_new,0\\n',\n",
       "       'WIN_20180925_18_05_04_Pro_Thumbs_Down_new,Thumbs_Down_new,3\\n',\n",
       "       'WIN_20180926_17_50_56_Pro_Stop_new,Stop_new,2\\n',\n",
       "       'WIN_20180925_17_28_04_Pro_Right_Swipe_new,Right_Swipe_new,1\\n',\n",
       "       'WIN_20180907_16_22_27_Pro_Thumbs Down_new,Thumbs Down_new,3\\n',\n",
       "       'WIN_20180926_16_45_15_Pro_Left_Swipe_new,Left_Swipe_new,0\\n',\n",
       "       'WIN_20180925_17_50_04_Pro_Thumbs_Up_new,Thumbs_Up_new,4\\n',\n",
       "       'WIN_20180907_15_48_01_Pro_Stop Gesture_new,Stop Gesture_new,2\\n',\n",
       "       'WIN_20180907_15_59_12_Pro_Stop Gesture_new,Stop Gesture_new,2\\n',\n",
       "       'WIN_20180926_17_23_23_Pro_Right_Swipe_new,Right_Swipe_new,1\\n',\n",
       "       'WIN_20180926_17_23_43_Pro_Thumbs_Up_new,Thumbs_Up_new,4\\n',\n",
       "       'WIN_20180907_16_00_54_Pro_Right Swipe_new,Right Swipe_new,1\\n',\n",
       "       'WIN_20180907_16_24_28_Pro_Stop Gesture_new,Stop Gesture_new,2\\n',\n",
       "       'WIN_20180926_17_35_54_Pro_Thumbs_Up_new,Thumbs_Up_new,4\\n',\n",
       "       'WIN_20180907_15_49_59_Pro_Thumbs Up_new,Thumbs Up_new,4\\n',\n",
       "       'WIN_20180926_16_37_46_Pro_Stop_new,Stop_new,2\\n',\n",
       "       'WIN_20180907_16_05_08_Pro_Stop Gesture_new,Stop Gesture_new,2\\n',\n",
       "       'WIN_20180926_17_06_30_Pro_Thumbs_Down_new,Thumbs_Down_new,3\\n',\n",
       "       'WIN_20180907_16_40_19_Pro_Left Swipe_new_Left Swipe_new,Left Swipe_new_Left Swipe_new,0\\n',\n",
       "       'WIN_20180926_17_42_11_Pro_Thumbs_Down_new,Thumbs_Down_new,3\\n',\n",
       "       'WIN_20180926_16_44_37_Pro_Left_Swipe_new,Left_Swipe_new,0\\n',\n",
       "       'WIN_20180907_15_52_03_Pro_Stop Gesture_new,Stop Gesture_new,2\\n',\n",
       "       'WIN_20180907_15_57_35_Pro_Thumbs Up_new,Thumbs Up_new,4\\n',\n",
       "       'WIN_20180907_16_21_23_Pro_Right Swipe_new,Right Swipe_new,1\\n',\n",
       "       'WIN_20180907_16_42_19_Pro_Left Swipe_new_Left Swipe_new,Left Swipe_new_Left Swipe_new,0\\n',\n",
       "       'WIN_20180907_16_11_36_Pro_Right Swipe_new,Right Swipe_new,1\\n',\n",
       "       'WIN_20180925_17_57_52_Pro_Thumbs_Down_new,Thumbs_Down_new,3\\n',\n",
       "       'WIN_20180907_16_17_11_Pro_Left Swipe_new_Left Swipe_new,Left Swipe_new_Left Swipe_new,0\\n',\n",
       "       'WIN_20180926_16_38_09_Pro_Thumbs_Up_new,Thumbs_Up_new,4\\n',\n",
       "       'WIN_20180925_18_05_57_Pro_Right_Swipe_new,Right_Swipe_new,1\\n',\n",
       "       'WIN_20180925_17_19_16_Pro_Thumbs_Up_new,Thumbs_Up_new,4\\n',\n",
       "       'WIN_20180907_16_19_31_Pro_Right Swipe_new,Right Swipe_new,1\\n',\n",
       "       'WIN_20180907_16_24_14_Pro_Thumbs Up_new,Thumbs Up_new,4\\n',\n",
       "       'WIN_20180925_17_43_11_Pro_Thumbs_Up_new,Thumbs_Up_new,4\\n',\n",
       "       'WIN_20180926_17_05_27_Pro_Left_Swipe_new,Left_Swipe_new,0\\n',\n",
       "       'WIN_20180925_17_37_08_Pro_Left_Swipe_new,Left_Swipe_new,0\\n',\n",
       "       'WIN_20180926_17_20_43_Pro_Left_Swipe_new,Left_Swipe_new,0\\n',\n",
       "       'WIN_20180907_16_41_09_Pro_Thumbs Up_new,Thumbs Up_new,4\\n',\n",
       "       'WIN_20180925_18_02_41_Pro_Right_Swipe_new,Right_Swipe_new,1\\n',\n",
       "       'WIN_20180925_17_20_55_Pro_Right_Swipe_new,Right_Swipe_new,1\\n',\n",
       "       'WIN_20180926_17_11_24_Pro_Right_Swipe_new,Right_Swipe_new,1\\n',\n",
       "       'WIN_20180926_16_49_22_Pro_Thumbs_Down_new,Thumbs_Down_new,3\\n',\n",
       "       'WIN_20180926_17_42_17_Pro_Thumbs_Up_new,Thumbs_Up_new,4\\n',\n",
       "       'WIN_20180907_16_39_19_Pro_Left Swipe_new_Left Swipe_new,Left Swipe_new_Left Swipe_new,0\\n',\n",
       "       'WIN_20180926_17_03_38_Pro_Thumbs_Up_new,Thumbs_Up_new,4\\n',\n",
       "       'WIN_20180925_18_26_40_Pro_Thumbs_Down_new,Thumbs_Down_new,3\\n',\n",
       "       'WIN_20180925_17_40_41_Pro_Left_Swipe_new,Left_Swipe_new,0\\n',\n",
       "       'WIN_20180926_16_48_35_Pro_Thumbs_Down_new,Thumbs_Down_new,3\\n',\n",
       "       'WIN_20180926_17_28_09_Pro_Thumbs_Down_new,Thumbs_Down_new,3\\n',\n",
       "       'WIN_20180926_16_55_41_Pro_Left_Swipe_new,Left_Swipe_new,0\\n',\n",
       "       'WIN_20180925_17_46_49_Pro_Left_Swipe_new,Left_Swipe_new,0\\n',\n",
       "       'WIN_20180926_16_50_32_Pro_Stop_new,Stop_new,2\\n',\n",
       "       'WIN_20180925_17_51_29_Pro_Stop_new,Stop_new,2\\n',\n",
       "       'WIN_20180907_16_25_19_Pro_Right Swipe_new,Right Swipe_new,1\\n',\n",
       "       'WIN_20180926_17_19_13_Pro_Stop_new,Stop_new,2\\n',\n",
       "       'WIN_20180907_15_39_51_Pro_Stop Gesture_new,Stop Gesture_new,2\\n',\n",
       "       'WIN_20180926_17_19_50_Pro_Thumbs_Down_new,Thumbs_Down_new,3\\n',\n",
       "       'WIN_20180926_17_42_05_Pro_Thumbs_Down_new,Thumbs_Down_new,3\\n',\n",
       "       'WIN_20180926_16_49_52_Pro_Left_Swipe_new,Left_Swipe_new,0\\n',\n",
       "       'WIN_20180926_16_59_12_Pro_Stop_new,Stop_new,2\\n',\n",
       "       'WIN_20180926_17_05_08_Pro_Left_Swipe_new,Left_Swipe_new,0\\n',\n",
       "       'WIN_20180926_17_13_07_Pro_Left_Swipe_new,Left_Swipe_new,0\\n',\n",
       "       'WIN_20180926_17_11_11_Pro_Left_Swipe_new,Left_Swipe_new,0\\n',\n",
       "       'WIN_20180907_16_40_59_Pro_Left Swipe_new_Left Swipe_new,Left Swipe_new_Left Swipe_new,0\\n',\n",
       "       'WIN_20180925_17_51_49_Pro_Left_Swipe_new,Left_Swipe_new,0\\n',\n",
       "       'WIN_20180907_16_43_19_Pro_Thumbs Down_new,Thumbs Down_new,3\\n',\n",
       "       'WIN_20180926_17_21_29_Pro_Stop_new,Stop_new,2\\n',\n",
       "       'WIN_20180907_16_37_37_Pro_Left Swipe_new_Left Swipe_new,Left Swipe_new_Left Swipe_new,0\\n',\n",
       "       'WIN_20180926_17_31_23_Pro_Stop_new,Stop_new,2\\n',\n",
       "       'WIN_20180925_18_00_23_Pro_Right_Swipe_new,Right_Swipe_new,1\\n',\n",
       "       'WIN_20180925_17_41_24_Pro_Thumbs_Up_new,Thumbs_Up_new,4\\n',\n",
       "       'WIN_20180926_16_55_47_Pro_Right_Swipe_new,Right_Swipe_new,1\\n',\n",
       "       'WIN_20180925_17_47_40_Pro_Thumbs_Down_new,Thumbs_Down_new,3\\n',\n",
       "       'WIN_20180907_16_28_49_Pro_Right Swipe_new,Right Swipe_new,1\\n',\n",
       "       'WIN_20180926_18_09_50_Pro_Right_Swipe_new,Right_Swipe_new,1\\n',\n",
       "       'WIN_20180925_17_50_43_Pro_Stop_new,Stop_new,2\\n',\n",
       "       'WIN_20180926_17_12_29_Pro_Thumbs_Down_new,Thumbs_Down_new,3\\n',\n",
       "       'WIN_20180907_15_44_36_Pro_Right Swipe_new,Right Swipe_new,1\\n',\n",
       "       'WIN_20180907_15_53_18_Pro_Right Swipe_new,Right Swipe_new,1\\n',\n",
       "       'WIN_20180907_16_18_18_Pro_Right Swipe_new,Right Swipe_new,1\\n',\n",
       "       'WIN_20180926_17_31_45_Pro_Thumbs_Up_new,Thumbs_Up_new,4\\n',\n",
       "       'WIN_20180907_15_47_19_Pro_Thumbs Up_new,Thumbs Up_new,4\\n',\n",
       "       'WIN_20180926_17_26_41_Pro_Right_Swipe_new,Right_Swipe_new,1\\n',\n",
       "       'WIN_20180926_17_36_31_Pro_Thumbs_Down_new,Thumbs_Down_new,3\\n',\n",
       "       'WIN_20180926_16_55_03_Pro_Stop_new,Stop_new,2\\n',\n",
       "       'WIN_20180926_17_13_44_Pro_Stop_new,Stop_new,2\\n',\n",
       "       'WIN_20180907_16_43_39_Pro_Thumbs Up_new,Thumbs Up_new,4',\n",
       "       'WIN_20180925_17_56_48_Pro_Stop_new,Stop_new,2\\n',\n",
       "       'WIN_20180925_17_46_48_Pro_Right_Swipe_new,Right_Swipe_new,1\\n',\n",
       "       'WIN_20180925_17_51_17_Pro_Thumbs_Up_new,Thumbs_Up_new,4\\n',\n",
       "       'WIN_20180925_17_58_21_Pro_Right_Swipe_new,Right_Swipe_new,1\\n',\n",
       "       'WIN_20180907_16_35_51_Pro_Right Swipe_new,Right Swipe_new,1\\n',\n",
       "       'WIN_20180925_18_05_30_Pro_Thumbs_Up_new,Thumbs_Up_new,4\\n',\n",
       "       'WIN_20180926_16_56_13_Pro_Thumbs_Up_new,Thumbs_Up_new,4\\n',\n",
       "       'WIN_20180926_16_56_12_Pro_Stop_new,Stop_new,2\\n',\n",
       "       'WIN_20180926_16_41_27_Pro_Right_Swipe_new,Right_Swipe_new,1\\n',\n",
       "       'WIN_20180925_17_31_48_Pro_Stop_new,Stop_new,2\\n',\n",
       "       'WIN_20180926_17_17_35_Pro_Left_Swipe_new,Left_Swipe_new,0\\n',\n",
       "       'WIN_20180925_17_38_50_Pro_Stop_new,Stop_new,2\\n',\n",
       "       'WIN_20180907_16_23_55_Pro_Right Swipe_new,Right Swipe_new,1\\n',\n",
       "       'WIN_20180926_16_52_54_Pro_Thumbs_Down_new,Thumbs_Down_new,3\\n',\n",
       "       'WIN_20180907_16_08_46_Pro_Thumbs Down_new,Thumbs Down_new,3\\n',\n",
       "       'WIN_20180907_16_29_23_Pro_Left Swipe_new_Left Swipe_new,Left Swipe_new_Left Swipe_new,0\\n',\n",
       "       'WIN_20180925_17_46_39_Pro_Left_Swipe_new,Left_Swipe_new,0\\n',\n",
       "       'WIN_20180926_16_51_21_Pro_Thumbs_Down_new,Thumbs_Down_new,3\\n',\n",
       "       'WIN_20180907_16_18_43_Pro_Thumbs Up_new,Thumbs Up_new,4\\n',\n",
       "       'WIN_20180925_17_28_28_Pro_Thumbs_Up_new,Thumbs_Up_new,4\\n',\n",
       "       'WIN_20180925_17_57_22_Pro_Stop_new,Stop_new,2\\n',\n",
       "       'WIN_20180926_17_06_12_Pro_Left_Swipe_new,Left_Swipe_new,0\\n',\n",
       "       'WIN_20180926_17_18_39_Pro_Thumbs_Down_new,Thumbs_Down_new,3\\n',\n",
       "       'WIN_20180926_17_24_18_Pro_Left_Swipe_new,Left_Swipe_new,0\\n',\n",
       "       'WIN_20180907_15_50_33_Pro_Left Swipe_new_Left Swipe_new,Left Swipe_new_Left Swipe_new,0\\n',\n",
       "       'WIN_20180907_16_06_43_Pro_Stop Gesture_new,Stop Gesture_new,2\\n',\n",
       "       'WIN_20180926_17_07_57_Pro_Thumbs_Up_new,Thumbs_Up_new,4\\n',\n",
       "       'WIN_20180926_16_50_28_Pro_Right_Swipe_new,Right_Swipe_new,1\\n',\n",
       "       'WIN_20180925_17_51_26_Pro_Left_Swipe_new,Left_Swipe_new,0\\n',\n",
       "       'WIN_20180925_17_42_57_Pro_Stop_new,Stop_new,2\\n',\n",
       "       'WIN_20180907_15_43_40_Pro_Stop Gesture_new,Stop Gesture_new,2\\n',\n",
       "       'WIN_20180926_16_39_58_Pro_Thumbs_Down_new,Thumbs_Down_new,3\\n',\n",
       "       'WIN_20180907_15_59_44_Pro_Right Swipe_new,Right Swipe_new,1\\n',\n",
       "       'WIN_20180926_17_20_04_Pro_Right_Swipe_new,Right_Swipe_new,1\\n',\n",
       "       'WIN_20180907_16_17_00_Pro_Right Swipe_new,Right Swipe_new,1\\n',\n",
       "       'WIN_20180926_17_44_20_Pro_Right_Swipe_new,Right_Swipe_new,1\\n',\n",
       "       'WIN_20180926_17_36_34_Pro_Right_Swipe_new,Right_Swipe_new,1\\n',\n",
       "       'WIN_20180907_15_40_55_Pro_Thumbs Up_new,Thumbs Up_new,4\\n',\n",
       "       'WIN_20180907_15_49_56_Pro_Right Swipe_new,Right Swipe_new,1\\n'],\n",
       "      dtype='<U88')"
      ]
     },
     "execution_count": 5,
     "metadata": {},
     "output_type": "execute_result"
    }
   ],
   "source": [
    "train_doc"
   ]
  },
  {
   "cell_type": "code",
   "execution_count": 6,
   "metadata": {},
   "outputs": [
    {
     "data": {
      "text/plain": [
       "array(['WIN_20180925_17_46_05_Pro_Stop_new,Stop_new,2\\n',\n",
       "       'WIN_20180907_16_14_43_Pro_Thumbs Down_new,Thumbs Down_new,3\\n',\n",
       "       'WIN_20180907_16_07_50_Pro_Thumbs Down_new,Thumbs Down_new,3\\n',\n",
       "       'WIN_20180907_16_28_15_Pro_Stop Gesture_new,Stop Gesture_new,2\\n',\n",
       "       'WIN_20180907_16_41_13_Pro_Thumbs Down_new,Thumbs Down_new,3\\n',\n",
       "       'WIN_20180926_16_40_38_Pro_Right_Swipe_new,Right_Swipe_new,1\\n',\n",
       "       'WIN_20180926_16_58_27_Pro_Right_Swipe_new,Right_Swipe_new,1\\n',\n",
       "       'WIN_20180925_17_57_58_Pro_Right_Swipe_new,Right_Swipe_new,1\\n',\n",
       "       'WIN_20180907_16_53_36_Pro_Thumbs Down_new,Thumbs Down_new,3\\n',\n",
       "       'WIN_20180907_16_37_03_Pro_Right Swipe_new,Right Swipe_new,1\\n',\n",
       "       'WIN_20180925_17_52_58_Pro_Left_Swipe_new,Left_Swipe_new,0\\n',\n",
       "       'WIN_20180907_16_32_17_Pro_Left Swipe_new_Left Swipe_new,Left Swipe_new_Left Swipe_new,0\\n',\n",
       "       'WIN_20180925_17_49_29_Pro_Left_Swipe_new,Left_Swipe_new,0\\n',\n",
       "       'WIN_20180925_18_06_22_Pro_Left_Swipe_new,Left_Swipe_new,0\\n',\n",
       "       'WIN_20180925_17_48_24_Pro_Left_Swipe_new,Left_Swipe_new,0\\n',\n",
       "       'WIN_20180925_17_42_57_Pro_Right_Swipe_new,Right_Swipe_new,1\\n',\n",
       "       'WIN_20180925_17_24_26_Pro_Right_Swipe_new,Right_Swipe_new,1\\n',\n",
       "       'WIN_20180926_17_32_01_Pro_Thumbs_Down_new,Thumbs_Down_new,3\\n',\n",
       "       'WIN_20180926_17_10_43_Pro_Thumbs_Up_new,Thumbs_Up_new,4\\n',\n",
       "       'WIN_20180926_17_20_41_Pro_Stop_new,Stop_new,2\\n',\n",
       "       'WIN_20180926_17_17_23_Pro_Thumbs_Up_new,Thumbs_Up_new,4\\n',\n",
       "       'WIN_20180925_17_44_57_Pro_Thumbs_Down_new,Thumbs_Down_new,3\\n',\n",
       "       'WIN_20180907_16_03_09_Pro_Thumbs Down_new,Thumbs Down_new,3\\n',\n",
       "       'WIN_20180926_17_11_17_Pro_Stop_new,Stop_new,2\\n',\n",
       "       'WIN_20180926_17_38_25_Pro_Stop_new,Stop_new,2\\n',\n",
       "       'WIN_20180926_16_52_10_Pro_Thumbs_Up_new,Thumbs_Up_new,4\\n',\n",
       "       'WIN_20180925_18_01_30_Pro_Stop_new,Stop_new,2\\n',\n",
       "       'WIN_20180926_16_57_26_Pro_Left_Swipe_new,Left_Swipe_new,0\\n',\n",
       "       'WIN_20180926_16_54_07_Pro_Stop_new,Stop_new,2\\n',\n",
       "       'WIN_20180925_18_07_19_Pro_Left_Swipe_new,Left_Swipe_new,0\\n',\n",
       "       'WIN_20180925_18_21_50_Pro_Thumbs_Down_new,Thumbs_Down_new,3\\n',\n",
       "       'WIN_20180925_17_26_34_Pro_Right_Swipe_new,Right_Swipe_new,1\\n',\n",
       "       'WIN_20180926_16_59_55_Pro_Thumbs_Down_new,Thumbs_Down_new,3\\n',\n",
       "       'WIN_20180925_18_01_52_Pro_Stop_new,Stop_new,2\\n',\n",
       "       'WIN_20180926_17_15_56_Pro_Right_Swipe_new,Right_Swipe_new,1\\n',\n",
       "       'WIN_20180926_17_41_15_Pro_Thumbs_Up_new,Thumbs_Up_new,4\\n',\n",
       "       'WIN_20180926_17_22_08_Pro_Thumbs_Down_new,Thumbs_Down_new,3\\n',\n",
       "       'WIN_20180907_15_49_14_Pro_Thumbs Down_new,Thumbs Down_new,3\\n',\n",
       "       'WIN_20180925_18_16_51_Pro_Right_Swipe_new,Right_Swipe_new,1\\n',\n",
       "       'WIN_20180926_17_19_12_Pro_Left_Swipe_new,Left_Swipe_new,0\\n',\n",
       "       'WIN_20180907_16_06_35_Pro_Thumbs Down_new,Thumbs Down_new,3\\n',\n",
       "       'WIN_20180925_18_01_26_Pro_Right_Swipe_new,Right_Swipe_new,1\\n',\n",
       "       'WIN_20180907_16_24_20_Pro_Thumbs Down_new,Thumbs Down_new,3\\n',\n",
       "       'WIN_20180907_16_56_18_Pro_Stop Gesture_new,Stop Gesture_new,2\\n',\n",
       "       'WIN_20180925_17_37_30_Pro_Left_Swipe_new,Left_Swipe_new,0\\n',\n",
       "       'WIN_20180925_17_33_08_Pro_Left_Swipe_new,Left_Swipe_new,0\\n',\n",
       "       'WIN_20180925_18_11_52_Pro_Right_Swipe_new,Right_Swipe_new,1\\n',\n",
       "       'WIN_20180907_16_08_56_Pro_Thumbs Up_new,Thumbs Up_new,4\\n',\n",
       "       'WIN_20180925_17_27_40_Pro_Left_Swipe_new,Left_Swipe_new,0\\n',\n",
       "       'WIN_20180925_17_24_49_Pro_Left_Swipe_new,Left_Swipe_new,0\\n',\n",
       "       'WIN_20180925_17_42_50_Pro_Thumbs_Down_new,Thumbs_Down_new,3\\n',\n",
       "       'WIN_20180907_15_54_27_Pro_Thumbs Down_new,Thumbs Down_new,3\\n',\n",
       "       'WIN_20180907_15_44_13_Pro_Stop Gesture_new,Stop Gesture_new,2\\n',\n",
       "       'WIN_20180907_15_54_42_Pro_Left Swipe_new_Left Swipe_new,Left Swipe_new_Left Swipe_new,0\\n',\n",
       "       'WIN_20180926_16_40_53_Pro_Thumbs_Down_new,Thumbs_Down_new,3\\n',\n",
       "       'WIN_20180907_16_07_57_Pro_Left Swipe_new_Left Swipe_new,Left Swipe_new_Left Swipe_new,0\\n',\n",
       "       'WIN_20180925_17_50_59_Pro_Right_Swipe_new,Right_Swipe_new,1\\n',\n",
       "       'WIN_20180907_16_22_23_Pro_Right Swipe_new,Right Swipe_new,1\\n',\n",
       "       'WIN_20180926_16_49_49_Pro_Thumbs_Up_new,Thumbs_Up_new,4\\n',\n",
       "       'WIN_20180925_17_35_39_Pro_Left_Swipe_new,Left_Swipe_new,0\\n',\n",
       "       'WIN_20180925_17_56_00_Pro_Right_Swipe_new,Right_Swipe_new,1\\n',\n",
       "       'WIN_20180926_17_00_32_Pro_Left_Swipe_new,Left_Swipe_new,0\\n',\n",
       "       'WIN_20180907_16_15_15_Pro_Thumbs Down_new,Thumbs Down_new,3\\n',\n",
       "       'WIN_20180907_17_03_16_Pro_Right Swipe_new,Right Swipe_new,1\\n',\n",
       "       'WIN_20180926_16_59_03_Pro_Thumbs_Down_new,Thumbs_Down_new,3\\n',\n",
       "       'WIN_20180926_17_43_44_Pro_Thumbs_Down_new,Thumbs_Down_new,3\\n',\n",
       "       'WIN_20180907_15_55_22_Pro_Stop Gesture_new,Stop Gesture_new,2\\n',\n",
       "       'WIN_20180926_17_43_57_Pro_Stop_new,Stop_new,2\\n',\n",
       "       'WIN_20180907_16_13_56_Pro_Left Swipe_new_Left Swipe_new,Left Swipe_new_Left Swipe_new,0\\n',\n",
       "       'WIN_20180925_17_44_25_Pro_Stop_new,Stop_new,2\\n',\n",
       "       'WIN_20180926_17_37_02_Pro_Stop_new,Stop_new,2\\n',\n",
       "       'WIN_20180926_17_45_57_Pro_Thumbs_Down_new,Thumbs_Down_new,3\\n',\n",
       "       'WIN_20180926_17_40_43_Pro_Thumbs_Down_new,Thumbs_Down_new,3\\n',\n",
       "       'WIN_20180925_17_36_58_Pro_Right_Swipe_new,Right_Swipe_new,1\\n',\n",
       "       'WIN_20180907_16_22_00_Pro_Thumbs Up_new,Thumbs Up_new,4\\n',\n",
       "       'WIN_20180907_15_45_40_Pro_Left Swipe_new_Left Swipe_new,Left Swipe_new_Left Swipe_new,0\\n',\n",
       "       'WIN_20180926_17_19_35_Pro_Right_Swipe_new,Right_Swipe_new,1\\n',\n",
       "       'WIN_20180926_17_30_50_Pro_Stop_new,Stop_new,2\\n',\n",
       "       'WIN_20180907_15_43_00_Pro_Left Swipe_new_Left Swipe_new,Left Swipe_new_Left Swipe_new,0\\n',\n",
       "       'WIN_20180926_16_51_04_Pro_Stop_new,Stop_new,2\\n',\n",
       "       'WIN_20180926_17_21_38_Pro_Thumbs_Up_new,Thumbs_Up_new,4\\n',\n",
       "       'WIN_20180926_17_16_29_Pro_Left_Swipe_new,Left_Swipe_new,0\\n',\n",
       "       'WIN_20180926_17_16_10_Pro_Left_Swipe_new,Left_Swipe_new,0\\n',\n",
       "       'WIN_20180926_17_33_51_Pro_Thumbs_Up_new,Thumbs_Up_new,4\\n',\n",
       "       'WIN_20180926_17_19_06_Pro_Thumbs_Down_new,Thumbs_Down_new,3\\n',\n",
       "       'WIN_20180925_17_58_10_Pro_Stop_new,Stop_new,2\\n',\n",
       "       'WIN_20180907_15_41_54_Pro_Right Swipe_new,Right Swipe_new,1\\n',\n",
       "       'WIN_20180907_16_21_11_Pro_Stop Gesture_new,Stop Gesture_new,2\\n',\n",
       "       'WIN_20180926_16_52_36_Pro_Stop_new,Stop_new,2\\n',\n",
       "       'WIN_20180925_18_28_41_Pro_Thumbs_Down_new,Thumbs_Down_new,3\\n',\n",
       "       'WIN_20180907_15_56_07_Pro_Stop Gesture_new,Stop Gesture_new,2\\n',\n",
       "       'WIN_20180907_16_50_16_Pro_Right Swipe_new,Right Swipe_new,1\\n',\n",
       "       'WIN_20180907_16_38_23_Pro_Thumbs Up_new,Thumbs Up_new,4\\n',\n",
       "       'WIN_20180926_16_42_06_Pro_Right_Swipe_new,Right_Swipe_new,1\\n',\n",
       "       'WIN_20180925_18_07_19_Pro_Thumbs_Up_new,Thumbs_Up_new,4\\n',\n",
       "       'WIN_20180926_16_55_16_Pro_Right_Swipe_new,Right_Swipe_new,1\\n',\n",
       "       'WIN_20180907_15_56_32_Pro_Left Swipe_new_Left Swipe_new,Left Swipe_new_Left Swipe_new,0\\n',\n",
       "       'WIN_20180925_17_26_51_Pro_Left_Swipe_new,Left_Swipe_new,0\\n',\n",
       "       'WIN_20180926_17_27_33_Pro_Right_Swipe_new,Right_Swipe_new,1\\n',\n",
       "       'WIN_20180907_16_27_09_Pro_Thumbs Up_new,Thumbs Up_new,4\\n',\n",
       "       'WIN_20180926_16_53_28_Pro_Thumbs_Up_new,Thumbs_Up_new,4\\n',\n",
       "       'WIN_20180907_16_26_02_Pro_Thumbs Up_new,Thumbs Up_new,4\\n',\n",
       "       'WIN_20180926_16_53_30_Pro_Stop_new,Stop_new,2\\n',\n",
       "       'WIN_20180926_17_23_38_Pro_Thumbs_Down_new,Thumbs_Down_new,3\\n',\n",
       "       'WIN_20180907_16_16_27_Pro_Left Swipe_new_Left Swipe_new,Left Swipe_new_Left Swipe_new,0\\n',\n",
       "       'WIN_20180925_17_17_26_Pro_Right_Swipe_new,Right_Swipe_new,1\\n',\n",
       "       'WIN_20180926_17_43_17_Pro_Right_Swipe_new,Right_Swipe_new,1\\n',\n",
       "       'WIN_20180925_17_37_42_Pro_Stop_new,Stop_new,2\\n',\n",
       "       'WIN_20180926_17_10_21_Pro_Left_Swipe_new,Left_Swipe_new,0\\n',\n",
       "       'WIN_20180907_16_11_06_Pro_Stop Gesture_new,Stop Gesture_new,2\\n',\n",
       "       'WIN_20180907_16_29_34_Pro_Right Swipe_new,Right Swipe_new,1',\n",
       "       'WIN_20180925_18_13_15_Pro_Thumbs_Down_new,Thumbs_Down_new,3\\n',\n",
       "       'WIN_20180907_16_10_07_Pro_Thumbs Down_new,Thumbs Down_new,3\\n',\n",
       "       'WIN_20180926_17_01_07_Pro_Thumbs_Up_new,Thumbs_Up_new,4\\n',\n",
       "       'WIN_20180926_17_15_10_Pro_Stop_new,Stop_new,2\\n',\n",
       "       'WIN_20180925_17_31_02_Pro_Right_Swipe_new,Right_Swipe_new,1\\n',\n",
       "       'WIN_20180926_16_54_48_Pro_Left_Swipe_new,Left_Swipe_new,0\\n',\n",
       "       'WIN_20180926_17_28_21_Pro_Right_Swipe_new,Right_Swipe_new,1\\n',\n",
       "       'WIN_20180926_17_47_06_Pro_Stop_new,Stop_new,2\\n',\n",
       "       'WIN_20180925_17_50_17_Pro_Thumbs_Down_new,Thumbs_Down_new,3\\n',\n",
       "       'WIN_20180907_16_14_53_Pro_Stop Gesture_new,Stop Gesture_new,2\\n',\n",
       "       'WIN_20180926_17_40_52_Pro_Right_Swipe_new,Right_Swipe_new,1\\n',\n",
       "       'WIN_20180926_17_21_20_Pro_Right_Swipe_new,Right_Swipe_new,1\\n',\n",
       "       'WIN_20180926_17_35_35_Pro_Thumbs_Down_new,Thumbs_Down_new,3\\n',\n",
       "       'WIN_20180907_16_12_20_Pro_Right Swipe_new,Right Swipe_new,1\\n',\n",
       "       'WIN_20180926_17_27_48_Pro_Thumbs_Up_new,Thumbs_Up_new,4\\n',\n",
       "       'WIN_20180925_17_50_44_Pro_Left_Swipe_new,Left_Swipe_new,0\\n',\n",
       "       'WIN_20180925_17_43_33_Pro_Thumbs_Down_new,Thumbs_Down_new,3\\n',\n",
       "       'WIN_20180926_17_30_24_Pro_Right_Swipe_new,Right_Swipe_new,1\\n',\n",
       "       'WIN_20180926_16_48_32_Pro_Thumbs_Up_new,Thumbs_Up_new,4\\n',\n",
       "       'WIN_20180926_17_10_34_Pro_Right_Swipe_new,Right_Swipe_new,1\\n',\n",
       "       'WIN_20180926_17_35_12_Pro_Thumbs_Down_new,Thumbs_Down_new,3\\n',\n",
       "       'WIN_20180926_17_15_12_Pro_Left_Swipe_new,Left_Swipe_new,0\\n'],\n",
       "      dtype='<U88')"
      ]
     },
     "execution_count": 6,
     "metadata": {},
     "output_type": "execute_result"
    }
   ],
   "source": [
    "val_doc"
   ]
  },
  {
   "cell_type": "code",
   "execution_count": 7,
   "metadata": {},
   "outputs": [
    {
     "data": {
      "text/plain": [
       "array(['WIN_20180926_17_05_38_Pro_Left_Swipe_new;Left_Swipe_new;0\\n',\n",
       "       'WIN_20180925_17_58_08_Pro_Thumbs_Up_new;Thumbs_Up_new;4\\n',\n",
       "       'WIN_20180907_16_29_12_Pro_Thumbs Down_new;Thumbs Down_new;3\\n',\n",
       "       'WIN_20180926_17_21_48_Pro_Left_Swipe_new;Left_Swipe_new;0\\n',\n",
       "       'WIN_20180907_15_38_42_Pro_Thumbs Up_new;Thumbs Up_new;4\\n',\n",
       "       'WIN_20180925_17_52_42_Pro_Stop_new;Stop_new;2\\n',\n",
       "       'WIN_20180926_17_15_35_Pro_Left_Swipe_new;Left_Swipe_new;0\\n',\n",
       "       'WIN_20180926_17_33_49_Pro_Stop_new;Stop_new;2\\n',\n",
       "       'WIN_20180926_16_52_49_Pro_Right_Swipe_new;Right_Swipe_new;1\\n',\n",
       "       'WIN_20180907_16_18_23_Pro_Thumbs Down_new;Thumbs Down_new;3\\n',\n",
       "       'WIN_20180926_16_47_44_Pro_Stop_new;Stop_new;2\\n',\n",
       "       'WIN_20180926_17_09_33_Pro_Left_Swipe_new;Left_Swipe_new;0\\n',\n",
       "       'WIN_20180926_16_47_09_Pro_Left_Swipe_new;Left_Swipe_new;0\\n',\n",
       "       'WIN_20180926_17_29_34_Pro_Right_Swipe_new;Right_Swipe_new;1\\n',\n",
       "       'WIN_20180926_17_35_34_Pro_Right_Swipe_new;Right_Swipe_new;1\\n',\n",
       "       'WIN_20180907_16_02_09_Pro_Thumbs Down_new;Thumbs Down_new;3\\n',\n",
       "       'WIN_20180907_15_42_17_Pro_Stop Gesture_new;Stop Gesture_new;2\\n',\n",
       "       'WIN_20180926_17_32_55_Pro_Left_Swipe_new;Left_Swipe_new;0\\n',\n",
       "       'WIN_20180925_18_03_21_Pro_Left_Swipe_new;Left_Swipe_new;0\\n',\n",
       "       'WIN_20180907_16_33_15_Pro_Thumbs Down_new;Thumbs Down_new;3\\n',\n",
       "       'WIN_20180907_15_42_25_Pro_Thumbs Down_new;Thumbs Down_new;3\\n',\n",
       "       'WIN_20180926_16_57_50_Pro_Thumbs_Down_new;Thumbs_Down_new;3\\n',\n",
       "       'WIN_20180926_17_40_21_Pro_Left_Swipe_new;Left_Swipe_new;0\\n',\n",
       "       'WIN_20180907_15_43_36_Pro_Thumbs Up_new;Thumbs Up_new;4\\n',\n",
       "       'WIN_20180907_15_57_43_Pro_Right Swipe_new;Right Swipe_new;1\\n',\n",
       "       'WIN_20180926_16_46_22_Pro_Left_Swipe_new;Left_Swipe_new;0\\n',\n",
       "       'WIN_20180925_17_48_16_Pro_Thumbs_Down_new;Thumbs_Down_new;3\\n',\n",
       "       'WIN_20180907_15_30_06_Pro_Right Swipe_new;Right Swipe_new;1\\n',\n",
       "       'WIN_20180926_17_03_57_Pro_Right_Swipe_new;Right_Swipe_new;1\\n',\n",
       "       'WIN_20180926_17_01_52_Pro_Right_Swipe_new;Right_Swipe_new;1\\n',\n",
       "       'WIN_20180926_17_08_09_Pro_Left_Swipe_new;Left_Swipe_new;0\\n',\n",
       "       'WIN_20180925_18_01_40_Pro_Left_Swipe_new;Left_Swipe_new;0\\n',\n",
       "       'WIN_20180907_15_45_43_Pro_Right Swipe_new;Right Swipe_new;1\\n',\n",
       "       'WIN_20180925_17_35_04_Pro_Thumbs_Up_new;Thumbs_Up_new;4\\n',\n",
       "       'WIN_20180907_16_20_53_Pro_Right Swipe_new;Right Swipe_new;1\\n',\n",
       "       'WIN_20180926_17_09_45_Pro_Thumbs_Down_new;Thumbs_Down_new;3\\n',\n",
       "       'WIN_20180907_16_36_42_Pro_Left Swipe_new_Left Swipe_new;Left Swipe_new_Left Swipe_new;0\\n',\n",
       "       'WIN_20180907_16_14_16_Pro_Stop Gesture_new;Stop Gesture_new;2\\n',\n",
       "       'WIN_20180926_17_56_52_Pro_Right_Swipe_new;Right_Swipe_new;1\\n',\n",
       "       'WIN_20180907_16_14_40_Pro_Right Swipe_new;Right Swipe_new;1\\n',\n",
       "       'WIN_20180907_16_10_59_Pro_Thumbs Up_new;Thumbs Up_new;4\\n',\n",
       "       'WIN_20180907_16_39_59_Pro_Thumbs Up_new;Thumbs Up_new;4',\n",
       "       'WIN_20180925_17_30_40_Pro_Stop_new;Stop_new;2\\n',\n",
       "       'WIN_20180907_15_54_30_Pro_Thumbs Up_new;Thumbs Up_new;4\\n',\n",
       "       'WIN_20180926_17_33_14_Pro_Stop_new;Stop_new;2\\n',\n",
       "       'WIN_20180926_16_43_34_Pro_Thumbs_Up_new;Thumbs_Up_new;4\\n',\n",
       "       'WIN_20180907_15_52_05_Pro_Thumbs Up_new;Thumbs Up_new;4\\n',\n",
       "       'WIN_20180926_17_34_23_Pro_Thumbs_Down_new;Thumbs_Down_new;3\\n',\n",
       "       'WIN_20180926_16_44_04_Pro_Thumbs_Down_new;Thumbs_Down_new;3\\n',\n",
       "       'WIN_20180925_17_40_03_Pro_Stop_new;Stop_new;2\\n',\n",
       "       'WIN_20180925_17_43_46_Pro_Right_Swipe_new;Right_Swipe_new;1\\n',\n",
       "       'WIN_20180925_17_43_01_Pro_Left_Swipe_new;Left_Swipe_new;0\\n',\n",
       "       'WIN_20180907_15_55_06_Pro_Right Swipe_new;Right Swipe_new;1\\n',\n",
       "       'WIN_20180926_17_32_15_Pro_Stop_new;Stop_new;2\\n',\n",
       "       'WIN_20180926_17_33_14_Pro_Right_Swipe_new;Right_Swipe_new;1\\n',\n",
       "       'WIN_20180925_17_47_07_Pro_Thumbs_Up_new;Thumbs_Up_new;4\\n',\n",
       "       'WIN_20180925_17_49_40_Pro_Stop_new;Stop_new;2\\n',\n",
       "       'WIN_20180907_16_02_38_Pro_Right Swipe_new;Right Swipe_new;1\\n',\n",
       "       'WIN_20180907_16_16_48_Pro_Stop Gesture_new;Stop Gesture_new;2\\n',\n",
       "       'WIN_20180907_16_13_24_Pro_Thumbs Down_new;Thumbs Down_new;3\\n',\n",
       "       'WIN_20180925_17_38_43_Pro_Thumbs_Up_new;Thumbs_Up_new;4\\n',\n",
       "       'WIN_20180925_17_59_48_Pro_Thumbs_Up_new;Thumbs_Up_new;4\\n',\n",
       "       'WIN_20180907_16_09_35_Pro_Thumbs Down_new;Thumbs Down_new;3\\n',\n",
       "       'WIN_20180907_16_25_57_Pro_Right Swipe_new;Right Swipe_new;1\\n',\n",
       "       'WIN_20180926_17_24_12_Pro_Right_Swipe_new;Right_Swipe_new;1\\n',\n",
       "       'WIN_20180907_16_17_35_Pro_Stop Gesture_new;Stop Gesture_new;2\\n',\n",
       "       'WIN_20180926_17_05_38_Pro_Thumbs_Down_new;Thumbs_Down_new;3\\n',\n",
       "       'WIN_20180926_17_32_40_Pro_Stop_new;Stop_new;2\\n',\n",
       "       'WIN_20180926_16_48_48_Pro_Stop_new;Stop_new;2\\n',\n",
       "       'WIN_20180907_15_47_33_Pro_Thumbs Down_new;Thumbs Down_new;3\\n',\n",
       "       'WIN_20180926_17_06_40_Pro_Thumbs_Up_new;Thumbs_Up_new;4\\n',\n",
       "       'WIN_20180925_17_25_06_Pro_Right_Swipe_new;Right_Swipe_new;1\\n',\n",
       "       'WIN_20180926_16_48_40_Pro_Right_Swipe_new;Right_Swipe_new;1\\n',\n",
       "       'WIN_20180907_16_00_42_Pro_Left Swipe_new_Left Swipe_new;Left Swipe_new_Left Swipe_new;0\\n',\n",
       "       'WIN_20180926_17_04_53_Pro_Stop_new;Stop_new;2\\n',\n",
       "       'WIN_20180926_17_08_11_Pro_Stop_new;Stop_new;2\\n',\n",
       "       'WIN_20180925_17_17_04_Pro_Left_Swipe_new;Left_Swipe_new;0\\n',\n",
       "       'WIN_20180926_17_14_26_Pro_Thumbs_Up_new;Thumbs_Up_new;4\\n',\n",
       "       'WIN_20180925_17_42_34_Pro_Thumbs_Up_new;Thumbs_Up_new;4\\n',\n",
       "       'WIN_20180907_16_31_41_Pro_Stop Gesture_new;Stop Gesture_new;2\\n',\n",
       "       'WIN_20180926_17_24_20_Pro_Thumbs_Down_new;Thumbs_Down_new;3\\n',\n",
       "       'WIN_20180925_17_50_24_Pro_Thumbs_Down_new;Thumbs_Down_new;3\\n',\n",
       "       'WIN_20180926_17_28_32_Pro_Thumbs_Up_new;Thumbs_Up_new;4\\n',\n",
       "       'WIN_20180926_17_44_14_Pro_Thumbs_Down_new;Thumbs_Down_new;3\\n',\n",
       "       'WIN_20180926_16_37_56_Pro_Stop_new;Stop_new;2\\n',\n",
       "       'WIN_20180907_16_07_10_Pro_Thumbs Down_new;Thumbs Down_new;3\\n',\n",
       "       'WIN_20180926_17_12_27_Pro_Right_Swipe_new;Right_Swipe_new;1\\n',\n",
       "       'WIN_20180925_17_32_32_Pro_Stop_new;Stop_new;2\\n',\n",
       "       'WIN_20180907_16_30_54_Pro_Stop Gesture_new;Stop Gesture_new;2\\n',\n",
       "       'WIN_20180907_16_20_15_Pro_Stop Gesture_new;Stop Gesture_new;2\\n',\n",
       "       'WIN_20180907_15_45_04_Pro_Left Swipe_new_Left Swipe_new;Left Swipe_new_Left Swipe_new;0\\n',\n",
       "       'WIN_20180907_16_25_44_Pro_Stop Gesture_new;Stop Gesture_new;2\\n',\n",
       "       'WIN_20180926_17_13_25_Pro_Thumbs_Down_new;Thumbs_Down_new;3\\n',\n",
       "       'WIN_20180907_16_21_39_Pro_Left Swipe_new_Left Swipe_new;Left Swipe_new_Left Swipe_new;0\\n',\n",
       "       'WIN_20180925_17_35_29_Pro_Thumbs_Down_new;Thumbs_Down_new;3\\n',\n",
       "       'WIN_20180925_17_33_30_Pro_Thumbs_Down_new;Thumbs_Down_new;3\\n',\n",
       "       'WIN_20180926_17_34_05_Pro_Right_Swipe_new;Right_Swipe_new;1\\n',\n",
       "       'WIN_20180907_16_05_10_Pro_Right Swipe_new;Right Swipe_new;1\\n',\n",
       "       'WIN_20180907_15_50_39_Pro_Right Swipe_new;Right Swipe_new;1\\n',\n",
       "       'WIN_20180907_16_05_32_Pro_Left Swipe_new_Left Swipe_new;Left Swipe_new_Left Swipe_new;0\\n'],\n",
       "      dtype='<U88')"
      ]
     },
     "execution_count": 7,
     "metadata": {},
     "output_type": "execute_result"
    }
   ],
   "source": [
    "test_doc"
   ]
  },
  {
   "cell_type": "markdown",
   "metadata": {},
   "source": [
    "## Data Preprocessing \n",
    "Following steps are followed:\n",
    "1. Resized the image and cropped smaller image shape at center for 120*120\n",
    "2. Normalized Images\n",
    "3. Built 3D and 2D filter function \n",
    "4. Established function to get batch data for preprocessing Convo3D"
   ]
  },
  {
   "cell_type": "code",
   "execution_count": 8,
   "metadata": {
    "id": "1xrANziuvu_x"
   },
   "outputs": [],
   "source": [
    "def cropResize(image, y, z):\n",
    "    h, w = image.shape\n",
    "    \n",
    "    # if smaller image crop at center for 120x120\n",
    "    if w == 160:\n",
    "        image = image[:120, 20:140]\n",
    "\n",
    "    # resize every image\n",
    "    return resize(image, (y,z))"
   ]
  },
  {
   "cell_type": "code",
   "execution_count": 9,
   "metadata": {
    "id": "KhGrETufvu_y"
   },
   "outputs": [],
   "source": [
    "def normalizeImage(image):\n",
    "    # applying normalization\n",
    "    return image/255.0"
   ]
  },
  {
   "cell_type": "code",
   "execution_count": 10,
   "metadata": {
    "id": "-qd1bxIZvu_y"
   },
   "outputs": [],
   "source": [
    "def preprocessImage(image, y, z):\n",
    "    return normalizeImage(cropResize(image, y, z))"
   ]
  },
  {
   "cell_type": "code",
   "execution_count": 11,
   "metadata": {
    "id": "LNgZq2e-vu_z"
   },
   "outputs": [],
   "source": [
    "def make3dFilter(x):\n",
    "    return tuple([x]*3)\n",
    "\n",
    "def make2dFilter(x):\n",
    "    return tuple([x]*2)"
   ]
  },
  {
   "cell_type": "code",
   "execution_count": 12,
   "metadata": {
    "id": "-yPBgXECvu_z"
   },
   "outputs": [],
   "source": [
    "def getBatchData(source_path, t, batch, batch_size, img_tensor):\n",
    "    [x,y,z] = [len(img_tensor[0]),img_tensor[1], img_tensor[2]]\n",
    "    img_idx = img_tensor[0]\n",
    "    batch_data = np.zeros((batch_size,x,y,z,3)) # x is the number of images you use for each video, (y,z) is the final size of the input images and 3 is the number of channels RGB\n",
    "    batch_labels = np.zeros((batch_size,5)) # batch_labels is the one hot representation of the output\n",
    "    for folder in range(batch_size): # iterate over the batch_size\n",
    "        imgs = os.listdir(source_path+'/'+ t[folder + (batch*batch_size)].split(';')[0]) # read all the images in the folder\n",
    "        for idx,item in enumerate(img_idx): #  Iterate iver the frames/images of a folder to read them in\n",
    "            image = imread(source_path+'/'+ t[folder + (batch*batch_size)].strip().split(';')[0]+'/'+imgs[item]).astype(np.float32)\n",
    "\n",
    "            #crop the images and resize them. Note that the images are of 2 different shape \n",
    "            #and the conv3D will throw error if the inputs in a batch have different shapes\n",
    "\n",
    "            # separate preprocessImage function is defined for cropping, resizing and normalizing images\n",
    "            batch_data[folder,idx,:,:,0] = preprocessImage(image[:, :, 0], y, z)\n",
    "            batch_data[folder,idx,:,:,1] = preprocessImage(image[:, :, 1], y, z)\n",
    "            batch_data[folder,idx,:,:,2] = preprocessImage(image[:, :, 2], y, z)\n",
    "\n",
    "        batch_labels[folder, int(t[folder + (batch*batch_size)].strip().split(';')[2])] = 1\n",
    "    return batch_data, batch_labels"
   ]
  },
  {
   "cell_type": "code",
   "execution_count": 22,
   "metadata": {
    "id": "-yPBgXECvu_z"
   },
   "outputs": [],
   "source": [
    "def getBatchData(source_path, t, batch, batch_size, img_tensor):\n",
    "    [x,y,z] = [len(img_tensor[0]),img_tensor[1], img_tensor[2]]\n",
    "    img_idx = img_tensor[0]\n",
    "    batch_data = np.zeros((batch_size,x,y,z,3)) # x is the number of images you use for each video, (y,z) is the final size of the input images and 3 is the number of channels RGB\n",
    "    batch_labels = np.zeros((batch_size,5)) # batch_labels is the one hot representation of the output\n",
    "    for folder in range(batch_size): # iterate over the batch_size\n",
    "        imgs = os.listdir(source_path+'/'+ t[folder + (batch*batch_size)].split(',')[0]) # read all the images in the folder\n",
    "        for idx,item in enumerate(img_idx): #  Iterate iver the frames/images of a folder to read them in\n",
    "            image = imread(source_path+'/'+ t[folder + (batch*batch_size)].strip().split(',')[0]+'/'+imgs[item]).astype(np.float32)\n",
    "\n",
    "            #crop the images and resize them. Note that the images are of 2 different shape \n",
    "            #and the conv3D will throw error if the inputs in a batch have different shapes\n",
    "\n",
    "            # separate preprocessImage function is defined for cropping, resizing and normalizing images\n",
    "            batch_data[folder,idx,:,:,0] = preprocessImage(image[:, :, 0], y, z)\n",
    "            batch_data[folder,idx,:,:,1] = preprocessImage(image[:, :, 1], y, z)\n",
    "            batch_data[folder,idx,:,:,2] = preprocessImage(image[:, :, 2], y, z)\n",
    "\n",
    "        batch_labels[folder, int(t[folder + (batch*batch_size)].strip().split(',')[2])] = 1\n",
    "    return batch_data, batch_labels"
   ]
  },
  {
   "cell_type": "markdown",
   "metadata": {
    "id": "DGY4lrhhvu_w"
   },
   "source": [
    "## Generator Establishment\n",
    "Since the dataset contains 2 types of dimensions, a \"generator\" is build to preprocess the images for `2D` and `3D` dimensions, as well as create `a batch of video frames`. We experiment with `img_idx`, `y`,`z` and normalization such that to achieve a high accuracy outcome."
   ]
  },
  {
   "cell_type": "code",
   "execution_count": 13,
   "metadata": {
    "id": "eA6r1IMmvu_0"
   },
   "outputs": [],
   "source": [
    "def generator(source_path, folder_list, batch_size, img_tensor):\n",
    "    print( 'Source path = ', source_path, '; batch size =', batch_size)\n",
    "    while True:\n",
    "        t = np.random.permutation(folder_list)\n",
    "        num_batches = int(len(folder_list)/batch_size)\n",
    "        for batch in range(num_batches): # we iterate over the number of batches\n",
    "            yield getBatchData(source_path, t, batch, batch_size, img_tensor)\n",
    "        \n",
    "        # write the code for the remaining data points which are left after full batches\n",
    "        # checking if any remaining batches are there or not\n",
    "        if len(folder_list)%batch_size != 0:\n",
    "            # updated the batch size and yield\n",
    "            batch_size = len(folder_list)%batch_size\n",
    "            yield getBatchData(source_path, t, batch, batch_size, img_tensor)"
   ]
  },
  {
   "cell_type": "markdown",
   "metadata": {
    "id": "tzNpErbFvu_1"
   },
   "source": [
    "Note: a video is represented above in the generator as (number of images, height, width, number of channels)"
   ]
  },
  {
   "cell_type": "code",
   "execution_count": 14,
   "metadata": {},
   "outputs": [
    {
     "name": "stdout",
     "output_type": "stream",
     "text": [
      "# training sequences = 530\n",
      "# validation sequences = 133\n",
      "# Test sequences = 100\n",
      "# epochs = 10\n"
     ]
    }
   ],
   "source": [
    "curr_dt_time = datetime.datetime.now()\n",
    "train_path = './Project_data/train'\n",
    "val_path = './Project_data/val'\n",
    "test_path = './Project_data/test'\n",
    "num_train_sequences = len(train_doc)\n",
    "print('# training sequences =', num_train_sequences)\n",
    "num_val_sequences = len(val_doc)\n",
    "print('# validation sequences =', num_val_sequences)\n",
    "num_test_sequences = len(test_doc)\n",
    "print('# Test sequences =', num_test_sequences)\n",
    "num_epochs = 10\n",
    "print ('# epochs =', num_epochs)"
   ]
  },
  {
   "cell_type": "code",
   "execution_count": 15,
   "metadata": {
    "id": "w2bDaqWXvu_4",
    "outputId": "22dc4b0e-3f48-401c-f469-4298839963c9"
   },
   "outputs": [
    {
     "name": "stdout",
     "output_type": "stream",
     "text": [
      "# img_tensor = [array([ 0,  2,  3,  5,  6,  8,  9, 11, 12, 14, 15, 17, 18, 20, 21, 23, 24,\n",
      "       26, 27, 29]), 100, 100, 3]\n"
     ]
    }
   ],
   "source": [
    "def getImgTensor(n_frames):\n",
    "    img_idx = np.round(np.linspace(0, 29, n_frames)).astype(int)\n",
    "    return [img_idx, 100, 100, 3]\n",
    "\n",
    "# define image tensor size\n",
    "img_tensor = getImgTensor(20)\n",
    "print ('# img_tensor =', img_tensor)"
   ]
  },
  {
   "cell_type": "markdown",
   "metadata": {
    "id": "TEzkB8pzvu_5"
   },
   "source": [
    "### Generator Validation"
   ]
  },
  {
   "cell_type": "code",
   "execution_count": 23,
   "metadata": {
    "id": "PKXoahGbvu_7",
    "outputId": "3cdcf0c4-8eea-4e1d-e822-7c473f5a1c90",
    "scrolled": false
   },
   "outputs": [
    {
     "name": "stdout",
     "output_type": "stream",
     "text": [
      "Source path =  ./Project_data/train ; batch size = 64\n",
      "(64, 20, 100, 100, 3)\n",
      "Source path =  ./Project_data/val ; batch size = 64\n",
      "(64, 20, 100, 100, 3)\n"
     ]
    }
   ],
   "source": [
    "# check complete batch shape\n",
    "sample_generator = generator(train_path, train_doc, batch_size, img_tensor)\n",
    "sample_batch_data, sample_batch_labels = next(sample_generator)\n",
    "print(sample_batch_data.shape)\n",
    "\n",
    "# validation batch sample\n",
    "sample_val_generator = generator(val_path, val_doc, batch_size, img_tensor)\n",
    "sample_val_batch_data, sample_val_batch_labels = next(sample_val_generator)\n",
    "print(sample_val_batch_data.shape)"
   ]
  },
  {
   "cell_type": "code",
   "execution_count": 24,
   "metadata": {
    "id": "Xl6e7d0Ovu_8",
    "outputId": "f431fb7f-88f7-497a-a4a5-e017f5faab17"
   },
   "outputs": [
    {
     "data": {
      "image/png": "[encoded data removed]",
      "text/plain": [
       "<Figure size 432x288 with 2 Axes>"
      ]
     },
     "metadata": {
      "needs_background": "light"
     },
     "output_type": "display_data"
    }
   ],
   "source": [
    "# plot generated sample images\n",
    "fig, ax = plt.subplots(1,2)\n",
    "ax[0].imshow(sample_val_batch_data[15,10,:,:,:])   \n",
    "ax[1].imshow(sample_val_batch_data[5,10,:,:,:])\n",
    "plt.show()"
   ]
  },
  {
   "cell_type": "code",
   "execution_count": 25,
   "metadata": {
    "id": "k3HvPgOPvu_-"
   },
   "outputs": [],
   "source": [
    "def plotModelHistory(h):\n",
    "    fig, ax = plt.subplots(1, 2, figsize=(15,4))\n",
    "    ax[0].plot(h.history['loss'])   \n",
    "    ax[0].plot(h.history['val_loss'])\n",
    "    ax[0].legend(['loss','val_loss'])\n",
    "    ax[0].title.set_text(\"Train loss vs Validation loss\")\n",
    "\n",
    "    ax[1].plot(h.history['categorical_accuracy'])   \n",
    "    ax[1].plot(h.history['val_categorical_accuracy'])\n",
    "    ax[1].legend(['categorical_accuracy','val_categorical_accuracy'])\n",
    "    ax[1].title.set_text(\"Train accuracy vs Validation accuracy\")\n",
    "    plt.show()\n",
    "\n",
    "    print(\"Max. Training Accuracy\", max(h.history['categorical_accuracy']))\n",
    "    print(\"Max. Validaiton Accuracy\", max(h.history['val_categorical_accuracy']))"
   ]
  },
  {
   "cell_type": "markdown",
   "metadata": {
    "id": "dcGAuU41vu__"
   },
   "source": [
    "## Model Building\n",
    "Team College aim to develop the best model that is able to train with high accuracy and without any errors. To achieve the goal, following Models have been used for tryouts:\n",
    "\n",
    "1. `Conv3D` with `MaxPooling3D` for a 3D convolution model \n",
    "2. `TimeDistributed` while building a Conv2D + RNN model\n",
    "3. `CNN LSTM with GRU` for augmentation\n",
    "\n",
    "Moreover, for each model, we set the last layer is the softmax so that the least number of parameters can fit in the memory of the webcam. Hence to perform a good accuracy on the least number of parameters."
   ]
  },
  {
   "cell_type": "code",
   "execution_count": 26,
   "metadata": {
    "id": "BlVvi0S9vvAA"
   },
   "outputs": [],
   "source": [
    "from keras.models import Sequential, Model\n",
    "from keras.layers import Dense, GRU, Flatten, TimeDistributed, Flatten, BatchNormalization, Activation, Dropout, LSTM\n",
    "from keras.layers.convolutional import Conv3D, MaxPooling3D, Conv2D, MaxPooling2D\n",
    "from keras.callbacks import ModelCheckpoint, ReduceLROnPlateau\n",
    "from keras import optimizers"
   ]
  },
  {
   "cell_type": "markdown",
   "metadata": {
    "id": "9A0Y13yhvvAA"
   },
   "source": [
    "### Base Model"
   ]
  },
  {
   "cell_type": "code",
   "execution_count": 29,
   "metadata": {
    "id": "jD0uh84WvvAB",
    "outputId": "19a9cef8-30ee-4ce2-9869-20d2fd58bfe5"
   },
   "outputs": [
    {
     "ename": "AttributeError",
     "evalue": "module 'keras.optimizers' has no attribute 'Adam'",
     "output_type": "error",
     "traceback": [
      "\u001b[0;31m---------------------------------------------------------------------------\u001b[0m",
      "\u001b[0;31mAttributeError\u001b[0m                            Traceback (most recent call last)",
      "Input \u001b[0;32mIn [29]\u001b[0m, in \u001b[0;36m<cell line: 32>\u001b[0;34m()\u001b[0m\n\u001b[1;32m     29\u001b[0m     model\u001b[38;5;241m.\u001b[39mcompile(optimizer\u001b[38;5;241m=\u001b[39moptimizers\u001b[38;5;241m.\u001b[39mAdam(), loss\u001b[38;5;241m=\u001b[39m\u001b[38;5;124m'\u001b[39m\u001b[38;5;124mcategorical_crossentropy\u001b[39m\u001b[38;5;124m'\u001b[39m, metrics\u001b[38;5;241m=\u001b[39m[\u001b[38;5;124m'\u001b[39m\u001b[38;5;124mcategorical_accuracy\u001b[39m\u001b[38;5;124m'\u001b[39m])\n\u001b[1;32m     30\u001b[0m     \u001b[38;5;28;01mreturn\u001b[39;00m model\n\u001b[0;32m---> 32\u001b[0m model \u001b[38;5;241m=\u001b[39m \u001b[43mdefineModel\u001b[49m\u001b[43m(\u001b[49m\u001b[43mimg_tensor\u001b[49m\u001b[43m)\u001b[49m\n\u001b[1;32m     33\u001b[0m model\u001b[38;5;241m.\u001b[39msummary()\n",
      "Input \u001b[0;32mIn [29]\u001b[0m, in \u001b[0;36mdefineModel\u001b[0;34m(img_tensor)\u001b[0m\n\u001b[1;32m      3\u001b[0m inputShape \u001b[38;5;241m=\u001b[39m (\u001b[38;5;28mlen\u001b[39m(img_tensor[\u001b[38;5;241m0\u001b[39m]), img_tensor[\u001b[38;5;241m1\u001b[39m], img_tensor[\u001b[38;5;241m2\u001b[39m], img_tensor[\u001b[38;5;241m3\u001b[39m])\n\u001b[1;32m      5\u001b[0m model \u001b[38;5;241m=\u001b[39m Sequential([\n\u001b[1;32m      6\u001b[0m     Conv3D(\u001b[38;5;241m16\u001b[39m, make3dFilter(\u001b[38;5;241m5\u001b[39m), activation\u001b[38;5;241m=\u001b[39m\u001b[38;5;124m'\u001b[39m\u001b[38;5;124mrelu\u001b[39m\u001b[38;5;124m'\u001b[39m, input_shape\u001b[38;5;241m=\u001b[39minputShape),\n\u001b[1;32m      7\u001b[0m     MaxPooling3D(make3dFilter(\u001b[38;5;241m2\u001b[39m), padding\u001b[38;5;241m=\u001b[39m\u001b[38;5;124m'\u001b[39m\u001b[38;5;124msame\u001b[39m\u001b[38;5;124m'\u001b[39m),\n\u001b[0;32m   (...)\u001b[0m\n\u001b[1;32m     27\u001b[0m     Dense(\u001b[38;5;241m5\u001b[39m, activation\u001b[38;5;241m=\u001b[39m\u001b[38;5;124m'\u001b[39m\u001b[38;5;124msoftmax\u001b[39m\u001b[38;5;124m'\u001b[39m)\n\u001b[1;32m     28\u001b[0m ])\n\u001b[0;32m---> 29\u001b[0m model\u001b[38;5;241m.\u001b[39mcompile(optimizer\u001b[38;5;241m=\u001b[39m\u001b[43moptimizers\u001b[49m\u001b[38;5;241;43m.\u001b[39;49m\u001b[43mAdam\u001b[49m(), loss\u001b[38;5;241m=\u001b[39m\u001b[38;5;124m'\u001b[39m\u001b[38;5;124mcategorical_crossentropy\u001b[39m\u001b[38;5;124m'\u001b[39m, metrics\u001b[38;5;241m=\u001b[39m[\u001b[38;5;124m'\u001b[39m\u001b[38;5;124mcategorical_accuracy\u001b[39m\u001b[38;5;124m'\u001b[39m])\n\u001b[1;32m     30\u001b[0m \u001b[38;5;28;01mreturn\u001b[39;00m model\n",
      "\u001b[0;31mAttributeError\u001b[0m: module 'keras.optimizers' has no attribute 'Adam'"
     ]
    }
   ],
   "source": [
    "#write your model here\n",
    "def defineModel(img_tensor):\n",
    "    inputShape = (len(img_tensor[0]), img_tensor[1], img_tensor[2], img_tensor[3])\n",
    "\n",
    "    model = Sequential([\n",
    "        Conv3D(16, make3dFilter(5), activation='relu', input_shape=inputShape),\n",
    "        MaxPooling3D(make3dFilter(2), padding='same'),\n",
    "        BatchNormalization(),\n",
    "\n",
    "        Conv3D(32, make3dFilter(3), activation='relu'),\n",
    "        MaxPooling3D(pool_size=(1,2,2), padding='same'),\n",
    "        BatchNormalization(),\n",
    "\n",
    "        Conv3D(64, make3dFilter(3), activation='relu'),\n",
    "        MaxPooling3D(pool_size=(1,2,2), padding='same'),\n",
    "        BatchNormalization(),\n",
    "\n",
    "        Flatten(),\n",
    "        Dense(128, activation='relu'),\n",
    "        BatchNormalization(),\n",
    "        Dropout(0.25),\n",
    "\n",
    "        Dense(64, activation='relu'),\n",
    "        BatchNormalization(),\n",
    "        Dropout(0.25),\n",
    "\n",
    "        Dense(5, activation='softmax')\n",
    "    ])\n",
    "    model.compile(optimizer=optimizers.Adam(), loss='categorical_crossentropy', metrics=['categorical_accuracy'])\n",
    "    return model\n",
    "\n",
    "model = defineModel(img_tensor)\n",
    "model.summary()"
   ]
  },
  {
   "cell_type": "code",
   "execution_count": 32,
   "metadata": {
    "id": "jD0uh84WvvAB",
    "outputId": "19a9cef8-30ee-4ce2-9869-20d2fd58bfe5"
   },
   "outputs": [
    {
     "name": "stdout",
     "output_type": "stream",
     "text": [
      "Model: \"sequential_4\"\n",
      "_________________________________________________________________\n",
      " Layer (type)                Output Shape              Param #   \n",
      "=================================================================\n",
      " conv3d_12 (Conv3D)          (None, 16, 96, 96, 16)    6016      \n",
      "                                                                 \n",
      " max_pooling3d_12 (MaxPoolin  (None, 8, 48, 48, 16)    0         \n",
      " g3D)                                                            \n",
      "                                                                 \n",
      " batch_normalization_20 (Bat  (None, 8, 48, 48, 16)    64        \n",
      " chNormalization)                                                \n",
      "                                                                 \n",
      " conv3d_13 (Conv3D)          (None, 6, 46, 46, 32)     13856     \n",
      "                                                                 \n",
      " max_pooling3d_13 (MaxPoolin  (None, 6, 23, 23, 32)    0         \n",
      " g3D)                                                            \n",
      "                                                                 \n",
      " batch_normalization_21 (Bat  (None, 6, 23, 23, 32)    128       \n",
      " chNormalization)                                                \n",
      "                                                                 \n",
      " conv3d_14 (Conv3D)          (None, 4, 21, 21, 64)     55360     \n",
      "                                                                 \n",
      " max_pooling3d_14 (MaxPoolin  (None, 4, 11, 11, 64)    0         \n",
      " g3D)                                                            \n",
      "                                                                 \n",
      " batch_normalization_22 (Bat  (None, 4, 11, 11, 64)    256       \n",
      " chNormalization)                                                \n",
      "                                                                 \n",
      " flatten_4 (Flatten)         (None, 30976)             0         \n",
      "                                                                 \n",
      " dense_12 (Dense)            (None, 128)               3965056   \n",
      "                                                                 \n",
      " batch_normalization_23 (Bat  (None, 128)              512       \n",
      " chNormalization)                                                \n",
      "                                                                 \n",
      " dropout_8 (Dropout)         (None, 128)               0         \n",
      "                                                                 \n",
      " dense_13 (Dense)            (None, 64)                8256      \n",
      "                                                                 \n",
      " batch_normalization_24 (Bat  (None, 64)               256       \n",
      " chNormalization)                                                \n",
      "                                                                 \n",
      " dropout_9 (Dropout)         (None, 64)                0         \n",
      "                                                                 \n",
      " dense_14 (Dense)            (None, 5)                 325       \n",
      "                                                                 \n",
      "=================================================================\n",
      "Total params: 4,050,085\n",
      "Trainable params: 4,049,477\n",
      "Non-trainable params: 608\n",
      "_________________________________________________________________\n"
     ]
    }
   ],
   "source": [
    "#write your model here\n",
    "def defineModel(img_tensor):\n",
    "    inputShape = (len(img_tensor[0]), img_tensor[1], img_tensor[2], img_tensor[3])\n",
    "    \n",
    "    opt = tf.keras.optimizers.Adam()\n",
    "\n",
    "    model = Sequential([\n",
    "        Conv3D(16, make3dFilter(5), activation='relu', input_shape=inputShape),\n",
    "        MaxPooling3D(make3dFilter(2), padding='same'),\n",
    "        BatchNormalization(),\n",
    "\n",
    "        Conv3D(32, make3dFilter(3), activation='relu'),\n",
    "        MaxPooling3D(pool_size=(1,2,2), padding='same'),\n",
    "        BatchNormalization(),\n",
    "\n",
    "        Conv3D(64, make3dFilter(3), activation='relu'),\n",
    "        MaxPooling3D(pool_size=(1,2,2), padding='same'),\n",
    "        BatchNormalization(),\n",
    "\n",
    "        Flatten(),\n",
    "        Dense(128, activation='relu'),\n",
    "        BatchNormalization(),\n",
    "        Dropout(0.25),\n",
    "\n",
    "        Dense(64, activation='relu'),\n",
    "        BatchNormalization(),\n",
    "        Dropout(0.25),\n",
    "\n",
    "        Dense(5, activation='softmax')\n",
    "    ])\n",
    "    model.compile(opt, loss='categorical_crossentropy', metrics=['categorical_accuracy'])\n",
    "    return model\n",
    "\n",
    "model = defineModel(img_tensor)\n",
    "model.summary()"
   ]
  },
  {
   "cell_type": "code",
   "execution_count": 33,
   "metadata": {
    "id": "1SFrztx4vvAE"
   },
   "outputs": [],
   "source": [
    "train_generator = generator(train_path, train_doc, batch_size, img_tensor)\n",
    "val_generator = generator(val_path, val_doc, batch_size, img_tensor)"
   ]
  },
  {
   "cell_type": "markdown",
   "metadata": {
    "id": "TshGKBpyvvAF"
   },
   "source": [
    "The `steps_per_epoch` and `validation_steps` are used by `fit_generator` to decide the number of next() calls it need to make."
   ]
  },
  {
   "cell_type": "code",
   "execution_count": 34,
   "metadata": {
    "id": "hNW5OuAsvvAF"
   },
   "outputs": [],
   "source": [
    "if (num_train_sequences%batch_size) == 0:\n",
    "    steps_per_epoch = int(num_train_sequences/batch_size)\n",
    "else:\n",
    "    steps_per_epoch = (num_train_sequences//batch_size) + 1\n",
    "\n",
    "if (num_val_sequences%batch_size) == 0:\n",
    "    validation_steps = int(num_val_sequences/batch_size)\n",
    "else:\n",
    "    validation_steps = (num_val_sequences//batch_size) + 1"
   ]
  },
  {
   "cell_type": "markdown",
   "metadata": {
    "id": "YnIglXSuRxNs"
   },
   "source": [
    "### Model Callbacks Setup1 _ CheckPoint Callback -- Need further develpoment\n",
    "you can try one of the callbasks for now"
   ]
  },
  {
   "cell_type": "code",
   "execution_count": 35,
   "metadata": {
    "id": "hWzVNhUhRqpL",
    "outputId": "fa5a4f82-483e-490d-83ad-9a495943280c"
   },
   "outputs": [],
   "source": [
    "model_name = 'model_init' + '_' + str(curr_dt_time).replace(' ','').replace(':','_') + '/'\n",
    "    \n",
    "if not os.path.exists(model_name):\n",
    "    os.mkdir(model_name)\n",
    "\n",
    "filepath = model_name + 'model-{epoch:05d}-{loss:.5f}-{categorical_accuracy:.5f}-{val_loss:.5f}-{val_categorical_accuracy:.5f}.h5'\n",
    "\n",
    "checkpoint = ModelCheckpoint(filepath, monitor='val_loss', verbose=1, save_best_only=False, save_weights_only=False, mode='auto', save_fre='epoch')\n",
    "\n",
    "LR = ReduceLROnPlateau(monitor='val_loss', factor=0.2, verbose=1, patience=4)\n",
    "\n",
    "callbacks_list = [checkpoint, LR]\n",
    "callbacks_list = [LR]"
   ]
  },
  {
   "cell_type": "markdown",
   "metadata": {},
   "source": [
    "### Model Callbacks Setup2 _ Tensorboard Callback"
   ]
  },
  {
   "cell_type": "code",
   "execution_count": 36,
   "metadata": {},
   "outputs": [],
   "source": [
    "model_name = 'model_init' + '_' + str(curr_dt_time).replace(' ','').replace(':','_') + '/'\n",
    "    \n",
    "if not os.path.exists(model_name):\n",
    "    os.mkdir(model_name)\n",
    "\n",
    "#filepath = model_name + 'model-{epoch:05d}-{loss:.5f}-{categorical_accuracy:.5f}-{val_loss:.5f}-{val_categorical_accuracy:.5f}.h5'\n",
    "\n",
    "checkpoint2 = tf.keras.callbacks.TensorBoard(log_dir='logs', histogram_freq=0, write_graph=True,write_images=False, write_steps_per_second=False, update_freq='epoch',\n",
    "    profile_batch=0, embeddings_freq=0, embeddings_metadata=None)\n",
    "\n",
    "LR2 = ReduceLROnPlateau(monitor='val_loss', factor=0.2, verbose=1, patience=4)\n",
    "\n",
    "callbacks_list = [checkpoint2, LR2]\n",
    "callbacks_list = [LR2]"
   ]
  },
  {
   "cell_type": "markdown",
   "metadata": {},
   "source": [
    "### Model Callbacks Setup3 _ EarlyStop Callback"
   ]
  },
  {
   "cell_type": "code",
   "execution_count": 37,
   "metadata": {},
   "outputs": [],
   "source": [
    "model_name = 'model_init' + '_' + str(curr_dt_time).replace(' ','').replace(':','_') + '/'\n",
    "    \n",
    "if not os.path.exists(model_name):\n",
    "    os.mkdir(model_name)\n",
    "\n",
    "#filepath = model_name + 'model-{epoch:05d}-{loss:.5f}-{categorical_accuracy:.5f}-{val_loss:.5f}-{val_categorical_accuracy:.5f}.h5'\n",
    "\n",
    "checkpoint3 = tf.keras.callbacks.EarlyStopping(monitor='val_loss', patience=2, min_delta=0, verbose=1,mode='auto', baseline=None, restore_best_weights=False)\n",
    "\n",
    "LR3 = ReduceLROnPlateau(monitor='val_loss', factor=0.2, verbose=1, patience=4)\n",
    "\n",
    "callbacks_list = [checkpoint3, LR3]\n",
    "callbacks_list = [LR3]"
   ]
  },
  {
   "cell_type": "markdown",
   "metadata": {
    "id": "-hem7-SrSZme"
   },
   "source": [
    "### Test Batch Size & Frames"
   ]
  },
  {
   "cell_type": "code",
   "execution_count": 38,
   "metadata": {
    "id": "ez2ESV-vHPKA"
   },
   "outputs": [],
   "source": [
    "def testBatchSize(batch_size, n_frames):\n",
    "    img_tensor = getImgTensor(n_frames)\n",
    "    print(\"Using frames as\", img_tensor[0])\n",
    "    global callbacks_list\n",
    "    num_epochs = 3\n",
    "    train_generator = generator(train_path, train_doc, batch_size, img_tensor)\n",
    "    val_generator = generator(val_path, val_doc, batch_size, img_tensor)\n",
    "    if (num_train_sequences%batch_size) == 0:\n",
    "        steps_per_epoch = int(num_train_sequences/batch_size)\n",
    "    else:\n",
    "        steps_per_epoch = (num_train_sequences//batch_size) + 1\n",
    "\n",
    "    if (num_val_sequences%batch_size) == 0:\n",
    "        validation_steps = int(num_val_sequences/batch_size)\n",
    "    else:\n",
    "        validation_steps = (num_val_sequences//batch_size) + 1\n",
    "\n",
    "    model = defineModel(img_tensor)\n",
    "    model.fit_generator(train_generator, steps_per_epoch=steps_per_epoch, epochs=num_epochs, verbose=1, \n",
    "                callbacks=callbacks_list, validation_data=val_generator, \n",
    "                validation_steps=validation_steps, class_weight=None, workers=1, initial_epoch=0)"
   ]
  },
  {
   "cell_type": "code",
   "execution_count": null,
   "metadata": {},
   "outputs": [
    {
     "name": "stdout",
     "output_type": "stream",
     "text": [
      "Using frames as [ 0  1  2  3  4  5  6  7  8  9 10 11 12 13 14 15 16 17 18 19 20 21 22 23\n",
      " 24 25 26 27 28 29]\n",
      "Source path =  ./Project_data/train ; batch size = 64\n",
      "Epoch 1/3\n"
     ]
    },
    {
     "name": "stderr",
     "output_type": "stream",
     "text": [
      "2022-03-01 20:27:15.778270: I tensorflow/core/grappler/optimizers/custom_graph_optimizer_registry.cc:113] Plugin optimizer for device_type GPU is enabled.\n"
     ]
    }
   ],
   "source": [
    "testBatchSize(batch_size=64, n_frames=30)"
   ]
  },
  {
   "cell_type": "code",
   "execution_count": null,
   "metadata": {},
   "outputs": [],
   "source": [
    "testBatchSize(batch_size=64, n_frames=16)"
   ]
  },
  {
   "cell_type": "code",
   "execution_count": null,
   "metadata": {},
   "outputs": [],
   "source": [
    "testBatchSize(batch_size=32, n_frames=30)"
   ]
  },
  {
   "cell_type": "code",
   "execution_count": null,
   "metadata": {},
   "outputs": [],
   "source": [
    "testBatchSize(batch_size=32, n_frames=16)"
   ]
  },
  {
   "cell_type": "markdown",
   "metadata": {
    "id": "Vh1IZvwiajxA"
   },
   "source": [
    "With above observations, we can see that batch size is not impacting training time but number of frames. We will use batch size of 64 as it seems optimal. It is commented as it takes a lot of time to run that is restricting for the notebook to completely run."
   ]
  },
  {
   "cell_type": "markdown",
   "metadata": {
    "id": "TRxSBVQgbPHo"
   },
   "source": [
    "### Model 1 - Frames-16, Epoc-20"
   ]
  },
  {
   "cell_type": "code",
   "execution_count": null,
   "metadata": {
    "id": "e9Z5A_HNZgyP",
    "outputId": "68c3c78f-354e-43a9-8534-c8d9c61cdc21"
   },
   "outputs": [],
   "source": [
    "n_frames = 16\n",
    "num_epochs = 20\n",
    "batch_size = 64\n",
    "\n",
    "img_tensor = getImgTensor(n_frames)\n",
    "train_generator = generator(train_path, train_doc, batch_size, img_tensor)\n",
    "val_generator = generator(val_path, val_doc, batch_size, img_tensor)\n",
    "\n",
    "if (num_train_sequences%batch_size) == 0:\n",
    "    steps_per_epoch = int(num_train_sequences/batch_size)\n",
    "else:\n",
    "    steps_per_epoch = (num_train_sequences//batch_size) + 1\n",
    "\n",
    "if (num_val_sequences%batch_size) == 0:\n",
    "    validation_steps = int(num_val_sequences/batch_size)\n",
    "else:\n",
    "    validation_steps = (num_val_sequences//batch_size) + 1\n",
    "    \n",
    "inputShape = (len(img_tensor[0]), img_tensor[1], img_tensor[2], img_tensor[3])\n",
    "\n",
    "model1 = Sequential([\n",
    "    Conv3D(16, make3dFilter(5), activation='relu', input_shape=inputShape),\n",
    "    MaxPooling3D(make3dFilter(2), padding='same'),\n",
    "    BatchNormalization(),\n",
    "\n",
    "    Conv3D(32, make3dFilter(3), activation='relu'),\n",
    "    MaxPooling3D(pool_size=(1,2,2), padding='same'),\n",
    "    BatchNormalization(),\n",
    "\n",
    "    Conv3D(64, make3dFilter(3), activation='relu'),\n",
    "    MaxPooling3D(pool_size=(1,2,2), padding='same'),\n",
    "    BatchNormalization(),\n",
    "\n",
    "    Flatten(),\n",
    "    Dense(128, activation='relu'),\n",
    "    BatchNormalization(),\n",
    "    Dropout(0.25),\n",
    "\n",
    "    Dense(64, activation='relu'),\n",
    "    BatchNormalization(),\n",
    "    Dropout(0.25),\n",
    "\n",
    "    Dense(5, activation='softmax')\n",
    "], name=\"conv_3d1\")\n",
    "model1.compile(optimizer=optimizers.Adam(), loss='categorical_crossentropy', metrics=['categorical_accuracy'])\n",
    "print(model1.summary())\n",
    "\n",
    "model1_history = model1.fit_generator(train_generator, steps_per_epoch=steps_per_epoch, epochs=num_epochs, verbose=1, \n",
    "            callbacks=callbacks_list, validation_data=val_generator, \n",
    "            validation_steps=validation_steps, class_weight=None, workers=1, initial_epoch=0)"
   ]
  },
  {
   "cell_type": "code",
   "execution_count": null,
   "metadata": {
    "id": "YfeBXCls1r7R",
    "outputId": "c7ad7297-9bdc-4b0b-816d-5c86c63ee254"
   },
   "outputs": [],
   "source": [
    "plotModelHistory(model1_history)"
   ]
  },
  {
   "cell_type": "markdown",
   "metadata": {
    "id": "skhLjh_vyXfR"
   },
   "source": [
    "### Model 2: Playground for whatever model you would like to try"
   ]
  },
  {
   "cell_type": "code",
   "execution_count": null,
   "metadata": {},
   "outputs": [],
   "source": []
  }
 ],
 "metadata": {
  "kernelspec": {
   "display_name": "894env",
   "language": "python",
   "name": "894env"
  },
  "language_info": {
   "codemirror_mode": {
    "name": "ipython",
    "version": 3
   },
   "file_extension": ".py",
   "mimetype": "text/x-python",
   "name": "python",
   "nbconvert_exporter": "python",
   "pygments_lexer": "ipython3",
   "version": "3.8.5"
  }
 },
 "nbformat": 4,
 "nbformat_minor": 4
}
