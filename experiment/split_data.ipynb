{
 "cells": [
  {
   "cell_type": "code",
   "execution_count": 1,
   "id": "ff338427",
   "metadata": {},
   "outputs": [],
   "source": [
    "import os\n",
    "import random\n",
    "import pandas as pd\n",
    "import shutil"
   ]
  },
  {
   "cell_type": "code",
   "execution_count": 2,
   "id": "6e221941",
   "metadata": {},
   "outputs": [
    {
     "data": {
      "text/html": [
       "<div>\n",
       "<style scoped>\n",
       "    .dataframe tbody tr th:only-of-type {\n",
       "        vertical-align: middle;\n",
       "    }\n",
       "\n",
       "    .dataframe tbody tr th {\n",
       "        vertical-align: top;\n",
       "    }\n",
       "\n",
       "    .dataframe thead th {\n",
       "        text-align: right;\n",
       "    }\n",
       "</style>\n",
       "<table border=\"1\" class=\"dataframe\">\n",
       "  <thead>\n",
       "    <tr style=\"text-align: right;\">\n",
       "      <th></th>\n",
       "      <th>0</th>\n",
       "      <th>1</th>\n",
       "      <th>2</th>\n",
       "    </tr>\n",
       "  </thead>\n",
       "  <tbody>\n",
       "    <tr>\n",
       "      <th>0</th>\n",
       "      <td>WIN_20180925_17_08_43_Pro_Left_Swipe_new</td>\n",
       "      <td>Left_Swipe_new</td>\n",
       "      <td>0</td>\n",
       "    </tr>\n",
       "    <tr>\n",
       "      <th>1</th>\n",
       "      <td>WIN_20180925_17_18_28_Pro_Left_Swipe_new</td>\n",
       "      <td>Left_Swipe_new</td>\n",
       "      <td>0</td>\n",
       "    </tr>\n",
       "    <tr>\n",
       "      <th>2</th>\n",
       "      <td>WIN_20180925_17_18_56_Pro_Left_Swipe_new</td>\n",
       "      <td>Left_Swipe_new</td>\n",
       "      <td>0</td>\n",
       "    </tr>\n",
       "    <tr>\n",
       "      <th>3</th>\n",
       "      <td>WIN_20180925_17_19_51_Pro_Left_Swipe_new</td>\n",
       "      <td>Left_Swipe_new</td>\n",
       "      <td>0</td>\n",
       "    </tr>\n",
       "    <tr>\n",
       "      <th>4</th>\n",
       "      <td>WIN_20180925_17_20_14_Pro_Left_Swipe_new</td>\n",
       "      <td>Left_Swipe_new</td>\n",
       "      <td>0</td>\n",
       "    </tr>\n",
       "    <tr>\n",
       "      <th>...</th>\n",
       "      <td>...</td>\n",
       "      <td>...</td>\n",
       "      <td>...</td>\n",
       "    </tr>\n",
       "    <tr>\n",
       "      <th>658</th>\n",
       "      <td>WIN_20180907_16_38_23_Pro_Thumbs Up_new</td>\n",
       "      <td>Thumbs Up_new</td>\n",
       "      <td>4</td>\n",
       "    </tr>\n",
       "    <tr>\n",
       "      <th>659</th>\n",
       "      <td>WIN_20180907_16_41_09_Pro_Thumbs Up_new</td>\n",
       "      <td>Thumbs Up_new</td>\n",
       "      <td>4</td>\n",
       "    </tr>\n",
       "    <tr>\n",
       "      <th>660</th>\n",
       "      <td>WIN_20180907_16_42_05_Pro_Thumbs Up_new</td>\n",
       "      <td>Thumbs Up_new</td>\n",
       "      <td>4</td>\n",
       "    </tr>\n",
       "    <tr>\n",
       "      <th>661</th>\n",
       "      <td>WIN_20180907_16_42_55_Pro_Thumbs Up_new</td>\n",
       "      <td>Thumbs Up_new</td>\n",
       "      <td>4</td>\n",
       "    </tr>\n",
       "    <tr>\n",
       "      <th>662</th>\n",
       "      <td>WIN_20180907_16_43_39_Pro_Thumbs Up_new</td>\n",
       "      <td>Thumbs Up_new</td>\n",
       "      <td>4</td>\n",
       "    </tr>\n",
       "  </tbody>\n",
       "</table>\n",
       "<p>663 rows × 3 columns</p>\n",
       "</div>"
      ],
      "text/plain": [
       "                                            0               1  2\n",
       "0    WIN_20180925_17_08_43_Pro_Left_Swipe_new  Left_Swipe_new  0\n",
       "1    WIN_20180925_17_18_28_Pro_Left_Swipe_new  Left_Swipe_new  0\n",
       "2    WIN_20180925_17_18_56_Pro_Left_Swipe_new  Left_Swipe_new  0\n",
       "3    WIN_20180925_17_19_51_Pro_Left_Swipe_new  Left_Swipe_new  0\n",
       "4    WIN_20180925_17_20_14_Pro_Left_Swipe_new  Left_Swipe_new  0\n",
       "..                                        ...             ... ..\n",
       "658   WIN_20180907_16_38_23_Pro_Thumbs Up_new   Thumbs Up_new  4\n",
       "659   WIN_20180907_16_41_09_Pro_Thumbs Up_new   Thumbs Up_new  4\n",
       "660   WIN_20180907_16_42_05_Pro_Thumbs Up_new   Thumbs Up_new  4\n",
       "661   WIN_20180907_16_42_55_Pro_Thumbs Up_new   Thumbs Up_new  4\n",
       "662   WIN_20180907_16_43_39_Pro_Thumbs Up_new   Thumbs Up_new  4\n",
       "\n",
       "[663 rows x 3 columns]"
      ]
     },
     "execution_count": 2,
     "metadata": {},
     "output_type": "execute_result"
    }
   ],
   "source": [
    "source_path = '../project_data'\n",
    "df = pd.read_csv(f\"../project_data/train.csv\", header=None, sep=';')\n",
    "df"
   ]
  },
  {
   "cell_type": "code",
   "execution_count": 3,
   "id": "602b7e2c",
   "metadata": {},
   "outputs": [],
   "source": [
    "random_rows = random.sample(range(len(df)), round(len(df)/5))"
   ]
  },
  {
   "cell_type": "code",
   "execution_count": 4,
   "id": "05089e9d",
   "metadata": {},
   "outputs": [],
   "source": [
    "train_df = df.drop(random_rows, axis=0)\n",
    "val_df = df.iloc[random_rows]\n",
    "assert len(val_df) + len(train_df) == len(df)"
   ]
  },
  {
   "cell_type": "code",
   "execution_count": 5,
   "id": "0114b70e",
   "metadata": {},
   "outputs": [],
   "source": [
    "def get_user_input(question):\n",
    "    while True:\n",
    "        value = input(question)\n",
    "        if value.lower() not in ['y', 'yes', 'n', 'no']:\n",
    "            continue\n",
    "        else:\n",
    "            break\n",
    "    return value\n",
    "\n",
    "\n",
    "def create_train_val_folders(train_df, val_df, train_out=f'{source_path}/new_train', val_out=f'{source_path}/new_val'):\n",
    "    for folder in [train_out, val_out]:\n",
    "        print(f\"checking {folder}\")\n",
    "        if os.path.isdir(folder):\n",
    "            to_delete = get_user_input(f\"Folder {folder} already exist, do you want to continue? [y/n]\")\n",
    "            if to_delete.lower()[0] == 'y':\n",
    "                print(f\"Recreating folder: {folder}\")\n",
    "                os.system(f\"rm -rf {folder}\")\n",
    "                os.system(f\"mkdir {folder}\")\n",
    "            else:\n",
    "                print('Please rename your output folder and try again later')\n",
    "        else:\n",
    "            print(f\"creating {folder}\")\n",
    "            os.system(f\"mkdir {folder}\")\n",
    "    num = 0\n",
    "    train_folders = []\n",
    "    val_folders = []\n",
    "    for i in train_df[0]:\n",
    "        num += 1\n",
    "        os.system(f'cp -r \"{source_path}/train/{i}\" \"{source_path}/{train_out}/{i}\"')\n",
    "        train_folders.append(i)\n",
    "    for i in val_df[0]:\n",
    "        num += 1\n",
    "        os.system(f'cp -r \"{source_path}/train/{i}\" \"{source_path}/{val_out}/{i}\"')\n",
    "        val_folders.append(i)\n",
    "    print(\"Spliting data complete, total data processed\", str(num))\n",
    "    return train_folders, val_folders\n",
    "                "
   ]
  },
  {
   "cell_type": "code",
   "execution_count": 6,
   "id": "aa17d25b",
   "metadata": {},
   "outputs": [
    {
     "name": "stdout",
     "output_type": "stream",
     "text": [
      "checking ../project_data/new_train\n",
      "Folder ../project_data/new_train already exist, do you want to continue? [y/n]y\n",
      "Recreating folder: ../project_data/new_train\n",
      "checking ../project_data/new_val\n",
      "Folder ../project_data/new_val already exist, do you want to continue? [y/n]y\n",
      "Recreating folder: ../project_data/new_val\n",
      "Spliting data complete, total data processed 663\n"
     ]
    }
   ],
   "source": [
    "train_folders, val_folders = create_train_val_folders(train_df, val_df, train_out=f'{source_path}/new_train', val_out=f'{source_path}/new_val')"
   ]
  },
  {
   "cell_type": "code",
   "execution_count": 7,
   "id": "659b92c3",
   "metadata": {},
   "outputs": [],
   "source": [
    "root, folders, files = next(os.walk(f'{source_path}/new_train'))"
   ]
  },
  {
   "cell_type": "code",
   "execution_count": 8,
   "id": "5c50376e",
   "metadata": {},
   "outputs": [
    {
     "data": {
      "text/plain": [
       "530"
      ]
     },
     "execution_count": 8,
     "metadata": {},
     "output_type": "execute_result"
    }
   ],
   "source": [
    "len(folders)"
   ]
  },
  {
   "cell_type": "code",
   "execution_count": null,
   "id": "432d04a1",
   "metadata": {},
   "outputs": [],
   "source": []
  }
 ],
 "metadata": {
  "kernelspec": {
   "display_name": "Python 3",
   "language": "python",
   "name": "python3"
  },
  "language_info": {
   "codemirror_mode": {
    "name": "ipython",
    "version": 3
   },
   "file_extension": ".py",
   "mimetype": "text/x-python",
   "name": "python",
   "nbconvert_exporter": "python",
   "pygments_lexer": "ipython3",
   "version": "3.8.8"
  }
 },
 "nbformat": 4,
 "nbformat_minor": 5
}
