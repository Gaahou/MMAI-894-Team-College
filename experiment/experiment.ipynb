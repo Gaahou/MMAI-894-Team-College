{
 "cells": [
  {
   "cell_type": "code",
   "execution_count": 1,
   "id": "96de09ab",
   "metadata": {},
   "outputs": [
    {
     "name": "stdout",
     "output_type": "stream",
     "text": [
      "Requirement already satisfied: torch in /Users/Jiayu/opt/anaconda3/lib/python3.8/site-packages (1.10.2)\r\n",
      "Requirement already satisfied: typing-extensions in /Users/Jiayu/opt/anaconda3/lib/python3.8/site-packages (from torch) (3.7.4.3)\r\n"
     ]
    }
   ],
   "source": [
    "!pip install torch"
   ]
  },
  {
   "cell_type": "code",
   "execution_count": 1,
   "id": "405558ce",
   "metadata": {},
   "outputs": [],
   "source": [
    "! pip freeze | grep skimage"
   ]
  },
  {
   "cell_type": "code",
   "execution_count": 273,
   "id": "9182f3bb",
   "metadata": {},
   "outputs": [],
   "source": [
    "import pandas as pd\n",
    "from sklearn.model_selection import train_test_split\n",
    "from keras.models import Sequential, Model\n",
    "from keras.layers import Dense, Dropout, Conv2D, MaxPooling2D, Flatten, Activation, LSTM\n",
    "from keras.layers.convolutional import Conv3D, MaxPooling3D, Conv2D, MaxPooling2D\n",
    "from keras.utils import np_utils\n",
    "from tensorflow.keras.utils import to_categorical\n",
    "from matplotlib import image\n",
    "from skimage.transform import resize\n",
    "import numpy as np\n",
    "import os\n",
    "import torch"
   ]
  },
  {
   "cell_type": "code",
   "execution_count": 174,
   "id": "f48385a9",
   "metadata": {},
   "outputs": [
    {
     "data": {
      "text/html": [
       "<div>\n",
       "<style scoped>\n",
       "    .dataframe tbody tr th:only-of-type {\n",
       "        vertical-align: middle;\n",
       "    }\n",
       "\n",
       "    .dataframe tbody tr th {\n",
       "        vertical-align: top;\n",
       "    }\n",
       "\n",
       "    .dataframe thead th {\n",
       "        text-align: right;\n",
       "    }\n",
       "</style>\n",
       "<table border=\"1\" class=\"dataframe\">\n",
       "  <thead>\n",
       "    <tr style=\"text-align: right;\">\n",
       "      <th></th>\n",
       "      <th>0</th>\n",
       "      <th>1</th>\n",
       "      <th>2</th>\n",
       "    </tr>\n",
       "  </thead>\n",
       "  <tbody>\n",
       "    <tr>\n",
       "      <th>0</th>\n",
       "      <td>WIN_20180925_17_08_43_Pro_Left_Swipe_new</td>\n",
       "      <td>Left_Swipe_new</td>\n",
       "      <td>0</td>\n",
       "    </tr>\n",
       "    <tr>\n",
       "      <th>1</th>\n",
       "      <td>WIN_20180925_17_18_28_Pro_Left_Swipe_new</td>\n",
       "      <td>Left_Swipe_new</td>\n",
       "      <td>0</td>\n",
       "    </tr>\n",
       "    <tr>\n",
       "      <th>2</th>\n",
       "      <td>WIN_20180925_17_18_56_Pro_Left_Swipe_new</td>\n",
       "      <td>Left_Swipe_new</td>\n",
       "      <td>0</td>\n",
       "    </tr>\n",
       "  </tbody>\n",
       "</table>\n",
       "</div>"
      ],
      "text/plain": [
       "                                          0               1  2\n",
       "0  WIN_20180925_17_08_43_Pro_Left_Swipe_new  Left_Swipe_new  0\n",
       "1  WIN_20180925_17_18_28_Pro_Left_Swipe_new  Left_Swipe_new  0\n",
       "2  WIN_20180925_17_18_56_Pro_Left_Swipe_new  Left_Swipe_new  0"
      ]
     },
     "execution_count": 174,
     "metadata": {},
     "output_type": "execute_result"
    }
   ],
   "source": [
    "data_path = 'data/train'\n",
    "df = pd.read_csv(\"data/train.csv\", header=None, sep=';')\n",
    "df = df[0:3]\n",
    "df"
   ]
  },
  {
   "cell_type": "code",
   "execution_count": 210,
   "id": "d46306a8",
   "metadata": {},
   "outputs": [],
   "source": [
    "def load_images(folder):\n",
    "    loaded_images = []\n",
    "    for img in os.listdir(f'./{data_path}/{folder}'):\n",
    "        img_data = image.imread(f'./{data_path}/{folder}/{img}').astype(np.float32)\n",
    "        image_resized=resize(img_data,(100, 100))\n",
    "        loaded_images.append(image_resized)\n",
    "#     loaded_images = np.concatenate(loaded_images, axis=0 )\n",
    "    loaded_images = np.stack(loaded_images, axis=0)\n",
    "    return loaded_images"
   ]
  },
  {
   "cell_type": "code",
   "execution_count": 229,
   "id": "4aca94a3",
   "metadata": {},
   "outputs": [],
   "source": [
    "def prepare_data(df):\n",
    "    train_df = df.copy()\n",
    "    Y = to_categorical(train_df[2], 5)\n",
    "#     X = train_df.drop([0, 1, 2, 3], axis=1)\n",
    "    X = np.stack(train_df[3], axis=0)\n",
    "    X_train, X_test, y_train, y_test = train_test_split(X, Y, test_size=0.2)\n",
    "    return X_train, X_test, y_train, y_test"
   ]
  },
  {
   "cell_type": "code",
   "execution_count": 230,
   "id": "4551771e",
   "metadata": {},
   "outputs": [],
   "source": [
    "df[3] = df[0].apply(lambda x: load_images(x))\n",
    "# for i in range(29):\n",
    "#     df[f'position_{i+1}'] = df[3].apply(lambda x: x[i])"
   ]
  },
  {
   "cell_type": "code",
   "execution_count": 231,
   "id": "c314ec02",
   "metadata": {},
   "outputs": [],
   "source": [
    "X_train, X_test, y_train, y_test = prepare_data(df)"
   ]
  },
  {
   "cell_type": "code",
   "execution_count": 232,
   "id": "3de00cbf",
   "metadata": {
    "scrolled": true
   },
   "outputs": [
    {
     "name": "stdout",
     "output_type": "stream",
     "text": [
      "X type:  <class 'numpy.ndarray'>\n",
      "y type:  <class 'numpy.ndarray'>\n",
      "X shape:  (2, 30, 100, 100, 3)\n",
      "y shape:  (2, 5)\n"
     ]
    }
   ],
   "source": [
    "print(\"X type: \", type(X_train))\n",
    "print(\"y type: \", type(y_train))\n",
    "print(\"X shape: \", X_train.shape)\n",
    "print(\"y shape: \", y_train.shape)"
   ]
  },
  {
   "cell_type": "code",
   "execution_count": 234,
   "id": "18b886c5",
   "metadata": {},
   "outputs": [
    {
     "data": {
      "text/plain": [
       "numpy.ndarray"
      ]
     },
     "execution_count": 234,
     "metadata": {},
     "output_type": "execute_result"
    }
   ],
   "source": [
    "type(X_train)"
   ]
  },
  {
   "cell_type": "code",
   "execution_count": 290,
   "id": "fece41aa",
   "metadata": {},
   "outputs": [
    {
     "name": "stdout",
     "output_type": "stream",
     "text": [
      "Model: \"sequential_57\"\n",
      "_________________________________________________________________\n",
      " Layer (type)                Output Shape              Param #   \n",
      "=================================================================\n",
      " conv3d_53 (Conv3D)          (None, 30, 100, 100, 16)  1312      \n",
      "                                                                 \n",
      " activation_46 (Activation)  (None, 30, 100, 100, 16)  0         \n",
      "                                                                 \n",
      " batch_normalization_52 (Bat  (None, 30, 100, 100, 16)  64       \n",
      " chNormalization)                                                \n",
      "                                                                 \n",
      " max_pooling3d_37 (MaxPoolin  (None, 15, 50, 50, 16)   0         \n",
      " g3D)                                                            \n",
      "                                                                 \n",
      " conv3d_54 (Conv3D)          (None, 15, 50, 50, 32)    13856     \n",
      "                                                                 \n",
      " activation_47 (Activation)  (None, 15, 50, 50, 32)    0         \n",
      "                                                                 \n",
      " batch_normalization_53 (Bat  (None, 15, 50, 50, 32)   128       \n",
      " chNormalization)                                                \n",
      "                                                                 \n",
      " max_pooling3d_38 (MaxPoolin  (None, 7, 25, 25, 32)    0         \n",
      " g3D)                                                            \n",
      "                                                                 \n",
      " flatten_22 (Flatten)        (None, 140000)            0         \n",
      "                                                                 \n",
      " dense_81 (Dense)            (None, 128)               17920128  \n",
      "                                                                 \n",
      " batch_normalization_54 (Bat  (None, 128)              512       \n",
      " chNormalization)                                                \n",
      "                                                                 \n",
      " dropout_22 (Dropout)        (None, 128)               0         \n",
      "                                                                 \n",
      " dense_82 (Dense)            (None, 64)                8256      \n",
      "                                                                 \n",
      " dense_83 (Dense)            (None, 32)                2080      \n",
      "                                                                 \n",
      " dense_84 (Dense)            (None, 16)                528       \n",
      "                                                                 \n",
      " dense_85 (Dense)            (None, 8)                 136       \n",
      "                                                                 \n",
      " dense_86 (Dense)            (None, 5)                 45        \n",
      "                                                                 \n",
      "=================================================================\n",
      "Total params: 17,947,045\n",
      "Trainable params: 17,946,693\n",
      "Non-trainable params: 352\n",
      "_________________________________________________________________\n"
     ]
    }
   ],
   "source": [
    "def build_model():\n",
    "    model = Sequential()\n",
    "    model.add(Conv3D(16, (3, 3, 3), padding='same',\n",
    "             input_shape=(30,100, 100, 3\n",
    "             )))\n",
    "    model.add(Activation('relu'))\n",
    "    model.add(BatchNormalization())\n",
    "    model.add(MaxPooling3D(pool_size=(2, 2, 2)))\n",
    "    \n",
    "    model.add(Conv3D(32, (3, 3, 3), padding='same',\n",
    "             input_shape=(15,50, 50, 3\n",
    "             )))\n",
    "    model.add(Activation('relu'))\n",
    "    model.add(BatchNormalization())\n",
    "    model.add(MaxPooling3D(pool_size=(2, 2, 2)))\n",
    "    \n",
    "    model.add(Flatten())\n",
    "    model.add(Dense(128,activation='relu'))\n",
    "    model.add(BatchNormalization())\n",
    "    model.add(Dropout(0.5))\n",
    "    model.add(Dense(64,activation='relu'))\n",
    "    model.add(Dense(32,activation='relu'))\n",
    "    model.add(Dense(16,activation='relu'))\n",
    "    model.add(Dense(8,activation='relu'))\n",
    "    model.add(Dense(5,activation='relu'))\n",
    "    model.summary()\n",
    "    return model\n",
    "\n",
    "model = build_model()"
   ]
  },
  {
   "cell_type": "code",
   "execution_count": 291,
   "id": "41b1c44f",
   "metadata": {},
   "outputs": [
    {
     "name": "stdout",
     "output_type": "stream",
     "text": [
      "Epoch 1/12\n",
      "1/1 [==============================] - 2s 2s/step - loss: 16.1181 - accuracy: 0.0000e+00 - val_loss: 16.1181 - val_accuracy: 0.0000e+00\n",
      "Epoch 2/12\n",
      "1/1 [==============================] - 1s 1s/step - loss: nan - accuracy: 0.5000 - val_loss: nan - val_accuracy: 1.0000\n",
      "Epoch 3/12\n",
      "1/1 [==============================] - 1s 1s/step - loss: nan - accuracy: 1.0000 - val_loss: nan - val_accuracy: 1.0000\n",
      "Epoch 4/12\n",
      "1/1 [==============================] - 1s 1s/step - loss: nan - accuracy: 1.0000 - val_loss: nan - val_accuracy: 1.0000\n",
      "Epoch 5/12\n",
      "1/1 [==============================] - 1s 1s/step - loss: nan - accuracy: 1.0000 - val_loss: nan - val_accuracy: 1.0000\n",
      "Epoch 6/12\n",
      "1/1 [==============================] - 1s 1s/step - loss: nan - accuracy: 1.0000 - val_loss: nan - val_accuracy: 1.0000\n",
      "Epoch 7/12\n",
      "1/1 [==============================] - 1s 1s/step - loss: nan - accuracy: 1.0000 - val_loss: nan - val_accuracy: 1.0000\n",
      "Epoch 8/12\n",
      "1/1 [==============================] - 1s 1s/step - loss: nan - accuracy: 1.0000 - val_loss: nan - val_accuracy: 1.0000\n",
      "Epoch 9/12\n",
      "1/1 [==============================] - 1s 1s/step - loss: nan - accuracy: 1.0000 - val_loss: nan - val_accuracy: 1.0000\n",
      "Epoch 10/12\n",
      "1/1 [==============================] - 1s 1s/step - loss: nan - accuracy: 1.0000 - val_loss: nan - val_accuracy: 1.0000\n",
      "Epoch 11/12\n",
      "1/1 [==============================] - 1s 1s/step - loss: nan - accuracy: 1.0000 - val_loss: nan - val_accuracy: 1.0000\n",
      "Epoch 12/12\n",
      "1/1 [==============================] - 1s 1s/step - loss: nan - accuracy: 1.0000 - val_loss: nan - val_accuracy: 1.0000\n"
     ]
    }
   ],
   "source": [
    "def compile_model(model):\n",
    "    model.compile(loss=\"categorical_crossentropy\", optimizer=\"adam\", metrics=[\"accuracy\"])\n",
    "    return model\n",
    "\n",
    "def train_model(model, X_train, Y_train, X_val, Y_val):\n",
    "    batch_size = 128\n",
    "    epochs = 12\n",
    "    history = model.fit(\n",
    "        X_train, Y_train, \n",
    "        batch_size=batch_size, epochs=epochs, \n",
    "        verbose=1, validation_data=(X_val, Y_val)\n",
    "        )\n",
    "    return model, history\n",
    "\n",
    "\n",
    "model = compile_model(model)\n",
    "model, history = train_model(model, X_train, y_train, X_test, y_test)"
   ]
  },
  {
   "cell_type": "code",
   "execution_count": null,
   "id": "90ce1452",
   "metadata": {},
   "outputs": [],
   "source": []
  },
  {
   "cell_type": "code",
   "execution_count": null,
   "id": "638be49d",
   "metadata": {},
   "outputs": [],
   "source": []
  }
 ],
 "metadata": {
  "kernelspec": {
   "display_name": "Python 3",
   "language": "python",
   "name": "python3"
  },
  "language_info": {
   "codemirror_mode": {
    "name": "ipython",
    "version": 3
   },
   "file_extension": ".py",
   "mimetype": "text/x-python",
   "name": "python",
   "nbconvert_exporter": "python",
   "pygments_lexer": "ipython3",
   "version": "3.8.8"
  }
 },
 "nbformat": 4,
 "nbformat_minor": 5
}
